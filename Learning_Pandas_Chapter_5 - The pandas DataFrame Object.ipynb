{
 "cells": [
  {
   "cell_type": "markdown",
   "metadata": {},
   "source": [
    "<h2>Creating a DataFrame from scratch</h2>"
   ]
  },
  {
   "cell_type": "code",
   "execution_count": 1,
   "metadata": {},
   "outputs": [],
   "source": [
    "# Reference numpy and pandas\n",
    "import numpy as np\n",
    "import pandas as pd"
   ]
  },
  {
   "cell_type": "code",
   "execution_count": 2,
   "metadata": {},
   "outputs": [],
   "source": [
    "# Set some pandas options\n",
    "pd.set_option('display.notebook_repr_html', False)\n",
    "pd.set_option('display.max_columns', 10)\n",
    "pd.set_option('display.max_rows', 10)"
   ]
  },
  {
   "cell_type": "markdown",
   "metadata": {},
   "source": [
    "There are several ways to create a DataFrame. Probably the most straightforward way, is\n",
    "by creating it from a NumPy array. The following code creates a DataFrame from a two\n",
    "dimensional NumPy array."
   ]
  },
  {
   "cell_type": "code",
   "execution_count": 3,
   "metadata": {},
   "outputs": [
    {
     "data": {
      "text/plain": [
       "    0   1\n",
       "0  10  11\n",
       "1  20  21"
      ]
     },
     "execution_count": 3,
     "metadata": {},
     "output_type": "execute_result"
    }
   ],
   "source": [
    "# create a DataFrame from a 2-d ndarray\n",
    "pd.DataFrame( np.array( [ [10, 11], [20, 21] ] ) )"
   ]
  },
  {
   "cell_type": "markdown",
   "metadata": {},
   "source": [
    "A DataFrame can also be initialized by passing a list of Series objects."
   ]
  },
  {
   "cell_type": "code",
   "execution_count": 4,
   "metadata": {},
   "outputs": [
    {
     "data": {
      "text/plain": [
       "    0   1   2   3   4\n",
       "0  10  11  12  13  14\n",
       "1  15  16  17  18  19"
      ]
     },
     "execution_count": 4,
     "metadata": {},
     "output_type": "execute_result"
    }
   ],
   "source": [
    "# create a DataFrame for a list of Series objects\n",
    "df1 = pd.DataFrame( [ pd.Series( np.arange(10, 15) ), pd.Series( np.arange(15, 20) ) ] )\n",
    "df1"
   ]
  },
  {
   "cell_type": "markdown",
   "metadata": {},
   "source": [
    "The dimensions of a DataFrame object can be determined using its .shape property. A\n",
    "DataFrame is always two-dimensional. The first value informs us about the number of\n",
    "rows and the second value is the number of columns:"
   ]
  },
  {
   "cell_type": "code",
   "execution_count": 5,
   "metadata": {},
   "outputs": [
    {
     "data": {
      "text/plain": [
       "(2, 5)"
      ]
     },
     "execution_count": 5,
     "metadata": {},
     "output_type": "execute_result"
    }
   ],
   "source": [
    "# what's the shape of this DataFrame\n",
    "df1.shape # it is two rows by 5 columns"
   ]
  },
  {
   "cell_type": "markdown",
   "metadata": {},
   "source": [
    "Column names can be specified at the time of creating the DataFrame by using the\n",
    "columns parameter of the DataFrame constructor."
   ]
  },
  {
   "cell_type": "code",
   "execution_count": 6,
   "metadata": {},
   "outputs": [
    {
     "data": {
      "text/plain": [
       "    a   b\n",
       "0  10  11\n",
       "1  20  21"
      ]
     },
     "execution_count": 6,
     "metadata": {},
     "output_type": "execute_result"
    }
   ],
   "source": [
    "# specify column names\n",
    "df = pd.DataFrame(np.array([ [10, 11], [20, 21] ]), columns=['a', 'b'])\n",
    "df"
   ]
  },
  {
   "cell_type": "markdown",
   "metadata": {},
   "source": [
    "The names of the columns of a DataFrame can be accessed with its .columns property:"
   ]
  },
  {
   "cell_type": "code",
   "execution_count": 7,
   "metadata": {},
   "outputs": [
    {
     "data": {
      "text/plain": [
       "Index(['a', 'b'], dtype='object')"
      ]
     },
     "execution_count": 7,
     "metadata": {},
     "output_type": "execute_result"
    }
   ],
   "source": [
    "# what are the names of the columns?\n",
    "df.columns"
   ]
  },
  {
   "cell_type": "markdown",
   "metadata": {},
   "source": [
    "This value of the .columns property is actually a pandas index. The individual column\n",
    "names can be accessed by position."
   ]
  },
  {
   "cell_type": "code",
   "execution_count": 8,
   "metadata": {},
   "outputs": [
    {
     "data": {
      "text/plain": [
       "'a, b'"
      ]
     },
     "execution_count": 8,
     "metadata": {},
     "output_type": "execute_result"
    }
   ],
   "source": [
    "# retrieve just the names of the columns by position\n",
    "\"{0}, {1}\".format(df.columns[0], df.columns[1])"
   ]
  },
  {
   "cell_type": "code",
   "execution_count": 9,
   "metadata": {},
   "outputs": [
    {
     "data": {
      "text/plain": [
       "   c1  c2\n",
       "0  10  11\n",
       "1  20  21"
      ]
     },
     "execution_count": 9,
     "metadata": {},
     "output_type": "execute_result"
    }
   ],
   "source": [
    "# rename the columns\n",
    "df.columns = ['c1', 'c2']\n",
    "df"
   ]
  },
  {
   "cell_type": "markdown",
   "metadata": {},
   "source": [
    "Index labels can likewise be assigned using the index parameter of the constructor or by\n",
    "assigning a list directly to the .index property."
   ]
  },
  {
   "cell_type": "code",
   "execution_count": 10,
   "metadata": {},
   "outputs": [
    {
     "data": {
      "text/plain": [
       "    c1  c2\n",
       "r1   0   1\n",
       "r2   2   3"
      ]
     },
     "execution_count": 10,
     "metadata": {},
     "output_type": "execute_result"
    }
   ],
   "source": [
    "# create a DataFrame with named columns and rows\n",
    "df = pd.DataFrame(np.array([[0, 1], [2, 3]]), columns=['c1', 'c2'], index=['r1', 'r2'])\n",
    "df"
   ]
  },
  {
   "cell_type": "markdown",
   "metadata": {},
   "source": [
    "Similar to the Series object, the index of a DataFrame object can be accessed with its\n",
    ".index property:"
   ]
  },
  {
   "cell_type": "code",
   "execution_count": 11,
   "metadata": {},
   "outputs": [
    {
     "data": {
      "text/plain": [
       "Index(['r1', 'r2'], dtype='object')"
      ]
     },
     "execution_count": 11,
     "metadata": {},
     "output_type": "execute_result"
    }
   ],
   "source": [
    "# retrieve the index of the DataFrame\n",
    "df.index"
   ]
  },
  {
   "cell_type": "markdown",
   "metadata": {},
   "source": [
    "A DataFrame object can also be created by passing a dictionary containing one or more\n",
    "Series objects, where the dictionary keys contain the column names and each series is\n",
    "one column of data:"
   ]
  },
  {
   "cell_type": "code",
   "execution_count": 12,
   "metadata": {},
   "outputs": [
    {
     "data": {
      "text/plain": [
       "   c1  c2\n",
       "0   1   6\n",
       "1   2   7\n",
       "2   3   8\n",
       "3   4   9\n",
       "4   5  10"
      ]
     },
     "execution_count": 12,
     "metadata": {},
     "output_type": "execute_result"
    }
   ],
   "source": [
    "# create a DataFrame with two Series objects\n",
    "# and a dictionary\n",
    "s1 = pd.Series(np.arange(1, 6, 1))\n",
    "s2 = pd.Series(np.arange(6, 11, 1))\n",
    "pd.DataFrame({'c1': s1, 'c2': s2})"
   ]
  },
  {
   "cell_type": "markdown",
   "metadata": {},
   "source": [
    "For example, the following code adds a third column in the DataFrame\n",
    "initialization. This third Series contains two values and will specify its index. When the\n",
    "DataFrame is created, each series in the dictionary is aligned with each other by the index\n",
    "label, as it is added to the DataFrame object. The code is as follows:"
   ]
  },
  {
   "cell_type": "code",
   "execution_count": 13,
   "metadata": {},
   "outputs": [
    {
     "data": {
      "text/plain": [
       "   c1  c2    c3\n",
       "0   1   6   NaN\n",
       "1   2   7  12.0\n",
       "2   3   8  13.0\n",
       "3   4   9   NaN\n",
       "4   5  10   NaN"
      ]
     },
     "execution_count": 13,
     "metadata": {},
     "output_type": "execute_result"
    }
   ],
   "source": [
    "# demonstrate alignment during creation\n",
    "s3 = pd.Series(np.arange(12, 14), index=[1, 2])\n",
    "df = pd.DataFrame({'c1': s1, 'c2': s2, 'c3': s3})\n",
    "df"
   ]
  },
  {
   "cell_type": "markdown",
   "metadata": {},
   "source": [
    "<h2>Example data</h2>"
   ]
  },
  {
   "cell_type": "code",
   "execution_count": 14,
   "metadata": {},
   "outputs": [],
   "source": [
    "# read in the data and print the first five rows\n",
    "# use the Symbol column as the index, and\n",
    "# only read in columns in positions 0, 2, 3, 7\n",
    "sp500 = pd.read_csv(\"data/sp500.csv\",\n",
    "index_col='Symbol',\n",
    "usecols=[0, 2, 3, 7])"
   ]
  },
  {
   "cell_type": "code",
   "execution_count": 15,
   "metadata": {
    "scrolled": true
   },
   "outputs": [
    {
     "data": {
      "text/plain": [
       "                        Sector   Price  Book Value\n",
       "Symbol                                            \n",
       "MMM                Industrials  189.09       17.26\n",
       "ABT                Health Care   45.00       13.94\n",
       "ABBV               Health Care   63.69        2.91\n",
       "ACN     Information Technology  124.14       11.95\n",
       "ATVI    Information Technology   48.06       12.23"
      ]
     },
     "execution_count": 15,
     "metadata": {},
     "output_type": "execute_result"
    }
   ],
   "source": [
    "# peek at the first 5 rows of the data using .head()\n",
    "sp500.head()"
   ]
  },
  {
   "cell_type": "code",
   "execution_count": 16,
   "metadata": {},
   "outputs": [
    {
     "data": {
      "text/plain": [
       "                        Sector   Price  Book Value\n",
       "Symbol                                            \n",
       "YHOO    Information Technology   45.73       32.50\n",
       "YUM     Consumer Discretionary   64.02      -15.93\n",
       "ZBH                Health Care  117.07       48.20\n",
       "ZION                Financials   45.28       34.10\n",
       "ZTS                Health Care   53.07        3.02"
      ]
     },
     "execution_count": 16,
     "metadata": {},
     "output_type": "execute_result"
    }
   ],
   "source": [
    "sp500.tail()"
   ]
  },
  {
   "cell_type": "code",
   "execution_count": 17,
   "metadata": {},
   "outputs": [
    {
     "data": {
      "text/plain": [
       "505"
      ]
     },
     "execution_count": 17,
     "metadata": {},
     "output_type": "execute_result"
    }
   ],
   "source": [
    "# how many rows of data?\n",
    "len(sp500)"
   ]
  },
  {
   "cell_type": "code",
   "execution_count": 18,
   "metadata": {
    "scrolled": true
   },
   "outputs": [
    {
     "data": {
      "text/plain": [
       "Index(['MMM', 'ABT', 'ABBV', 'ACN', 'ATVI', 'AYI', 'ADBE', 'AAP', 'AES', 'AET',\n",
       "       ...\n",
       "       'XEL', 'XRX', 'XLNX', 'XL', 'XYL', 'YHOO', 'YUM', 'ZBH', 'ZION', 'ZTS'],\n",
       "      dtype='object', name='Symbol', length=505)"
      ]
     },
     "execution_count": 18,
     "metadata": {},
     "output_type": "execute_result"
    }
   ],
   "source": [
    "# examine the index\n",
    "sp500.index"
   ]
  },
  {
   "cell_type": "code",
   "execution_count": 19,
   "metadata": {
    "scrolled": true
   },
   "outputs": [
    {
     "data": {
      "text/plain": [
       "Index(['Sector', 'Price', 'Book Value'], dtype='object')"
      ]
     },
     "execution_count": 19,
     "metadata": {},
     "output_type": "execute_result"
    }
   ],
   "source": [
    "# get the columns\n",
    "sp500.columns"
   ]
  },
  {
   "cell_type": "markdown",
   "metadata": {},
   "source": [
    "<h2>Selecting columns of a DataFrame</h2>"
   ]
  },
  {
   "cell_type": "code",
   "execution_count": 20,
   "metadata": {
    "scrolled": true
   },
   "outputs": [
    {
     "data": {
      "text/plain": [
       "                        Sector   Price  Book Value\n",
       "Symbol                                            \n",
       "MMM                Industrials  189.09       17.26\n",
       "ABT                Health Care   45.00       13.94\n",
       "ABBV               Health Care   63.69        2.91\n",
       "ACN     Information Technology  124.14       11.95\n",
       "ATVI    Information Technology   48.06       12.23\n",
       "...                        ...     ...         ...\n",
       "YHOO    Information Technology   45.73       32.50\n",
       "YUM     Consumer Discretionary   64.02      -15.93\n",
       "ZBH                Health Care  117.07       48.20\n",
       "ZION                Financials   45.28       34.10\n",
       "ZTS                Health Care   53.07        3.02\n",
       "\n",
       "[505 rows x 3 columns]"
      ]
     },
     "execution_count": 20,
     "metadata": {},
     "output_type": "execute_result"
    }
   ],
   "source": [
    "sp500"
   ]
  },
  {
   "cell_type": "code",
   "execution_count": 21,
   "metadata": {},
   "outputs": [
    {
     "data": {
      "text/plain": [
       "                             0       1      2\n",
       "Symbol                                       \n",
       "MMM                Industrials  189.09  17.26\n",
       "ABT                Health Care   45.00  13.94\n",
       "ABBV               Health Care   63.69   2.91\n",
       "ACN     Information Technology  124.14  11.95\n",
       "ATVI    Information Technology   48.06  12.23"
      ]
     },
     "execution_count": 21,
     "metadata": {},
     "output_type": "execute_result"
    }
   ],
   "source": [
    "# create a new DataFrame with integers as the column names\n",
    "# make sure to use .copy() or change will be in-place\n",
    "df = sp500.copy()\n",
    "df.columns=[0, 1, 2]\n",
    "df.head()"
   ]
  },
  {
   "cell_type": "code",
   "execution_count": 22,
   "metadata": {},
   "outputs": [
    {
     "data": {
      "text/plain": [
       "Symbol\n",
       "MMM     189.09\n",
       "ABT      45.00\n",
       "ABBV     63.69\n",
       "ACN     124.14\n",
       "ATVI     48.06\n",
       "         ...  \n",
       "YHOO     45.73\n",
       "YUM      64.02\n",
       "ZBH     117.07\n",
       "ZION     45.28\n",
       "ZTS      53.07\n",
       "Name: 1, Length: 505, dtype: float64"
      ]
     },
     "execution_count": 22,
     "metadata": {},
     "output_type": "execute_result"
    }
   ],
   "source": [
    "# this is not an exception\n",
    "df[1]"
   ]
  },
  {
   "cell_type": "code",
   "execution_count": 23,
   "metadata": {},
   "outputs": [
    {
     "data": {
      "text/plain": [
       "pandas.core.series.Series"
      ]
     },
     "execution_count": 23,
     "metadata": {},
     "output_type": "execute_result"
    }
   ],
   "source": [
    "# this is a Series not a DataFrame\n",
    "type(df[1])"
   ]
  },
  {
   "cell_type": "code",
   "execution_count": 24,
   "metadata": {
    "scrolled": true
   },
   "outputs": [
    {
     "data": {
      "text/plain": [
       "Symbol\n",
       "MMM     189.09\n",
       "ABT      45.00\n",
       "ABBV     63.69\n",
       "ACN     124.14\n",
       "ATVI     48.06\n",
       "         ...  \n",
       "YHOO     45.73\n",
       "YUM      64.02\n",
       "ZBH     117.07\n",
       "ZION     45.28\n",
       "ZTS      53.07\n",
       "Name: Price, Length: 505, dtype: float64"
      ]
     },
     "execution_count": 24,
     "metadata": {},
     "output_type": "execute_result"
    }
   ],
   "source": [
    "# get price column by name\n",
    "# result is a Series\n",
    "sp500['Price']"
   ]
  },
  {
   "cell_type": "code",
   "execution_count": 25,
   "metadata": {},
   "outputs": [
    {
     "data": {
      "text/plain": [
       "         Price                  Sector\n",
       "Symbol                                \n",
       "MMM     189.09             Industrials\n",
       "ABT      45.00             Health Care\n",
       "ABBV     63.69             Health Care\n",
       "ACN     124.14  Information Technology\n",
       "ATVI     48.06  Information Technology\n",
       "...        ...                     ...\n",
       "YHOO     45.73  Information Technology\n",
       "YUM      64.02  Consumer Discretionary\n",
       "ZBH     117.07             Health Care\n",
       "ZION     45.28              Financials\n",
       "ZTS      53.07             Health Care\n",
       "\n",
       "[505 rows x 2 columns]"
      ]
     },
     "execution_count": 25,
     "metadata": {},
     "output_type": "execute_result"
    }
   ],
   "source": [
    "# get Price and Sector columns\n",
    "# since a list is passed, the result is a DataFrame\n",
    "sp500[['Price', 'Sector']]"
   ]
  },
  {
   "cell_type": "code",
   "execution_count": 26,
   "metadata": {},
   "outputs": [
    {
     "data": {
      "text/plain": [
       "Symbol\n",
       "MMM     189.09\n",
       "ABT      45.00\n",
       "ABBV     63.69\n",
       "ACN     124.14\n",
       "ATVI     48.06\n",
       "         ...  \n",
       "YHOO     45.73\n",
       "YUM      64.02\n",
       "ZBH     117.07\n",
       "ZION     45.28\n",
       "ZTS      53.07\n",
       "Name: Price, Length: 505, dtype: float64"
      ]
     },
     "execution_count": 26,
     "metadata": {},
     "output_type": "execute_result"
    }
   ],
   "source": [
    "# attribute access of the column by name\n",
    "sp500.Price"
   ]
  },
  {
   "cell_type": "markdown",
   "metadata": {},
   "source": [
    "Note that this will not work for the Book Value column, as the name has a space.\n",
    "If you do want to find the zero-based location of one or more columns using the name of\n",
    "the column (technically, the value of the index entry of a column), use the .get_loc()\n",
    "method of the columns index:"
   ]
  },
  {
   "cell_type": "code",
   "execution_count": 27,
   "metadata": {},
   "outputs": [
    {
     "data": {
      "text/plain": [
       "1"
      ]
     },
     "execution_count": 27,
     "metadata": {},
     "output_type": "execute_result"
    }
   ],
   "source": [
    "# get the position of the column with the value of Price\n",
    "loc = sp500.columns.get_loc('Price')\n",
    "loc"
   ]
  },
  {
   "cell_type": "code",
   "execution_count": 28,
   "metadata": {},
   "outputs": [
    {
     "data": {
      "text/plain": [
       "         Price                  Sector  Book Value\n",
       "Symbol                                            \n",
       "MMM     189.09             Industrials       17.26\n",
       "ABT      45.00             Health Care       13.94\n",
       "ABBV     63.69             Health Care        2.91\n",
       "ACN     124.14  Information Technology       11.95\n",
       "ATVI     48.06  Information Technology       12.23\n",
       "...        ...                     ...         ...\n",
       "YHOO     45.73  Information Technology       32.50\n",
       "YUM      64.02  Consumer Discretionary      -15.93\n",
       "ZBH     117.07             Health Care       48.20\n",
       "ZION     45.28              Financials       34.10\n",
       "ZTS      53.07             Health Care        3.02\n",
       "\n",
       "[505 rows x 3 columns]"
      ]
     },
     "execution_count": 28,
     "metadata": {},
     "output_type": "execute_result"
    }
   ],
   "source": [
    "sp500[['Price', 'Sector', 'Book Value']]"
   ]
  },
  {
   "cell_type": "markdown",
   "metadata": {},
   "source": [
    "<h2>Selecting rows and values of a DataFrame\n",
    "using the index</h2>"
   ]
  },
  {
   "cell_type": "markdown",
   "metadata": {},
   "source": [
    "Elements of an array or Series are selected using the [] operator. DataFrame overloads []\n",
    "to select columns instead of rows, except for a specific case of slicing. Therefore, most\n",
    "operations of selection of one or more rows in a DataFrame, require alternate methods to\n",
    "using []."
   ]
  },
  {
   "cell_type": "markdown",
   "metadata": {},
   "source": [
    "Understanding this is important in pandas, as a common mistake is try and select rows\n",
    "using [] due to familiarity with other languages or data structures. When doing so, errors\n",
    "are often received, and can often be difficult to diagnose without realizing [] is working\n",
    "along a completely different axis than with a Series object."
   ]
  },
  {
   "cell_type": "markdown",
   "metadata": {},
   "source": [
    "<h2>Slicing using the [] operator</h2>\n",
    "\n",
    "Slicing a DataFrame across its index is syntactically identical to performing the same on a\n",
    "Series. Because of this, we will not go into the details of the various permutations of\n",
    "slices in this section, and only give representative examples applied to a DataFrame."
   ]
  },
  {
   "cell_type": "code",
   "execution_count": 29,
   "metadata": {},
   "outputs": [
    {
     "data": {
      "text/plain": [
       "                        Sector   Price  Book Value\n",
       "Symbol                                            \n",
       "MMM                Industrials  189.09       17.26\n",
       "ABT                Health Care   45.00       13.94\n",
       "ABBV               Health Care   63.69        2.91\n",
       "ACN     Information Technology  124.14       11.95\n",
       "ATVI    Information Technology   48.06       12.23"
      ]
     },
     "execution_count": 29,
     "metadata": {},
     "output_type": "execute_result"
    }
   ],
   "source": [
    "# first five rows\n",
    "sp500[:5]"
   ]
  },
  {
   "cell_type": "code",
   "execution_count": 30,
   "metadata": {},
   "outputs": [
    {
     "data": {
      "text/plain": [
       "                        Sector   Price  Book Value\n",
       "Symbol                                            \n",
       "ABT                Health Care   45.00       13.94\n",
       "ABBV               Health Care   63.69        2.91\n",
       "ACN     Information Technology  124.14       11.95"
      ]
     },
     "execution_count": 30,
     "metadata": {},
     "output_type": "execute_result"
    }
   ],
   "source": [
    "# ABT through ACN labels\n",
    "sp500['ABT':'ACN']"
   ]
  },
  {
   "cell_type": "markdown",
   "metadata": {},
   "source": [
    "<h2>Selecting rows by index label and location: .loc[]\n",
    "and .iloc[]</h2>"
   ]
  },
  {
   "cell_type": "code",
   "execution_count": 31,
   "metadata": {},
   "outputs": [
    {
     "data": {
      "text/plain": [
       "Sector        Industrials\n",
       "Price              189.09\n",
       "Book Value          17.26\n",
       "Name: MMM, dtype: object"
      ]
     },
     "execution_count": 31,
     "metadata": {},
     "output_type": "execute_result"
    }
   ],
   "source": [
    "# get row with label MMM\n",
    "# returned as a Series\n",
    "sp500.loc['MMM']"
   ]
  },
  {
   "cell_type": "code",
   "execution_count": 32,
   "metadata": {},
   "outputs": [
    {
     "data": {
      "text/plain": [
       "                        Sector   Price  Book Value\n",
       "Symbol                                            \n",
       "MMM                Industrials  189.09       17.26\n",
       "MSFT    Information Technology   64.40        8.90"
      ]
     },
     "execution_count": 32,
     "metadata": {},
     "output_type": "execute_result"
    }
   ],
   "source": [
    "# rows with label MMM and MSFT\n",
    "# this is a DataFrame result\n",
    "sp500.loc[['MMM', 'MSFT']]"
   ]
  },
  {
   "cell_type": "code",
   "execution_count": 33,
   "metadata": {},
   "outputs": [
    {
     "data": {
      "text/plain": [
       "             Sector   Price  Book Value\n",
       "Symbol                                 \n",
       "MMM     Industrials  189.09       17.26\n",
       "ABBV    Health Care   63.69        2.91"
      ]
     },
     "execution_count": 33,
     "metadata": {},
     "output_type": "execute_result"
    }
   ],
   "source": [
    "# get rows in locations 0 and 2\n",
    "sp500.iloc[[0, 2]]"
   ]
  },
  {
   "cell_type": "markdown",
   "metadata": {},
   "source": [
    "It is possible to look up the location in the index of a specific label value, which can then\n",
    "be used to retrieve the row(s):"
   ]
  },
  {
   "cell_type": "code",
   "execution_count": 34,
   "metadata": {},
   "outputs": [
    {
     "data": {
      "text/plain": [
       "'0 307'"
      ]
     },
     "execution_count": 34,
     "metadata": {},
     "output_type": "execute_result"
    }
   ],
   "source": [
    "# get the location of MMM and A in the index\n",
    "i1 = sp500.index.get_loc('MMM')\n",
    "i2 = sp500.index.get_loc('MSFT')\n",
    "\"{0} {1}\".format(i1, i2)"
   ]
  },
  {
   "cell_type": "code",
   "execution_count": 35,
   "metadata": {},
   "outputs": [
    {
     "data": {
      "text/plain": [
       "                        Sector   Price  Book Value\n",
       "Symbol                                            \n",
       "MMM                Industrials  189.09       17.26\n",
       "MSFT    Information Technology   64.40        8.90"
      ]
     },
     "execution_count": 35,
     "metadata": {},
     "output_type": "execute_result"
    }
   ],
   "source": [
    "# and get the rows\n",
    "sp500.iloc[[i1, i2]]"
   ]
  },
  {
   "cell_type": "markdown",
   "metadata": {},
   "source": [
    "<h2>Scalar lookup by label or location using .at[] and\n",
    ".iat[]</h2>"
   ]
  },
  {
   "cell_type": "markdown",
   "metadata": {},
   "source": [
    "Scalar values can be looked up by label using .at, by passing both the row label and then\n",
    "the column name/value:"
   ]
  },
  {
   "cell_type": "code",
   "execution_count": 36,
   "metadata": {},
   "outputs": [
    {
     "data": {
      "text/plain": [
       "189.09"
      ]
     },
     "execution_count": 36,
     "metadata": {},
     "output_type": "execute_result"
    }
   ],
   "source": [
    "# by label in both the index and column\n",
    "sp500.at['MMM', 'Price']"
   ]
  },
  {
   "cell_type": "markdown",
   "metadata": {},
   "source": [
    "Scalar values can also be looked up by location using .iat by passing both the row\n",
    "location and then the column location. This is the preferred method of accessing single\n",
    "values and gives the highest performance."
   ]
  },
  {
   "cell_type": "code",
   "execution_count": 37,
   "metadata": {},
   "outputs": [
    {
     "data": {
      "text/plain": [
       "189.09"
      ]
     },
     "execution_count": 37,
     "metadata": {},
     "output_type": "execute_result"
    }
   ],
   "source": [
    "# by location. Row 0, column 1\n",
    "sp500.iat[0, 1]"
   ]
  },
  {
   "cell_type": "markdown",
   "metadata": {},
   "source": [
    "<h2>Selecting rows of a DataFrame by Boolean\n",
    "selection</h2>"
   ]
  },
  {
   "cell_type": "markdown",
   "metadata": {},
   "source": [
    "Rows can also be selected by using Boolean selection, using an array calculated from the result of applying a logical condition on the values in any of the columns. This allows us to build more complicated selections than those based simply upon index labels or positions. Consider the following that is an array of all companies that have a price below 100.0."
   ]
  },
  {
   "cell_type": "code",
   "execution_count": 38,
   "metadata": {},
   "outputs": [
    {
     "data": {
      "text/plain": [
       "                        Sector   Price  Book Value\n",
       "Symbol                                            \n",
       "MMM                Industrials  189.09       17.26\n",
       "ABT                Health Care   45.00       13.94\n",
       "ABBV               Health Care   63.69        2.91\n",
       "ACN     Information Technology  124.14       11.95\n",
       "ATVI    Information Technology   48.06       12.23\n",
       "...                        ...     ...         ...\n",
       "YHOO    Information Technology   45.73       32.50\n",
       "YUM     Consumer Discretionary   64.02      -15.93\n",
       "ZBH                Health Care  117.07       48.20\n",
       "ZION                Financials   45.28       34.10\n",
       "ZTS                Health Care   53.07        3.02\n",
       "\n",
       "[505 rows x 3 columns]"
      ]
     },
     "execution_count": 38,
     "metadata": {},
     "output_type": "execute_result"
    }
   ],
   "source": [
    "sp500"
   ]
  },
  {
   "cell_type": "code",
   "execution_count": 39,
   "metadata": {},
   "outputs": [
    {
     "data": {
      "text/plain": [
       "Symbol\n",
       "MMM     False\n",
       "ABT      True\n",
       "ABBV     True\n",
       "ACN     False\n",
       "ATVI     True\n",
       "        ...  \n",
       "YHOO     True\n",
       "YUM      True\n",
       "ZBH     False\n",
       "ZION     True\n",
       "ZTS      True\n",
       "Name: Price, Length: 505, dtype: bool"
      ]
     },
     "execution_count": 39,
     "metadata": {},
     "output_type": "execute_result"
    }
   ],
   "source": [
    "# what rows have a price < 100?\n",
    "sp500.Price < 100"
   ]
  },
  {
   "cell_type": "markdown",
   "metadata": {},
   "source": [
    "These results are a Series that can be used to select the rows where the value is True,\n",
    "exactly the same way it was done with a Series or a NumPy array:"
   ]
  },
  {
   "cell_type": "code",
   "execution_count": 40,
   "metadata": {},
   "outputs": [
    {
     "data": {
      "text/plain": [
       "                        Sector  Price  Book Value\n",
       "Symbol                                           \n",
       "ABT                Health Care  45.00       13.94\n",
       "ABBV               Health Care  63.69        2.91\n",
       "ATVI    Information Technology  48.06       12.23\n",
       "AES                  Utilities  11.33        4.24\n",
       "AFL                 Financials  71.95       50.47\n",
       "...                        ...    ...         ...\n",
       "XYL                Industrials  48.78       12.21\n",
       "YHOO    Information Technology  45.73       32.50\n",
       "YUM     Consumer Discretionary  64.02      -15.93\n",
       "ZION                Financials  45.28       34.10\n",
       "ZTS                Health Care  53.07        3.02\n",
       "\n",
       "[364 rows x 3 columns]"
      ]
     },
     "execution_count": 40,
     "metadata": {},
     "output_type": "execute_result"
    }
   ],
   "source": [
    "# now get the rows with Price < 100\n",
    "sp500[sp500.Price < 100]"
   ]
  },
  {
   "cell_type": "code",
   "execution_count": 41,
   "metadata": {},
   "outputs": [
    {
     "data": {
      "text/plain": [
       "        Price\n",
       "Symbol       \n",
       "CHK      5.26\n",
       "FTR      2.62\n",
       "SWN      7.61\n",
       "SPLS     8.78\n",
       "XRX      7.36"
      ]
     },
     "execution_count": 41,
     "metadata": {},
     "output_type": "execute_result"
    }
   ],
   "source": [
    "# get only the Price where Price is < 10 and > 0\n",
    "r = sp500[(sp500.Price < 10) & (sp500.Price > 0)] [['Price']]\n",
    "\n",
    "r"
   ]
  },
  {
   "cell_type": "markdown",
   "metadata": {},
   "source": [
    "<h2>Modifying the structure and content of\n",
    "DataFrame</h2>"
   ]
  },
  {
   "cell_type": "markdown",
   "metadata": {},
   "source": [
    "The structure and content of a DataFrame can be mutated in several ways. Rows and\n",
    "columns can be added and removed, and data within either can be modified to take on new\n",
    "values. Additionally, columns, as well as index labels, can also be renamed. Each of these\n",
    "will be described in the following sections."
   ]
  },
  {
   "cell_type": "markdown",
   "metadata": {},
   "source": [
    "<h3>Renaming columns</h3>"
   ]
  },
  {
   "cell_type": "code",
   "execution_count": 42,
   "metadata": {},
   "outputs": [
    {
     "data": {
      "text/plain": [
       "             Sector   Price  BookValue\n",
       "Symbol                                \n",
       "MMM     Industrials  189.09      17.26\n",
       "ABT     Health Care   45.00      13.94"
      ]
     },
     "execution_count": 42,
     "metadata": {},
     "output_type": "execute_result"
    }
   ],
   "source": [
    "# rename the Book Value column to not have a space\n",
    "# this returns a copy with the column renamed\n",
    "df = sp500.rename(columns= {'Book Value': 'BookValue'})\n",
    "\n",
    "# print first 2 rows\n",
    "df[:2]"
   ]
  },
  {
   "cell_type": "code",
   "execution_count": 43,
   "metadata": {},
   "outputs": [
    {
     "data": {
      "text/plain": [
       "Index(['Sector', 'Price', 'Book Value'], dtype='object')"
      ]
     },
     "execution_count": 43,
     "metadata": {},
     "output_type": "execute_result"
    }
   ],
   "source": [
    "# verify the columns in the original did not change\n",
    "sp500.columns"
   ]
  },
  {
   "cell_type": "markdown",
   "metadata": {},
   "source": [
    "To modify the DataFrame without making a copy, we can use the inplace=True parameter\n",
    "to .rename():"
   ]
  },
  {
   "cell_type": "code",
   "execution_count": 44,
   "metadata": {},
   "outputs": [
    {
     "data": {
      "text/plain": [
       "Index(['Sector', 'Price', 'BookValue'], dtype='object')"
      ]
     },
     "execution_count": 44,
     "metadata": {},
     "output_type": "execute_result"
    }
   ],
   "source": [
    "sp500.rename(columns= {'Book Value': 'BookValue'},  inplace=True)\n",
    "\n",
    "# we can see the column is changed\n",
    "sp500.columns"
   ]
  },
  {
   "cell_type": "code",
   "execution_count": 45,
   "metadata": {},
   "outputs": [
    {
     "data": {
      "text/plain": [
       "Symbol\n",
       "MMM     17.26\n",
       "ABT     13.94\n",
       "ABBV     2.91\n",
       "ACN     11.95\n",
       "ATVI    12.23\n",
       "Name: BookValue, dtype: float64"
      ]
     },
     "execution_count": 45,
     "metadata": {},
     "output_type": "execute_result"
    }
   ],
   "source": [
    "# and now we can use .BookValue\n",
    "sp500.BookValue[:5]"
   ]
  },
  {
   "cell_type": "markdown",
   "metadata": {},
   "source": [
    "<h3>Adding and inserting columns</h3>"
   ]
  },
  {
   "cell_type": "code",
   "execution_count": 46,
   "metadata": {},
   "outputs": [
    {
     "data": {
      "text/plain": [
       "                        Sector   Price  BookValue  TwicePrice\n",
       "Symbol                                                       \n",
       "MMM                Industrials  189.09      17.26      378.18\n",
       "ABT                Health Care   45.00      13.94       90.00\n",
       "ABBV               Health Care   63.69       2.91      127.38\n",
       "ACN     Information Technology  124.14      11.95      248.28\n",
       "ATVI    Information Technology   48.06      12.23       96.12\n",
       "...                        ...     ...        ...         ...\n",
       "YHOO    Information Technology   45.73      32.50       91.46\n",
       "YUM     Consumer Discretionary   64.02     -15.93      128.04\n",
       "ZBH                Health Care  117.07      48.20      234.14\n",
       "ZION                Financials   45.28      34.10       90.56\n",
       "ZTS                Health Care   53.07       3.02      106.14\n",
       "\n",
       "[505 rows x 4 columns]"
      ]
     },
     "execution_count": 46,
     "metadata": {},
     "output_type": "execute_result"
    }
   ],
   "source": [
    "# make a copy\n",
    "copy = sp500.copy()\n",
    "\n",
    "# add a new column to the copy\n",
    "copy['TwicePrice'] = sp500.Price * 2\n",
    "copy"
   ]
  },
  {
   "cell_type": "markdown",
   "metadata": {},
   "source": [
    "<p>This process is actually selecting the Price column out of the sp500 object, then creating\n",
    "another Series with each value of the Price multiplied by two. The DataFrame then\n",
    "aligns this new Series by label, copies the data at the appropriate labels, and adds the\n",
    "column at the end of the columns index.</p>\n",
    "<p>If you want to add the column at a different location in the DataFrame object, instead of at\n",
    "the rightmost position, use the .insert() method of the DataFrame. The following code\n",
    "inserts the TwicePrice column between Price and BookValue:</p>"
   ]
  },
  {
   "cell_type": "code",
   "execution_count": 47,
   "metadata": {},
   "outputs": [
    {
     "data": {
      "text/plain": [
       "                        Sector  TwicePrice   Price  BookValue\n",
       "Symbol                                                       \n",
       "MMM                Industrials      378.18  189.09      17.26\n",
       "ABT                Health Care       90.00   45.00      13.94\n",
       "ABBV               Health Care      127.38   63.69       2.91\n",
       "ACN     Information Technology      248.28  124.14      11.95\n",
       "ATVI    Information Technology       96.12   48.06      12.23\n",
       "...                        ...         ...     ...        ...\n",
       "YHOO    Information Technology       91.46   45.73      32.50\n",
       "YUM     Consumer Discretionary      128.04   64.02     -15.93\n",
       "ZBH                Health Care      234.14  117.07      48.20\n",
       "ZION                Financials       90.56   45.28      34.10\n",
       "ZTS                Health Care      106.14   53.07       3.02\n",
       "\n",
       "[505 rows x 4 columns]"
      ]
     },
     "execution_count": 47,
     "metadata": {},
     "output_type": "execute_result"
    }
   ],
   "source": [
    "copy = sp500.copy()\n",
    "# insert sp500.Price * 2 as the\n",
    "# second column in the DataFrame\n",
    "copy.insert(1, 'TwicePrice', sp500.Price * 2)\n",
    "copy"
   ]
  },
  {
   "cell_type": "markdown",
   "metadata": {},
   "source": [
    "It is important to remember that this is not simply inserting a column into the DataFrame.\n",
    "The alignment process used here is performing a left join of the DataFrame and the Series\n",
    "by their index labels, and then creating the column and populating the data in the\n",
    "appropriate cells in the DataFrame from matching entries in the Series. If an index label\n",
    "in the DataFrame is not matched in the Series, the value used will be NaN. Items in the\n",
    "Series that do not have a matching label will be ignored.\n",
    "The following example demonstrates this operation:"
   ]
  },
  {
   "cell_type": "code",
   "execution_count": 48,
   "metadata": {},
   "outputs": [
    {
     "data": {
      "text/plain": [
       "         Price\n",
       "Symbol        \n",
       "MMM     189.09\n",
       "ABT      45.00\n",
       "ABBV     63.69"
      ]
     },
     "execution_count": 48,
     "metadata": {},
     "output_type": "execute_result"
    }
   ],
   "source": [
    "# extract the first three rows and just the Price column\n",
    "rcopy = sp500[0:3][['Price']].copy()\n",
    "rcopy"
   ]
  },
  {
   "cell_type": "code",
   "execution_count": 49,
   "metadata": {},
   "outputs": [
    {
     "data": {
      "text/plain": [
       "MMM      Is in the DataFrame\n",
       "MSFT    Not in the DataFrame\n",
       "dtype: object"
      ]
     },
     "execution_count": 49,
     "metadata": {},
     "output_type": "execute_result"
    }
   ],
   "source": [
    "# create a new Series to merge as a column\n",
    "# one label exists in rcopy (MSFT), and MMM does not\n",
    "s = pd.Series( {'MMM': 'Is in the DataFrame', 'MSFT': 'Not in the DataFrame'} )\n",
    "s"
   ]
  },
  {
   "cell_type": "code",
   "execution_count": 50,
   "metadata": {},
   "outputs": [
    {
     "data": {
      "text/plain": [
       "         Price              Comment\n",
       "Symbol                             \n",
       "MMM     189.09  Is in the DataFrame\n",
       "ABT      45.00                  NaN\n",
       "ABBV     63.69                  NaN"
      ]
     },
     "execution_count": 50,
     "metadata": {},
     "output_type": "execute_result"
    }
   ],
   "source": [
    "# add rcopy into a column named 'Comment'\n",
    "rcopy['Comment'] = s\n",
    "rcopy"
   ]
  },
  {
   "cell_type": "markdown",
   "metadata": {},
   "source": [
    "<h2>Replacing the contents of a column</h2>"
   ]
  },
  {
   "cell_type": "markdown",
   "metadata": {},
   "source": [
    "In general, assignment of a Series to a column using the [] operator will either create a\n",
    "new column if the column does not already exist, or replace the contents of a column if it\n",
    "already exists. To demonstrate replacement, the following code replaces the Price column\n",
    "with the result of the multiplication, instead of creating a new column:"
   ]
  },
  {
   "cell_type": "code",
   "execution_count": 51,
   "metadata": {},
   "outputs": [
    {
     "data": {
      "text/plain": [
       "                        Sector   Price  BookValue\n",
       "Symbol                                           \n",
       "MMM                Industrials  378.18      17.26\n",
       "ABT                Health Care   90.00      13.94\n",
       "ABBV               Health Care  127.38       2.91\n",
       "ACN     Information Technology  248.28      11.95\n",
       "ATVI    Information Technology   96.12      12.23"
      ]
     },
     "execution_count": 51,
     "metadata": {},
     "output_type": "execute_result"
    }
   ],
   "source": [
    "copy = sp500.copy()\n",
    "# replace the Price column data with the new values\n",
    "# instead of adding a new column\n",
    "copy.Price = sp500.Price * 2\n",
    "copy[:5]"
   ]
  },
  {
   "cell_type": "markdown",
   "metadata": {},
   "source": [
    "To emphasize that this is also doing an alignment, we can change the sample slightly. The\n",
    "following code only utilizes the prices from three of the first four rows. This will force the\n",
    "result to not align values for 497 of the symbols, resulting in NaN values:"
   ]
  },
  {
   "cell_type": "code",
   "execution_count": 52,
   "metadata": {},
   "outputs": [
    {
     "data": {
      "text/plain": [
       "Symbol\n",
       "ACN    124.14\n",
       "ABT     45.00\n",
       "MMM    189.09\n",
       "Name: Price, dtype: float64"
      ]
     },
     "execution_count": 52,
     "metadata": {},
     "output_type": "execute_result"
    }
   ],
   "source": [
    "# copy all 500 rows\n",
    "copy = sp500.copy()\n",
    "\n",
    "# this just copies the first 2 rows of prices\n",
    "prices = sp500.iloc[[3, 1, 0]].Price.copy()\n",
    "\n",
    "# examine the extracted prices\n",
    "prices"
   ]
  },
  {
   "cell_type": "code",
   "execution_count": 53,
   "metadata": {},
   "outputs": [
    {
     "data": {
      "text/plain": [
       "                        Sector   Price  BookValue\n",
       "Symbol                                           \n",
       "MMM                Industrials  189.09      17.26\n",
       "ABT                Health Care   45.00      13.94\n",
       "ABBV               Health Care     NaN       2.91\n",
       "ACN     Information Technology  124.14      11.95\n",
       "ATVI    Information Technology     NaN      12.23\n",
       "...                        ...     ...        ...\n",
       "YHOO    Information Technology     NaN      32.50\n",
       "YUM     Consumer Discretionary     NaN     -15.93\n",
       "ZBH                Health Care     NaN      48.20\n",
       "ZION                Financials     NaN      34.10\n",
       "ZTS                Health Care     NaN       3.02\n",
       "\n",
       "[505 rows x 3 columns]"
      ]
     },
     "execution_count": 53,
     "metadata": {},
     "output_type": "execute_result"
    }
   ],
   "source": [
    "# now replace the Prices column with prices\n",
    "copy.Price = prices\n",
    "# it's not really simple insertion, it is alignment\n",
    "# values are put in the correct place according to labels\n",
    "copy"
   ]
  },
  {
   "cell_type": "markdown",
   "metadata": {},
   "source": [
    "<h2>Deleting columns in a DataFrame</h2>"
   ]
  },
  {
   "cell_type": "markdown",
   "metadata": {},
   "source": [
    "<p>Columns can be deleted from a DataFrame by using the del keyword, the pop(column)\n",
    "method of the DataFrame, or by calling the drop() method of the DataFrame.<p>\n",
    "The behavior of each of these differs slightly:\n",
    "<ul>\n",
    "<li>\n",
    "del will simply delete the Series from the DataFrame (in-place)</li>\n",
    "<li>pop() will both delete the Series and return the Series as a result (also in-place)</li>\n",
    "<li>drop(labels, axis=1) will return a new DataFrame with the column(s) removed\n",
    "(the original DataFrame object is not modified)</li>\n",
    "</ul>\n",
    "<p>The following code demonstrates using del to delete the BookValue column from a copy\n",
    "of the sp500 data:</p>"
   ]
  },
  {
   "cell_type": "code",
   "execution_count": 54,
   "metadata": {},
   "outputs": [
    {
     "data": {
      "text/plain": [
       "             Sector   Price  BookValue\n",
       "Symbol                                \n",
       "MMM     Industrials  189.09      17.26\n",
       "ABT     Health Care   45.00      13.94"
      ]
     },
     "execution_count": 54,
     "metadata": {},
     "output_type": "execute_result"
    }
   ],
   "source": [
    "# Example of using del to delete a column\n",
    "# make a copy of a subset of the data frame\n",
    "copy = sp500[:2].copy()\n",
    "copy"
   ]
  },
  {
   "cell_type": "code",
   "execution_count": 55,
   "metadata": {},
   "outputs": [
    {
     "data": {
      "text/plain": [
       "             Sector   Price\n",
       "Symbol                     \n",
       "MMM     Industrials  189.09\n",
       "ABT     Health Care   45.00"
      ]
     },
     "execution_count": 55,
     "metadata": {},
     "output_type": "execute_result"
    }
   ],
   "source": [
    "# delete the BookValue column\n",
    "# deletion is in-place\n",
    "del copy['BookValue']\n",
    "copy"
   ]
  },
  {
   "cell_type": "markdown",
   "metadata": {},
   "source": [
    "The following code demonstrates using the .pop() method to remove a column:"
   ]
  },
  {
   "cell_type": "code",
   "execution_count": 56,
   "metadata": {},
   "outputs": [
    {
     "data": {
      "text/plain": [
       "         Price  BookValue\n",
       "Symbol                   \n",
       "MMM     189.09      17.26\n",
       "ABT      45.00      13.94"
      ]
     },
     "execution_count": 56,
     "metadata": {},
     "output_type": "execute_result"
    }
   ],
   "source": [
    "# Example of using pop to remove a column from a DataFrame\n",
    "# first make a copy of a subset of the data frame\n",
    "# pop works in-place\n",
    "copy = sp500[:2].copy()\n",
    "\n",
    "# this will remove Sector and return it as a series\n",
    "popped = copy.pop('Sector')\n",
    "\n",
    "# Sector column removed in-place\n",
    "copy"
   ]
  },
  {
   "cell_type": "code",
   "execution_count": 57,
   "metadata": {},
   "outputs": [
    {
     "data": {
      "text/plain": [
       "Symbol\n",
       "MMM    Industrials\n",
       "ABT    Health Care\n",
       "Name: Sector, dtype: object"
      ]
     },
     "execution_count": 57,
     "metadata": {},
     "output_type": "execute_result"
    }
   ],
   "source": [
    "popped"
   ]
  },
  {
   "cell_type": "markdown",
   "metadata": {},
   "source": [
    "The .drop() method can be used to remove both rows and columns. To use it to remove a\n",
    "column, specify axis=1:"
   ]
  },
  {
   "cell_type": "code",
   "execution_count": 58,
   "metadata": {},
   "outputs": [
    {
     "data": {
      "text/plain": [
       "         Price  BookValue\n",
       "Symbol                   \n",
       "MMM     189.09      17.26\n",
       "ABT      45.00      13.94"
      ]
     },
     "execution_count": 58,
     "metadata": {},
     "output_type": "execute_result"
    }
   ],
   "source": [
    "# Example of using drop to remove a column\n",
    "# make a copy of a subset of the DataFrame\n",
    "copy = sp500[:2].copy()\n",
    "\n",
    "# this will return a new DataFrame with 'Sector' removed\n",
    "# the copy DataFrame is not modified\n",
    "afterdrop = copy.drop(['Sector'], axis = 1)\n",
    "afterdrop"
   ]
  },
  {
   "cell_type": "code",
   "execution_count": 59,
   "metadata": {},
   "outputs": [
    {
     "data": {
      "text/plain": [
       "             Sector  Price  BookValue\n",
       "Symbol                               \n",
       "ABT     Health Care   45.0      13.94"
      ]
     },
     "execution_count": 59,
     "metadata": {},
     "output_type": "execute_result"
    }
   ],
   "source": [
    "# Example of using drop to remove a row\n",
    "# make a copy of a subset of the DataFrame\n",
    "copy = sp500[:2].copy()\n",
    "\n",
    "# this will return a new DataFrame with 'MMM' row removed\n",
    "# the copy DataFrame is not modified\n",
    "afterdrop = copy.drop(['MMM'], axis = 0)\n",
    "afterdrop"
   ]
  },
  {
   "cell_type": "markdown",
   "metadata": {},
   "source": [
    "<h2>Adding rows to a DataFrame</h2>"
   ]
  },
  {
   "cell_type": "markdown",
   "metadata": {},
   "source": [
    "Rows can be added to a DataFrame object via several different operations:\n",
    "<ul>\n",
    "<li>\n",
    "Appending a DataFrame to another</li>\n",
    "<li>Concatenation of two DataFrame objects</li>\n",
    "<li>Setting with enlargement</li>\n",
    "</ul>"
   ]
  },
  {
   "cell_type": "markdown",
   "metadata": {},
   "source": [
    "<h3>Appending rows with .append()</h3>\n",
    "<p>\n",
    "Appending is performed using the .append() method of the DataFrame. The process of\n",
    "appending returns a new DataFrame with the data from the original DataFrame added first,\n",
    "and the rows from the second. <b>Appending does not perform alignment and can result in\n",
    "    duplicate index values.</b></p>"
   ]
  },
  {
   "cell_type": "code",
   "execution_count": 60,
   "metadata": {},
   "outputs": [],
   "source": [
    "# copy the first three rows of sp500\n",
    "df1 = sp500.iloc[0:3].copy()\n",
    "# copy 10th and 11th rows\n",
    "df2 = sp500.iloc[[10, 11, 2]]"
   ]
  },
  {
   "cell_type": "code",
   "execution_count": 61,
   "metadata": {},
   "outputs": [
    {
     "data": {
      "text/plain": [
       "             Sector   Price  BookValue\n",
       "Symbol                                \n",
       "MMM     Industrials  189.09      17.26\n",
       "ABT     Health Care   45.00      13.94\n",
       "ABBV    Health Care   63.69       2.91"
      ]
     },
     "execution_count": 61,
     "metadata": {},
     "output_type": "execute_result"
    }
   ],
   "source": [
    "df1"
   ]
  },
  {
   "cell_type": "code",
   "execution_count": 62,
   "metadata": {},
   "outputs": [
    {
     "data": {
      "text/plain": [
       "             Sector   Price  BookValue\n",
       "Symbol                                \n",
       "AMG      Financials  166.56      63.84\n",
       "AFL      Financials   71.95      50.47\n",
       "ABBV    Health Care   63.69       2.91"
      ]
     },
     "execution_count": 62,
     "metadata": {},
     "output_type": "execute_result"
    }
   ],
   "source": [
    "df2"
   ]
  },
  {
   "cell_type": "code",
   "execution_count": 63,
   "metadata": {},
   "outputs": [
    {
     "data": {
      "text/plain": [
       "             Sector   Price  BookValue\n",
       "Symbol                                \n",
       "MMM     Industrials  189.09      17.26\n",
       "ABT     Health Care   45.00      13.94\n",
       "ABBV    Health Care   63.69       2.91\n",
       "AMG      Financials  166.56      63.84\n",
       "AFL      Financials   71.95      50.47\n",
       "ABBV    Health Care   63.69       2.91"
      ]
     },
     "execution_count": 63,
     "metadata": {},
     "output_type": "execute_result"
    }
   ],
   "source": [
    "# append df1 and df2\n",
    "appended = df1.append(df2)\n",
    "# the result is the rows of the first followed by\n",
    "# those of the second\n",
    "appended"
   ]
  },
  {
   "cell_type": "markdown",
   "metadata": {},
   "source": [
    "The set of columns of the DataFrame objects being appended do not need to be the same.\n",
    "The resulting DataFrame will consist of the union of the columns in both and where either\n",
    "did not have a column, NaN will be used as the value. The following code demonstrates\n",
    "this by creating a third DataFrame using the same index as df1, but having a single column\n",
    "with a unique column name:"
   ]
  },
  {
   "cell_type": "code",
   "execution_count": 64,
   "metadata": {},
   "outputs": [
    {
     "data": {
      "text/plain": [
       "        PER\n",
       "Symbol     \n",
       "MMM     0.0\n",
       "ABT     0.0\n",
       "ABBV    0.0"
      ]
     },
     "execution_count": 64,
     "metadata": {},
     "output_type": "execute_result"
    }
   ],
   "source": [
    "# DataFrame using df1.index and just a PER column\n",
    "# also a good example of using a scalar value\n",
    "# to initialize multiple rows\n",
    "df3 = pd.DataFrame(0.0, index=df1.index, columns=['PER'])\n",
    "df3"
   ]
  },
  {
   "cell_type": "code",
   "execution_count": 65,
   "metadata": {},
   "outputs": [
    {
     "data": {
      "text/plain": [
       "             Sector   Price  BookValue\n",
       "Symbol                                \n",
       "MMM     Industrials  189.09      17.26\n",
       "ABT     Health Care   45.00      13.94\n",
       "ABBV    Health Care   63.69       2.91"
      ]
     },
     "execution_count": 65,
     "metadata": {},
     "output_type": "execute_result"
    }
   ],
   "source": [
    "df1"
   ]
  },
  {
   "cell_type": "code",
   "execution_count": 66,
   "metadata": {},
   "outputs": [
    {
     "data": {
      "text/plain": [
       "             Sector   Price  BookValue  PER\n",
       "Symbol                                     \n",
       "MMM     Industrials  189.09      17.26  NaN\n",
       "ABT     Health Care   45.00      13.94  NaN\n",
       "ABBV    Health Care   63.69       2.91  NaN\n",
       "MMM             NaN     NaN        NaN  0.0\n",
       "ABT             NaN     NaN        NaN  0.0\n",
       "ABBV            NaN     NaN        NaN  0.0"
      ]
     },
     "execution_count": 66,
     "metadata": {},
     "output_type": "execute_result"
    }
   ],
   "source": [
    "# append df1 and df3\n",
    "# each has three rows, so 6 rows is the result\n",
    "# df1 had no PER column, so NaN for those rows\n",
    "# df3 had no BookValue, Price or Sector, so NaN values\n",
    "df1.append(df3)"
   ]
  },
  {
   "cell_type": "markdown",
   "metadata": {},
   "source": [
    "To append without forcing the index to be taken from either DataFrame, you can use the\n",
    "ignore_index=True parameter. This is useful when the index values are not of significant\n",
    "meaning, and you just want concatenated data with sequentially increasing integers as\n",
    "indexes:"
   ]
  },
  {
   "cell_type": "code",
   "execution_count": 67,
   "metadata": {},
   "outputs": [
    {
     "data": {
      "text/plain": [
       "        Sector   Price  BookValue  PER\n",
       "0  Industrials  189.09      17.26  NaN\n",
       "1  Health Care   45.00      13.94  NaN\n",
       "2  Health Care   63.69       2.91  NaN\n",
       "3          NaN     NaN        NaN  0.0\n",
       "4          NaN     NaN        NaN  0.0\n",
       "5          NaN     NaN        NaN  0.0"
      ]
     },
     "execution_count": 67,
     "metadata": {},
     "output_type": "execute_result"
    }
   ],
   "source": [
    "# ignore index labels, create default index\n",
    "df1.append(df3, ignore_index=True)"
   ]
  },
  {
   "cell_type": "markdown",
   "metadata": {},
   "source": [
    "<h3>Concatenating DataFrame objects with pd.concat()</h3>"
   ]
  },
  {
   "cell_type": "markdown",
   "metadata": {},
   "source": [
    "A DataFrame can be concatenated to another using the pd.concat() function. This\n",
    "function functions similarly to the .append() method, but also adds the ability to specify\n",
    "an axis (appending can be row or column based), as well as being able to perform several\n",
    "join operations between the objects. Also, the function takes a list of pandas objects to\n",
    "concatenate, so you can concatenate more than two objects in a single call.\n",
    "The default operation of pd.concat() on two DataFrame objects operates in the same way\n",
    "as the .append() method. This can be demonstrated by reconstructing the two datasets\n",
    "from the earlier example and concatenating them. This is shown in the following example:\n",
    "In"
   ]
  },
  {
   "cell_type": "code",
   "execution_count": 68,
   "metadata": {},
   "outputs": [
    {
     "data": {
      "text/plain": [
       "             Sector   Price  BookValue\n",
       "Symbol                                \n",
       "MMM     Industrials  189.09      17.26\n",
       "ABT     Health Care   45.00      13.94\n",
       "ABBV    Health Care   63.69       2.91"
      ]
     },
     "execution_count": 68,
     "metadata": {},
     "output_type": "execute_result"
    }
   ],
   "source": [
    "# copy the first three rows of sp500\n",
    "df1 = sp500.iloc[0:3].copy()\n",
    "df1"
   ]
  },
  {
   "cell_type": "code",
   "execution_count": 69,
   "metadata": {},
   "outputs": [
    {
     "data": {
      "text/plain": [
       "             Sector   Price  BookValue\n",
       "Symbol                                \n",
       "AMG      Financials  166.56      63.84\n",
       "AFL      Financials   71.95      50.47\n",
       "ABBV    Health Care   63.69       2.91"
      ]
     },
     "execution_count": 69,
     "metadata": {},
     "output_type": "execute_result"
    }
   ],
   "source": [
    "# copy 10th and 11th rows\n",
    "df2 = sp500.iloc[[10, 11, 2]]\n",
    "df2"
   ]
  },
  {
   "cell_type": "code",
   "execution_count": 70,
   "metadata": {},
   "outputs": [
    {
     "data": {
      "text/plain": [
       "             Sector   Price  BookValue\n",
       "Symbol                                \n",
       "MMM     Industrials  189.09      17.26\n",
       "ABT     Health Care   45.00      13.94\n",
       "ABBV    Health Care   63.69       2.91\n",
       "AMG      Financials  166.56      63.84\n",
       "AFL      Financials   71.95      50.47\n",
       "ABBV    Health Care   63.69       2.91"
      ]
     },
     "execution_count": 70,
     "metadata": {},
     "output_type": "execute_result"
    }
   ],
   "source": [
    "# copy the first three rows of sp500\n",
    "df1 = sp500.iloc[0:3].copy()\n",
    "\n",
    "# copy 10th and 11th rows\n",
    "df2 = sp500.iloc[[10, 11, 2]]\n",
    "\n",
    "# pass them as a list\n",
    "pd.concat([df1, df2])"
   ]
  },
  {
   "cell_type": "markdown",
   "metadata": {},
   "source": [
    "A slight variant of this example adds an additional column to one of the DataFrame objects\n",
    "and then performs the concatenation:"
   ]
  },
  {
   "cell_type": "code",
   "execution_count": 71,
   "metadata": {},
   "outputs": [
    {
     "data": {
      "text/plain": [
       "             Sector   Price  BookValue  Foo\n",
       "Symbol                                     \n",
       "AMG      Financials  166.56      63.84    0\n",
       "AFL      Financials   71.95      50.47    0\n",
       "ABBV    Health Care   63.69       2.91    0"
      ]
     },
     "execution_count": 71,
     "metadata": {},
     "output_type": "execute_result"
    }
   ],
   "source": [
    "# copy df2\n",
    "df2_2 = df2.copy()\n",
    "# add a column to df2_2 that is not in df1\n",
    "df2_2.insert(3, 'Foo', pd.Series(0, index=df2.index))\n",
    "# see what it looks like\n",
    "df2_2"
   ]
  },
  {
   "cell_type": "code",
   "execution_count": 72,
   "metadata": {},
   "outputs": [
    {
     "data": {
      "text/plain": [
       "             Sector   Price  BookValue  Foo\n",
       "Symbol                                     \n",
       "MMM     Industrials  189.09      17.26  NaN\n",
       "ABT     Health Care   45.00      13.94  NaN\n",
       "ABBV    Health Care   63.69       2.91  NaN\n",
       "AMG      Financials  166.56      63.84  0.0\n",
       "AFL      Financials   71.95      50.47  0.0\n",
       "ABBV    Health Care   63.69       2.91  0.0"
      ]
     },
     "execution_count": 72,
     "metadata": {},
     "output_type": "execute_result"
    }
   ],
   "source": [
    "# now concatenate\n",
    "pd.concat([df1, df2_2])"
   ]
  },
  {
   "cell_type": "markdown",
   "metadata": {},
   "source": [
    "Using the keys parameter, it is possible to differentiate the pandas objects from which the\n",
    "rows originated. The following code adds a level to the index which represents the source\n",
    "object:"
   ]
  },
  {
   "cell_type": "code",
   "execution_count": 73,
   "metadata": {
    "scrolled": true
   },
   "outputs": [
    {
     "data": {
      "text/plain": [
       "                 Sector   Price  BookValue  Foo\n",
       "    Symbol                                     \n",
       "df1 MMM     Industrials  189.09      17.26  NaN\n",
       "    ABT     Health Care   45.00      13.94  NaN\n",
       "    ABBV    Health Care   63.69       2.91  NaN\n",
       "df2 AMG      Financials  166.56      63.84  0.0\n",
       "    AFL      Financials   71.95      50.47  0.0\n",
       "    ABBV    Health Care   63.69       2.91  0.0"
      ]
     },
     "execution_count": 73,
     "metadata": {},
     "output_type": "execute_result"
    }
   ],
   "source": [
    "# specify keys\n",
    "r = pd.concat([df1, df2_2], keys=['df1', 'df2'])\n",
    "r"
   ]
  },
  {
   "cell_type": "markdown",
   "metadata": {},
   "source": [
    "We can change the axis of the concatenation to work along the columns by specifying\n",
    "axis=1, which will calculate the sorted union of the distinct index labels from the rows\n",
    "and then append columns and their data from the specified objects.\n",
    "To demonstrate, the following splits the sp500 data into two DataFrame objects, each with\n",
    "a different set of columns, and then concatenates along axis=1:"
   ]
  },
  {
   "cell_type": "code",
   "execution_count": 74,
   "metadata": {},
   "outputs": [
    {
     "data": {
      "text/plain": [
       "             Sector   Price\n",
       "Symbol                     \n",
       "MMM     Industrials  189.09\n",
       "ABT     Health Care   45.00\n",
       "ABBV    Health Care   63.69"
      ]
     },
     "execution_count": 74,
     "metadata": {},
     "output_type": "execute_result"
    }
   ],
   "source": [
    "# first three rows, columns 0 and 1\n",
    "df3 = sp500[:3][['Sector', 'Price']]\n",
    "df3"
   ]
  },
  {
   "cell_type": "code",
   "execution_count": 75,
   "metadata": {},
   "outputs": [
    {
     "data": {
      "text/plain": [
       "        BookValue\n",
       "Symbol           \n",
       "MMM         17.26\n",
       "ABT         13.94\n",
       "ABBV         2.91"
      ]
     },
     "execution_count": 75,
     "metadata": {},
     "output_type": "execute_result"
    }
   ],
   "source": [
    "# first three rows, column 2\n",
    "df4 = sp500[:3][['BookValue']]\n",
    "df4"
   ]
  },
  {
   "cell_type": "code",
   "execution_count": 76,
   "metadata": {},
   "outputs": [
    {
     "data": {
      "text/plain": [
       "             Sector   Price  BookValue\n",
       "Symbol                                \n",
       "MMM     Industrials  189.09      17.26\n",
       "ABT     Health Care   45.00      13.94\n",
       "ABBV    Health Care   63.69       2.91"
      ]
     },
     "execution_count": 76,
     "metadata": {},
     "output_type": "execute_result"
    }
   ],
   "source": [
    "# put them back together\n",
    "pd.concat([df3, df4], axis=1)"
   ]
  },
  {
   "cell_type": "code",
   "execution_count": 77,
   "metadata": {},
   "outputs": [
    {
     "data": {
      "text/plain": [
       "             Sector   Price  BookValue\n",
       "Symbol                                \n",
       "MMM     Industrials  189.09        NaN\n",
       "ABT     Health Care   45.00        NaN\n",
       "ABBV    Health Care   63.69        NaN\n",
       "MMM             NaN     NaN      17.26\n",
       "ABT             NaN     NaN      13.94\n",
       "ABBV            NaN     NaN       2.91"
      ]
     },
     "execution_count": 77,
     "metadata": {},
     "output_type": "execute_result"
    }
   ],
   "source": [
    "# VS this\n",
    "pd.concat([df3, df4], axis=0)"
   ]
  },
  {
   "cell_type": "markdown",
   "metadata": {},
   "source": [
    "We can further examine this operation by adding a column to the second DataFrame that\n",
    "has a duplicate name to a column in the first. The result will have duplicate columns, as\n",
    "the columns are blindly appended without regard to already existing columns:"
   ]
  },
  {
   "cell_type": "code",
   "execution_count": 78,
   "metadata": {},
   "outputs": [
    {
     "data": {
      "text/plain": [
       "        BookValue  Sector\n",
       "Symbol                   \n",
       "MMM         17.26       1\n",
       "ABT         13.94       1\n",
       "ABBV         2.91       1"
      ]
     },
     "execution_count": 78,
     "metadata": {},
     "output_type": "execute_result"
    }
   ],
   "source": [
    "# make a copy of df4\n",
    "df4_2 = df4.copy()\n",
    "# add a column to df4_2, that is also in df3\n",
    "df4_2.insert(1, 'Sector', pd.Series(1, index=df4_2.index))\n",
    "df4_2"
   ]
  },
  {
   "cell_type": "code",
   "execution_count": 79,
   "metadata": {},
   "outputs": [
    {
     "data": {
      "text/plain": [
       "             Sector   Price  BookValue  Sector\n",
       "Symbol                                        \n",
       "MMM     Industrials  189.09      17.26       1\n",
       "ABT     Health Care   45.00      13.94       1\n",
       "ABBV    Health Care   63.69       2.91       1"
      ]
     },
     "execution_count": 79,
     "metadata": {},
     "output_type": "execute_result"
    }
   ],
   "source": [
    "# demonstrate duplicate columns\n",
    "pd.concat([df3, df4_2], axis=1)"
   ]
  },
  {
   "cell_type": "markdown",
   "metadata": {},
   "source": [
    "To be very specific, pandas is performing an outer join along the labels of the specified\n",
    "axis. An inner join can be specified using the join='inner' parameter, which changes the\n",
    "operation from being a sorted union of distinct labels to the distinct values of the\n",
    "intersection of the labels. To demonstrate, the following selects two subsets of the\n",
    "financial data with one row in common and performs an inner join:"
   ]
  },
  {
   "cell_type": "code",
   "execution_count": 80,
   "metadata": {},
   "outputs": [
    {
     "data": {
      "text/plain": [
       "             Sector   Price\n",
       "Symbol                     \n",
       "MMM     Industrials  189.09\n",
       "ABT     Health Care   45.00\n",
       "ABBV    Health Care   63.69"
      ]
     },
     "execution_count": 80,
     "metadata": {},
     "output_type": "execute_result"
    }
   ],
   "source": [
    "# first three rows and first two columns\n",
    "df5 = sp500[:3][['Sector', 'Price']]\n",
    "df5"
   ]
  },
  {
   "cell_type": "code",
   "execution_count": 81,
   "metadata": {},
   "outputs": [
    {
     "data": {
      "text/plain": [
       "                        Sector   Price\n",
       "Symbol                                \n",
       "ABBV               Health Care   63.69\n",
       "ACN     Information Technology  124.14\n",
       "ATVI    Information Technology   48.06"
      ]
     },
     "execution_count": 81,
     "metadata": {},
     "output_type": "execute_result"
    }
   ],
   "source": [
    "# row 2 through 4 and first two columns\n",
    "df6 = sp500[2:5][['Sector', 'Price']]\n",
    "df6"
   ]
  },
  {
   "cell_type": "code",
   "execution_count": 82,
   "metadata": {},
   "outputs": [
    {
     "data": {
      "text/plain": [
       "             Sector  Price       Sector  Price\n",
       "Symbol                                        \n",
       "ABBV    Health Care  63.69  Health Care  63.69"
      ]
     },
     "execution_count": 82,
     "metadata": {},
     "output_type": "execute_result"
    }
   ],
   "source": [
    "# inner join on index labels will return in only one row\n",
    "pd.concat([df5, df6], join='inner', axis=1)"
   ]
  },
  {
   "cell_type": "markdown",
   "metadata": {},
   "source": [
    "<h3>Adding rows (and columns) via setting with enlargement</h3>"
   ]
  },
  {
   "cell_type": "markdown",
   "metadata": {},
   "source": [
    "Rows can also be added to a DataFrame through the .loc property. This technique is\n",
    "referred to as setting with enlargement. The parameter for .loc specifies the index label\n",
    "where the row is to be placed. If the label does not exist, the values are appended to the\n",
    "DataFrame using the given index label. If it does exist, then the values in the specified row\n",
    "are replaced.\n"
   ]
  },
  {
   "cell_type": "code",
   "execution_count": 83,
   "metadata": {},
   "outputs": [
    {
     "data": {
      "text/plain": [
       "             Sector   Price  BookValue\n",
       "Symbol                                \n",
       "MMM     Industrials  189.09      17.26\n",
       "ABT     Health Care   45.00      13.94\n",
       "ABBV    Health Care   63.69       2.91"
      ]
     },
     "execution_count": 83,
     "metadata": {},
     "output_type": "execute_result"
    }
   ],
   "source": [
    "# get a small subset of the sp500\n",
    "# make sure to copy the slice to make a copy\n",
    "ss = sp500[:3].copy()\n",
    "ss"
   ]
  },
  {
   "cell_type": "code",
   "execution_count": 84,
   "metadata": {},
   "outputs": [
    {
     "data": {
      "text/plain": [
       "             Sector   Price  BookValue\n",
       "Symbol                                \n",
       "MMM     Industrials  189.09      17.26\n",
       "ABT     Health Care   45.00      13.94\n",
       "ABBV    Health Care   63.69       2.91\n",
       "FOO      the sector  100.00     110.00"
      ]
     },
     "execution_count": 84,
     "metadata": {},
     "output_type": "execute_result"
    }
   ],
   "source": [
    "# create a new row with index label FOO\n",
    "# and assign some values to the columns via a list\n",
    "ss.loc['FOO'] = ['the sector', 100, 110]\n",
    "ss"
   ]
  },
  {
   "cell_type": "markdown",
   "metadata": {},
   "source": [
    "Note that the change is made in place. If FOO already exists as an index label, then the\n",
    "column data would be replaced. This is one of the means of updating data in a DataFrame\n",
    "in-place, as .loc not only retrieves row(s), but also lets you modify the results that are\n",
    "returned."
   ]
  },
  {
   "cell_type": "markdown",
   "metadata": {},
   "source": [
    "It is also possible to add columns in this manner. The following code demonstrates by\n",
    "adding a new column to a subset of sp500 using .loc. Note that to accomplish this, we use\n",
    "the colon in the rows’ position to select all rows to be included to add the new column and\n",
    "value:"
   ]
  },
  {
   "cell_type": "code",
   "execution_count": 85,
   "metadata": {},
   "outputs": [
    {
     "data": {
      "text/plain": [
       "             Sector   Price  BookValue  PER\n",
       "Symbol                                     \n",
       "MMM     Industrials  189.09      17.26    0\n",
       "ABT     Health Care   45.00      13.94    0\n",
       "ABBV    Health Care   63.69       2.91    0"
      ]
     },
     "execution_count": 85,
     "metadata": {},
     "output_type": "execute_result"
    }
   ],
   "source": [
    "# copy of subset / slice\n",
    "ss = sp500[:3].copy()\n",
    "\n",
    "# add the new column initialized to 0\n",
    "ss.loc[:,'PER'] = 0\n",
    "\n",
    "# take a look at the results\n",
    "ss"
   ]
  },
  {
   "cell_type": "markdown",
   "metadata": {},
   "source": [
    "<h2>Removing rows from a DataFrame</h2>"
   ]
  },
  {
   "cell_type": "markdown",
   "metadata": {},
   "source": [
    "<p>Removing rows from a DataFrame object is normally performed using one of three\n",
    "techniques:</p>\n",
    "<ul>\n",
    "<li>Using the .drop() method</li>\n",
    "<li>Boolean selection</li>\n",
    "<li>Selection using a slice</li>\n",
    "</ul>\n",
    "<p>Technically, only the .drop() method removes rows in-place on the source object. The\n",
    "other techniques either create a copy without specific rows, or a view into the rows that\n",
    "are not to be dropped. Details of each are given in the following sections.</p>"
   ]
  },
  {
   "cell_type": "markdown",
   "metadata": {},
   "source": [
    "<h3>Removing rows using .drop()</h3>"
   ]
  },
  {
   "cell_type": "markdown",
   "metadata": {},
   "source": [
    "To remove rows from a DataFrame by the index label, you can use the .drop() method of\n",
    "the DataFrame. The .drop() method takes a list of index labels and will return a copy of\n",
    "the DataFrame with the rows for the specified labels removed. The source DataFrame\n",
    "remains unmodified."
   ]
  },
  {
   "cell_type": "code",
   "execution_count": 86,
   "metadata": {},
   "outputs": [
    {
     "data": {
      "text/plain": [
       "                        Sector   Price  BookValue\n",
       "Symbol                                           \n",
       "MMM                Industrials  189.09      17.26\n",
       "ABT                Health Care   45.00      13.94\n",
       "ABBV               Health Care   63.69       2.91\n",
       "ACN     Information Technology  124.14      11.95\n",
       "ATVI    Information Technology   48.06      12.23"
      ]
     },
     "execution_count": 86,
     "metadata": {},
     "output_type": "execute_result"
    }
   ],
   "source": [
    "# get a copy of the first 5 rows of sp500\n",
    "ss = sp500[:5].copy()\n",
    "ss"
   ]
  },
  {
   "cell_type": "code",
   "execution_count": 87,
   "metadata": {},
   "outputs": [
    {
     "data": {
      "text/plain": [
       "                        Sector   Price  BookValue\n",
       "Symbol                                           \n",
       "MMM                Industrials  189.09      17.26\n",
       "ABBV               Health Care   63.69       2.91\n",
       "ATVI    Information Technology   48.06      12.23"
      ]
     },
     "execution_count": 87,
     "metadata": {},
     "output_type": "execute_result"
    }
   ],
   "source": [
    "# drop rows with labels ABT and ACN\n",
    "afterdrop = ss.drop(['ABT', 'ACN'])\n",
    "afterdrop"
   ]
  },
  {
   "cell_type": "markdown",
   "metadata": {},
   "source": [
    "<h3>Removing rows using Boolean selection</h3>"
   ]
  },
  {
   "cell_type": "code",
   "execution_count": 88,
   "metadata": {},
   "outputs": [
    {
     "data": {
      "text/plain": [
       "Symbol\n",
       "MMM     False\n",
       "ABT     False\n",
       "ABBV    False\n",
       "ACN     False\n",
       "ATVI    False\n",
       "        ...  \n",
       "YHOO    False\n",
       "YUM     False\n",
       "ZBH     False\n",
       "ZION    False\n",
       "ZTS     False\n",
       "Name: Price, Length: 505, dtype: bool"
      ]
     },
     "execution_count": 88,
     "metadata": {},
     "output_type": "execute_result"
    }
   ],
   "source": [
    "# determine the rows where Price > 300\n",
    "selection = sp500.Price > 300\n",
    "selection"
   ]
  },
  {
   "cell_type": "code",
   "execution_count": 89,
   "metadata": {},
   "outputs": [
    {
     "data": {
      "text/plain": [
       "'505 13'"
      ]
     },
     "execution_count": 89,
     "metadata": {},
     "output_type": "execute_result"
    }
   ],
   "source": [
    "# to make the output shorter, report the # of rows returned (500),\n",
    "# and the sum of those where Price > 300 (which is 10)\n",
    "\"{0} {1}\".format(len(selection), selection.sum())"
   ]
  },
  {
   "cell_type": "markdown",
   "metadata": {},
   "source": [
    "We now know both the rows that match this criteria (the 10 with True values) and those\n",
    "that do not (the other 490). To remove the rows now, select out the complement of the\n",
    "previous result. This gives us a new DataFrame containing only the rows where we had a\n",
    "False value from the previous selection:"
   ]
  },
  {
   "cell_type": "code",
   "execution_count": 90,
   "metadata": {},
   "outputs": [
    {
     "data": {
      "text/plain": [
       "                        Sector   Price  BookValue\n",
       "Symbol                                           \n",
       "MMM                Industrials  189.09      17.26\n",
       "ABT                Health Care   45.00      13.94\n",
       "ABBV               Health Care   63.69       2.91\n",
       "ACN     Information Technology  124.14      11.95\n",
       "ATVI    Information Technology   48.06      12.23\n",
       "...                        ...     ...        ...\n",
       "YHOO    Information Technology   45.73      32.50\n",
       "YUM     Consumer Discretionary   64.02     -15.93\n",
       "ZBH                Health Care  117.07      48.20\n",
       "ZION                Financials   45.28      34.10\n",
       "ZTS                Health Care   53.07       3.02\n",
       "\n",
       "[492 rows x 3 columns]"
      ]
     },
     "execution_count": 90,
     "metadata": {},
     "output_type": "execute_result"
    }
   ],
   "source": [
    "# select the complement\n",
    "withPriceLessThan300 = sp500[~selection]\n",
    "withPriceLessThan300"
   ]
  },
  {
   "cell_type": "markdown",
   "metadata": {},
   "source": [
    "<h3>Removing rows using a slice</h3>"
   ]
  },
  {
   "cell_type": "markdown",
   "metadata": {},
   "source": [
    "Slicing is also often used to remove records from a DataFrame. It is a process similar to\n",
    "Boolean selection, where we select out all of the rows, except for the ones you want\n",
    "deleted.\n",
    "Suppose we want to remove all but the first three records from sp500. The slice to perform\n",
    "this task is [:3]:"
   ]
  },
  {
   "cell_type": "code",
   "execution_count": 91,
   "metadata": {},
   "outputs": [
    {
     "data": {
      "text/plain": [
       "             Sector   Price  BookValue\n",
       "Symbol                                \n",
       "MMM     Industrials  189.09      17.26\n",
       "ABT     Health Care   45.00      13.94\n",
       "ABBV    Health Care   63.69       2.91"
      ]
     },
     "execution_count": 91,
     "metadata": {},
     "output_type": "execute_result"
    }
   ],
   "source": [
    "# get only the first three rows\n",
    "onlyFirstThree = sp500[:3]\n",
    "onlyFirstThree"
   ]
  },
  {
   "cell_type": "markdown",
   "metadata": {},
   "source": [
    "Remember, that this result is a slice. Therefore, it is a view into the DataFrame. Data has\n",
    "not been removed from the sp500 object. Changes to these three rows will change the data\n",
    "in sp500. To prevent this from occurring, the proper action is to make a copy of the slice,\n",
    "as follows:"
   ]
  },
  {
   "cell_type": "code",
   "execution_count": 92,
   "metadata": {},
   "outputs": [
    {
     "data": {
      "text/plain": [
       "             Sector   Price  BookValue\n",
       "Symbol                                \n",
       "MMM     Industrials  189.09      17.26\n",
       "ABT     Health Care   45.00      13.94\n",
       "ABBV    Health Care   63.69       2.91"
      ]
     },
     "execution_count": 92,
     "metadata": {},
     "output_type": "execute_result"
    }
   ],
   "source": [
    "# first three, but a copy of them\n",
    "onlyFirstThree = sp500[:3].copy()\n",
    "onlyFirstThree"
   ]
  },
  {
   "cell_type": "markdown",
   "metadata": {},
   "source": [
    "<h2>Changing scalar values in a DataFrame</h2>"
   ]
  },
  {
   "cell_type": "code",
   "execution_count": 93,
   "metadata": {},
   "outputs": [
    {
     "data": {
      "text/plain": [
       "             Sector   Price  BookValue\n",
       "Symbol                                \n",
       "MMM     Industrials  189.09      17.26\n",
       "ABT     Health Care   45.00      13.94\n",
       "ABBV    Health Care   63.69       2.91"
      ]
     },
     "execution_count": 93,
     "metadata": {},
     "output_type": "execute_result"
    }
   ],
   "source": [
    "# get a subset / copy of the data\n",
    "subset = sp500[:3].copy()\n",
    "subset"
   ]
  },
  {
   "cell_type": "code",
   "execution_count": 94,
   "metadata": {},
   "outputs": [
    {
     "data": {
      "text/plain": [
       "             Sector  Price  BookValue\n",
       "Symbol                               \n",
       "MMM     Industrials   10.0      17.26\n",
       "ABT     Health Care   45.0      13.94\n",
       "ABBV    Health Care   20.0       2.91"
      ]
     },
     "execution_count": 94,
     "metadata": {},
     "output_type": "execute_result"
    }
   ],
   "source": [
    "subset = sp500[:3].copy()\n",
    "subset.loc['MMM', 'Price'] = 10\n",
    "subset.loc['ABBV', 'Price'] = 20\n",
    "subset"
   ]
  },
  {
   "cell_type": "markdown",
   "metadata": {},
   "source": [
    ".loc may suffer from lower performance, as compared to .iloc, due to the possibility of\n",
    "needing to map the label values into locations. The following example gets the location of\n",
    "the specific row and column that is desired to be changed and then uses .iloc to execute\n",
    "the change (the examples only change one price for brevity):"
   ]
  },
  {
   "cell_type": "code",
   "execution_count": 95,
   "metadata": {},
   "outputs": [],
   "source": [
    "# subset of the first three rows\n",
    "subset = sp500[:3].copy()\n"
   ]
  },
  {
   "cell_type": "code",
   "execution_count": 96,
   "metadata": {},
   "outputs": [
    {
     "data": {
      "text/plain": [
       "1"
      ]
     },
     "execution_count": 96,
     "metadata": {},
     "output_type": "execute_result"
    }
   ],
   "source": [
    "# get the location of the Price column\n",
    "price_loc = sp500.columns.get_loc('Price')\n",
    "price_loc"
   ]
  },
  {
   "cell_type": "code",
   "execution_count": 97,
   "metadata": {},
   "outputs": [
    {
     "data": {
      "text/plain": [
       "1"
      ]
     },
     "execution_count": 97,
     "metadata": {},
     "output_type": "execute_result"
    }
   ],
   "source": [
    "# get the location of the MMM row\n",
    "abt_row_loc = sp500.index.get_loc('ABT')\n",
    "abt_row_loc"
   ]
  },
  {
   "cell_type": "code",
   "execution_count": 98,
   "metadata": {},
   "outputs": [
    {
     "data": {
      "text/plain": [
       "             Sector    Price  BookValue\n",
       "Symbol                                 \n",
       "MMM     Industrials   189.09      17.26\n",
       "ABT     Health Care  1000.00      13.94\n",
       "ABBV    Health Care    63.69       2.91"
      ]
     },
     "execution_count": 98,
     "metadata": {},
     "output_type": "execute_result"
    }
   ],
   "source": [
    "# change the price\n",
    "subset.iloc[abt_row_loc, price_loc] = 1000\n",
    "subset"
   ]
  },
  {
   "cell_type": "markdown",
   "metadata": {},
   "source": [
    "<h2>Arithmetic on a DataFrame</h2>"
   ]
  },
  {
   "cell_type": "markdown",
   "metadata": {},
   "source": [
    "Arithmetic operations using scalar values will be applied to every element of a DataFrame.\n",
    "To demonstrate, we will use a DataFrame object initialized with random values:"
   ]
  },
  {
   "cell_type": "code",
   "execution_count": 99,
   "metadata": {},
   "outputs": [
    {
     "data": {
      "text/plain": [
       "          A         B         C         D\n",
       "0  0.469112 -0.282863 -1.509059 -1.135632\n",
       "1  1.212112 -0.173215  0.119209 -1.044236\n",
       "2 -0.861849 -2.104569 -0.494929  1.071804\n",
       "3  0.721555 -0.706771 -1.039575  0.271860\n",
       "4 -0.424972  0.567020  0.276232 -1.087401"
      ]
     },
     "execution_count": 99,
     "metadata": {},
     "output_type": "execute_result"
    }
   ],
   "source": [
    "# set the seed to allow replicatable results\n",
    "np.random.seed(123456)\n",
    "\n",
    "# create the DataFrame\n",
    "df = pd.DataFrame(np.random.randn(5, 4), columns=['A', 'B', 'C', 'D'])\n",
    "df"
   ]
  },
  {
   "cell_type": "markdown",
   "metadata": {},
   "source": [
    "By default, any arithmetic operation will be applied across all rows and columns of a\n",
    "DataFrame and will return a new DataFrame with the results (leaving the original\n",
    "unchanged):"
   ]
  },
  {
   "cell_type": "code",
   "execution_count": 100,
   "metadata": {},
   "outputs": [
    {
     "data": {
      "text/plain": [
       "          A         B         C         D\n",
       "0  0.938225 -0.565727 -3.018117 -2.271265\n",
       "1  2.424224 -0.346429  0.238417 -2.088472\n",
       "2 -1.723698 -4.209138 -0.989859  2.143608\n",
       "3  1.443110 -1.413542 -2.079150  0.543720\n",
       "4 -0.849945  1.134041  0.552464 -2.174801"
      ]
     },
     "execution_count": 100,
     "metadata": {},
     "output_type": "execute_result"
    }
   ],
   "source": [
    "# multiply everything by 2\n",
    "df * 2"
   ]
  },
  {
   "cell_type": "markdown",
   "metadata": {},
   "source": [
    "<p>When performing an operation between a DataFrame and a Series, pandas will align the\n",
    "Series index along the DataFrame columns, performing what is referred to as a row-wise\n",
    "broadcast.</p>\n",
    "<p>The following example retrieves the first row of the DataFrame, and then subtracts this\n",
    "from each row of the DataFrame. pandas is broadcasting the Series to each row of the\n",
    "DataFrame, which aligns each series item with the DataFrame item of the same index label\n",
    "and then applies the minus operator on the matched values:</p>"
   ]
  },
  {
   "cell_type": "code",
   "execution_count": 101,
   "metadata": {},
   "outputs": [
    {
     "data": {
      "text/plain": [
       "A    0.469112\n",
       "B   -0.282863\n",
       "C   -1.509059\n",
       "D   -1.135632\n",
       "Name: 0, dtype: float64"
      ]
     },
     "execution_count": 101,
     "metadata": {},
     "output_type": "execute_result"
    }
   ],
   "source": [
    "# get first row\n",
    "s = df.iloc[0]\n",
    "s"
   ]
  },
  {
   "cell_type": "code",
   "execution_count": 102,
   "metadata": {},
   "outputs": [
    {
     "data": {
      "text/plain": [
       "          A         B         C         D\n",
       "0  0.000000  0.000000  0.000000  0.000000\n",
       "1  0.743000  0.109649  1.628267  0.091396\n",
       "2 -1.330961 -1.821706  1.014129  2.207436\n",
       "3  0.252443 -0.423908  0.469484  1.407492\n",
       "4 -0.894085  0.849884  1.785291  0.048232"
      ]
     },
     "execution_count": 102,
     "metadata": {},
     "output_type": "execute_result"
    }
   ],
   "source": [
    "# subtract first row from every row of the DataFrame\n",
    "diff = df - s\n",
    "diff"
   ]
  },
  {
   "cell_type": "markdown",
   "metadata": {},
   "source": [
    "This also works when reversing the order by subtracting the DataFrame to the Series\n",
    "object:"
   ]
  },
  {
   "cell_type": "code",
   "execution_count": 103,
   "metadata": {},
   "outputs": [
    {
     "data": {
      "text/plain": [
       "          A         B         C         D\n",
       "0  0.000000  0.000000  0.000000  0.000000\n",
       "1 -0.743000 -0.109649 -1.628267 -0.091396\n",
       "2  1.330961  1.821706 -1.014129 -2.207436\n",
       "3 -0.252443  0.423908 -0.469484 -1.407492\n",
       "4  0.894085 -0.849884 -1.785291 -0.048232"
      ]
     },
     "execution_count": 103,
     "metadata": {},
     "output_type": "execute_result"
    }
   ],
   "source": [
    "# subtract DataFrame from Series\n",
    "diff2 = s - df\n",
    "diff2"
   ]
  },
  {
   "cell_type": "markdown",
   "metadata": {},
   "source": [
    "The set of columns returned will be the union of the labels in the index of both the series\n",
    "and the columns index of the DataFrame object. If a label representing the result column is\n",
    "not found in either the Series of the DataFrame object, then the values will be NaN filled.\n",
    "The following code demonstrates, by creating a Series with an index representing a\n",
    "subset of the column in the DataFrame, but also with an additional label:"
   ]
  },
  {
   "cell_type": "code",
   "execution_count": 104,
   "metadata": {},
   "outputs": [
    {
     "data": {
      "text/plain": [
       "B   -0.282863\n",
       "C   -1.509059\n",
       "Name: 0, dtype: float64"
      ]
     },
     "execution_count": 104,
     "metadata": {},
     "output_type": "execute_result"
    }
   ],
   "source": [
    "# B, C\n",
    "s2 = s[1:3]\n",
    "s2"
   ]
  },
  {
   "cell_type": "code",
   "execution_count": 105,
   "metadata": {},
   "outputs": [
    {
     "data": {
      "text/plain": [
       "B   -0.282863\n",
       "C   -1.509059\n",
       "E    0.000000\n",
       "Name: 0, dtype: float64"
      ]
     },
     "execution_count": 105,
     "metadata": {},
     "output_type": "execute_result"
    }
   ],
   "source": [
    "s2['E'] = 0\n",
    "s2"
   ]
  },
  {
   "cell_type": "code",
   "execution_count": 106,
   "metadata": {},
   "outputs": [
    {
     "data": {
      "text/plain": [
       "    A         B         C   D   E\n",
       "0 NaN -0.565727 -3.018117 NaN NaN\n",
       "1 NaN -0.456078 -1.389850 NaN NaN\n",
       "2 NaN -2.387433 -2.003988 NaN NaN\n",
       "3 NaN -0.989634 -2.548633 NaN NaN\n",
       "4 NaN  0.284157 -1.232826 NaN NaN"
      ]
     },
     "execution_count": 106,
     "metadata": {},
     "output_type": "execute_result"
    }
   ],
   "source": [
    "# see how alignment is applied in math\n",
    "df + s2"
   ]
  },
  {
   "cell_type": "markdown",
   "metadata": {},
   "source": [
    "An arithmetic operation between two DataFrame objects will align by both the column and\n",
    "index labels. The following extracts a small portion of df and subtracts it from df. The\n",
    "result demonstrates that the aligned values subtract to 0, while the others are set to NaN:"
   ]
  },
  {
   "cell_type": "code",
   "execution_count": 107,
   "metadata": {},
   "outputs": [
    {
     "data": {
      "text/plain": [
       "          B         C\n",
       "1 -0.173215  0.119209\n",
       "2 -2.104569 -0.494929\n",
       "3 -0.706771 -1.039575"
      ]
     },
     "execution_count": 107,
     "metadata": {},
     "output_type": "execute_result"
    }
   ],
   "source": [
    "# get rows 1 through three, and only B, C columns\n",
    "subframe = df[1:4][['B', 'C']]\n",
    "subframe"
   ]
  },
  {
   "cell_type": "code",
   "execution_count": 108,
   "metadata": {},
   "outputs": [
    {
     "data": {
      "text/plain": [
       "    A    B    C   D\n",
       "0 NaN  NaN  NaN NaN\n",
       "1 NaN  0.0  0.0 NaN\n",
       "2 NaN  0.0  0.0 NaN\n",
       "3 NaN  0.0  0.0 NaN\n",
       "4 NaN  NaN  NaN NaN"
      ]
     },
     "execution_count": 108,
     "metadata": {},
     "output_type": "execute_result"
    }
   ],
   "source": [
    "# demonstrate the alignment of the subtraction\n",
    "df - subframe"
   ]
  },
  {
   "cell_type": "markdown",
   "metadata": {},
   "source": [
    "Additional control of an arithmetic operation can be gained using the arithmetic methods\n",
    "provided by the DataFrame object. These methods provide the specification of a specific\n",
    "axis. The following demonstrates performing subtraction along a column axis by using the\n",
    "DataFrame objects .sub() method, subtracting the A column from every column:"
   ]
  },
  {
   "cell_type": "code",
   "execution_count": 109,
   "metadata": {},
   "outputs": [
    {
     "data": {
      "text/plain": [
       "0    0.469112\n",
       "1    1.212112\n",
       "2   -0.861849\n",
       "3    0.721555\n",
       "4   -0.424972\n",
       "Name: A, dtype: float64"
      ]
     },
     "execution_count": 109,
     "metadata": {},
     "output_type": "execute_result"
    }
   ],
   "source": [
    "# get the A column\n",
    "a_col = df['A']\n",
    "a_col"
   ]
  },
  {
   "cell_type": "code",
   "execution_count": 110,
   "metadata": {},
   "outputs": [
    {
     "data": {
      "text/plain": [
       "     A         B         C         D\n",
       "0  0.0 -0.751976 -1.978171 -1.604745\n",
       "1  0.0 -1.385327 -1.092903 -2.256348\n",
       "2  0.0 -1.242720  0.366920  1.933653\n",
       "3  0.0 -1.428326 -1.761130 -0.449695\n",
       "4  0.0  0.991993  0.701204 -0.662428"
      ]
     },
     "execution_count": 110,
     "metadata": {},
     "output_type": "execute_result"
    }
   ],
   "source": [
    "df.sub(a_col, axis=0)"
   ]
  },
  {
   "cell_type": "markdown",
   "metadata": {},
   "source": [
    "<h2>Resetting and reindexing</h2>"
   ]
  },
  {
   "cell_type": "markdown",
   "metadata": {},
   "source": [
    "A DataFrame can have its index reset by using the .reset_index(). A common use of\n",
    "this, is to move the contents of a DataFrame object’s index into one or more columns. The\n",
    "following code moves the symbols in the index of sp500 into a column and replaces the\n",
    "index with a default integer index. The result is a new DataFrame, not an in-place update.\n",
    "The code is as follows:"
   ]
  },
  {
   "cell_type": "code",
   "execution_count": 111,
   "metadata": {},
   "outputs": [
    {
     "data": {
      "text/plain": [
       "    Symbol                  Sector   Price  BookValue\n",
       "0      MMM             Industrials  189.09      17.26\n",
       "1      ABT             Health Care   45.00      13.94\n",
       "2     ABBV             Health Care   63.69       2.91\n",
       "3      ACN  Information Technology  124.14      11.95\n",
       "4     ATVI  Information Technology   48.06      12.23\n",
       "..     ...                     ...     ...        ...\n",
       "500   YHOO  Information Technology   45.73      32.50\n",
       "501    YUM  Consumer Discretionary   64.02     -15.93\n",
       "502    ZBH             Health Care  117.07      48.20\n",
       "503   ZION              Financials   45.28      34.10\n",
       "504    ZTS             Health Care   53.07       3.02\n",
       "\n",
       "[505 rows x 4 columns]"
      ]
     },
     "execution_count": 111,
     "metadata": {},
     "output_type": "execute_result"
    }
   ],
   "source": [
    "# reset the index, moving it into a column\n",
    "reset_sp500 = sp500.reset_index()\n",
    "reset_sp500"
   ]
  },
  {
   "cell_type": "markdown",
   "metadata": {},
   "source": [
    "One or more columns can also be moved into the index. Another common scenario is\n",
    "exhibited by the reset variable we just created, as this may have been data read in from a\n",
    "file with the symbols in a column when we really would like it in the index. To do this, we\n",
    "can utilize the .set_index() method. The following code moves Symbol into the index of\n",
    "a new DataFrame:"
   ]
  },
  {
   "cell_type": "code",
   "execution_count": 112,
   "metadata": {},
   "outputs": [
    {
     "data": {
      "text/plain": [
       "                        Sector   Price  BookValue\n",
       "Symbol                                           \n",
       "MMM                Industrials  189.09      17.26\n",
       "ABT                Health Care   45.00      13.94\n",
       "ABBV               Health Care   63.69       2.91\n",
       "ACN     Information Technology  124.14      11.95\n",
       "ATVI    Information Technology   48.06      12.23\n",
       "...                        ...     ...        ...\n",
       "YHOO    Information Technology   45.73      32.50\n",
       "YUM     Consumer Discretionary   64.02     -15.93\n",
       "ZBH                Health Care  117.07      48.20\n",
       "ZION                Financials   45.28      34.10\n",
       "ZTS                Health Care   53.07       3.02\n",
       "\n",
       "[505 rows x 3 columns]"
      ]
     },
     "execution_count": 112,
     "metadata": {},
     "output_type": "execute_result"
    }
   ],
   "source": [
    "# move the Symbol column into the index\n",
    "reset_sp500.set_index('Symbol')"
   ]
  },
  {
   "cell_type": "markdown",
   "metadata": {},
   "source": [
    "An index can be explicitly set using the .set_index() method. This method, given a list\n",
    "of values representing the new index, will create a new DataFrame using the specified\n",
    "values, and then align the data from the target in the new object. The following code\n",
    "demonstrates this, by using a subset of sp500 and assigning a new index that contains a\n",
    "subset of those indexes and an additional label FOO:"
   ]
  },
  {
   "cell_type": "code",
   "execution_count": 113,
   "metadata": {},
   "outputs": [
    {
     "data": {
      "text/plain": [
       "                        Sector   Price  BookValue\n",
       "Symbol                                           \n",
       "MMM                Industrials  189.09      17.26\n",
       "ABT                Health Care   45.00      13.94\n",
       "ABBV               Health Care   63.69       2.91\n",
       "ACN     Information Technology  124.14      11.95"
      ]
     },
     "execution_count": 113,
     "metadata": {},
     "output_type": "execute_result"
    }
   ],
   "source": [
    "# get first four rows\n",
    "subset = sp500[:4].copy()\n",
    "subset"
   ]
  },
  {
   "cell_type": "code",
   "execution_count": 114,
   "metadata": {},
   "outputs": [
    {
     "data": {
      "text/plain": [
       "             Sector   Price  BookValue\n",
       "Symbol                                \n",
       "MMM     Industrials  189.09      17.26\n",
       "ABBV    Health Care   63.69       2.91\n",
       "FOO             NaN     NaN        NaN"
      ]
     },
     "execution_count": 114,
     "metadata": {},
     "output_type": "execute_result"
    }
   ],
   "source": [
    "# reindex to have MMM, ABBV, and FOO index labels\n",
    "reindexed = subset.reindex(index=['MMM', 'ABBV', 'FOO'])\n",
    "# note that ABT and ACN are dropped and FOO has NaN values\n",
    "reindexed"
   ]
  },
  {
   "cell_type": "markdown",
   "metadata": {},
   "source": [
    "Reindexing can also be done upon the columns. The following reindexes the columns of\n",
    "subset:"
   ]
  },
  {
   "cell_type": "code",
   "execution_count": 115,
   "metadata": {},
   "outputs": [
    {
     "data": {
      "text/plain": [
       "         Price  Book Value  NewCol\n",
       "Symbol                            \n",
       "MMM     189.09         NaN     NaN\n",
       "ABT      45.00         NaN     NaN\n",
       "ABBV     63.69         NaN     NaN\n",
       "ACN     124.14         NaN     NaN"
      ]
     },
     "execution_count": 115,
     "metadata": {},
     "output_type": "execute_result"
    }
   ],
   "source": [
    "# reindex columns\n",
    "subset.reindex(columns=['Price', 'Book Value', 'NewCol'])"
   ]
  },
  {
   "cell_type": "markdown",
   "metadata": {},
   "source": [
    "Finally, a DataFrame can also be reindexed on rows and columns at the same time,"
   ]
  },
  {
   "cell_type": "code",
   "execution_count": 116,
   "metadata": {},
   "outputs": [
    {
     "data": {
      "text/plain": [
       "         Price  Book Value  NewCol\n",
       "Symbol                            \n",
       "MMM     189.09         NaN     NaN\n",
       "ABBV     63.69         NaN     NaN\n",
       "FOO        NaN         NaN     NaN"
      ]
     },
     "execution_count": 116,
     "metadata": {},
     "output_type": "execute_result"
    }
   ],
   "source": [
    "subset.reindex(index=['MMM', 'ABBV', 'FOO'], columns=['Price', 'Book Value', 'NewCol'])"
   ]
  },
  {
   "cell_type": "markdown",
   "metadata": {},
   "source": [
    "<h2>Hierarchical indexing</h2>"
   ]
  },
  {
   "cell_type": "markdown",
   "metadata": {},
   "source": [
    "<p>Hierarchical indexing is a feature of pandas that allows specifying two or more index\n",
    "levels on an axis. The specification of multiple levels in an index allows for efficient\n",
    "selection of subsets of data. A pandas index that has multiple levels of hierarchy is\n",
    "referred to as a MultiIndex.</p>\n",
    "\n",
    "<p>We can demonstrate creating a MultiIndex using the sp500 data. Suppose we want to\n",
    "organize this data by both the Sector and Symbol. We can accomplish this with the\n",
    "following code:</p>"
   ]
  },
  {
   "cell_type": "code",
   "execution_count": 117,
   "metadata": {},
   "outputs": [
    {
     "data": {
      "text/plain": [
       "    Symbol                  Sector   Price  BookValue\n",
       "0      MMM             Industrials  189.09      17.26\n",
       "1      ABT             Health Care   45.00      13.94\n",
       "2     ABBV             Health Care   63.69       2.91\n",
       "3      ACN  Information Technology  124.14      11.95\n",
       "4     ATVI  Information Technology   48.06      12.23\n",
       "..     ...                     ...     ...        ...\n",
       "500   YHOO  Information Technology   45.73      32.50\n",
       "501    YUM  Consumer Discretionary   64.02     -15.93\n",
       "502    ZBH             Health Care  117.07      48.20\n",
       "503   ZION              Financials   45.28      34.10\n",
       "504    ZTS             Health Care   53.07       3.02\n",
       "\n",
       "[505 rows x 4 columns]"
      ]
     },
     "execution_count": 117,
     "metadata": {},
     "output_type": "execute_result"
    }
   ],
   "source": [
    "# first, push symbol into a column\n",
    "reindexed = sp500.reset_index()\n",
    "reindexed"
   ]
  },
  {
   "cell_type": "code",
   "execution_count": 118,
   "metadata": {},
   "outputs": [
    {
     "data": {
      "text/plain": [
       "                                Price  BookValue\n",
       "Sector                 Symbol                   \n",
       "Industrials            MMM     189.09      17.26\n",
       "Health Care            ABT      45.00      13.94\n",
       "                       ABBV     63.69       2.91\n",
       "Information Technology ACN     124.14      11.95\n",
       "                       ATVI     48.06      12.23\n",
       "...                               ...        ...\n",
       "                       YHOO     45.73      32.50\n",
       "Consumer Discretionary YUM      64.02     -15.93\n",
       "Health Care            ZBH     117.07      48.20\n",
       "Financials             ZION     45.28      34.10\n",
       "Health Care            ZTS      53.07       3.02\n",
       "\n",
       "[505 rows x 2 columns]"
      ]
     },
     "execution_count": 118,
     "metadata": {},
     "output_type": "execute_result"
    }
   ],
   "source": [
    "# and now index sp500 by sector and symbol\n",
    "multi_fi = reindexed.set_index(['Sector', 'Symbol'])\n",
    "multi_fi"
   ]
  },
  {
   "cell_type": "markdown",
   "metadata": {},
   "source": [
    "We can now examine the .index property and check whether it is a MultiIndex object:"
   ]
  },
  {
   "cell_type": "code",
   "execution_count": 119,
   "metadata": {},
   "outputs": [
    {
     "data": {
      "text/plain": [
       "pandas.core.indexes.multi.MultiIndex"
      ]
     },
     "execution_count": 119,
     "metadata": {},
     "output_type": "execute_result"
    }
   ],
   "source": [
    "# the index is a MultiIndex\n",
    "type(multi_fi.index)"
   ]
  },
  {
   "cell_type": "code",
   "execution_count": 120,
   "metadata": {},
   "outputs": [
    {
     "name": "stdout",
     "output_type": "stream",
     "text": [
      "MultiIndex([(           'Industrials',  'MMM'),\n",
      "            (           'Health Care',  'ABT'),\n",
      "            (           'Health Care', 'ABBV'),\n",
      "            ('Information Technology',  'ACN'),\n",
      "            ('Information Technology', 'ATVI'),\n",
      "            (           'Industrials',  'AYI'),\n",
      "            ('Information Technology', 'ADBE'),\n",
      "            ('Consumer Discretionary',  'AAP'),\n",
      "            (             'Utilities',  'AES'),\n",
      "            (           'Health Care',  'AET'),\n",
      "            ...\n",
      "            (             'Utilities',  'XEL'),\n",
      "            ('Information Technology',  'XRX'),\n",
      "            ('Information Technology', 'XLNX'),\n",
      "            (            'Financials',   'XL'),\n",
      "            (           'Industrials',  'XYL'),\n",
      "            ('Information Technology', 'YHOO'),\n",
      "            ('Consumer Discretionary',  'YUM'),\n",
      "            (           'Health Care',  'ZBH'),\n",
      "            (            'Financials', 'ZION'),\n",
      "            (           'Health Care',  'ZTS')],\n",
      "           names=['Sector', 'Symbol'], length=505)\n"
     ]
    }
   ],
   "source": [
    "# examine the index\n",
    "print (multi_fi.index)"
   ]
  },
  {
   "cell_type": "markdown",
   "metadata": {},
   "source": [
    "A MultiIndex contains two or more levels:"
   ]
  },
  {
   "cell_type": "code",
   "execution_count": 121,
   "metadata": {},
   "outputs": [
    {
     "data": {
      "text/plain": [
       "2"
      ]
     },
     "execution_count": 121,
     "metadata": {},
     "output_type": "execute_result"
    }
   ],
   "source": [
    "# this has two levels\n",
    "len(multi_fi.index.levels)"
   ]
  },
  {
   "cell_type": "markdown",
   "metadata": {},
   "source": [
    "Also, each level is a distinct Index object:"
   ]
  },
  {
   "cell_type": "code",
   "execution_count": 122,
   "metadata": {},
   "outputs": [
    {
     "data": {
      "text/plain": [
       "Index(['Consumer Discretionary', 'Consumer Staples', 'Energy', 'Financials',\n",
       "       'Health Care', 'Industrials', 'Information Technology', 'Materials',\n",
       "       'Real Estate', 'Telecommunications Services', 'Utilities'],\n",
       "      dtype='object', name='Sector')"
      ]
     },
     "execution_count": 122,
     "metadata": {},
     "output_type": "execute_result"
    }
   ],
   "source": [
    "# each index level is an index\n",
    "multi_fi.index.levels[0]"
   ]
  },
  {
   "cell_type": "code",
   "execution_count": 123,
   "metadata": {},
   "outputs": [
    {
     "data": {
      "text/plain": [
       "Index(['A', 'AAL', 'AAP', 'AAPL', 'ABBV', 'ABC', 'ABT', 'ACN', 'ADBE', 'ADI',\n",
       "       ...\n",
       "       'XLNX', 'XOM', 'XRAY', 'XRX', 'XYL', 'YHOO', 'YUM', 'ZBH', 'ZION',\n",
       "       'ZTS'],\n",
       "      dtype='object', name='Symbol', length=505)"
      ]
     },
     "execution_count": 123,
     "metadata": {},
     "output_type": "execute_result"
    }
   ],
   "source": [
    "# each index level is an index\n",
    "multi_fi.index.levels[1]"
   ]
  },
  {
   "cell_type": "markdown",
   "metadata": {},
   "source": [
    "Values of the index, at a specific level for every row, can be retrieved by the\n",
    ".get_level_values() method:"
   ]
  },
  {
   "cell_type": "code",
   "execution_count": 124,
   "metadata": {},
   "outputs": [
    {
     "data": {
      "text/plain": [
       "Index(['Industrials', 'Health Care', 'Health Care', 'Information Technology',\n",
       "       'Information Technology', 'Industrials', 'Information Technology',\n",
       "       'Consumer Discretionary', 'Utilities', 'Health Care',\n",
       "       ...\n",
       "       'Utilities', 'Information Technology', 'Information Technology',\n",
       "       'Financials', 'Industrials', 'Information Technology',\n",
       "       'Consumer Discretionary', 'Health Care', 'Financials', 'Health Care'],\n",
       "      dtype='object', name='Sector', length=505)"
      ]
     },
     "execution_count": 124,
     "metadata": {},
     "output_type": "execute_result"
    }
   ],
   "source": [
    "# values of the index level 0\n",
    "multi_fi.index.get_level_values(0)"
   ]
  },
  {
   "cell_type": "markdown",
   "metadata": {},
   "source": [
    "Access of elements via a hierarchical index is performed using the .xs() method."
   ]
  },
  {
   "cell_type": "code",
   "execution_count": 125,
   "metadata": {
    "scrolled": true
   },
   "outputs": [
    {
     "data": {
      "text/plain": [
       "         Price  BookValue\n",
       "Symbol                   \n",
       "MMM     189.09      17.26\n",
       "AYI     205.41      39.50\n",
       "ALK      95.12      23.77\n",
       "ALLE     72.86       1.19\n",
       "AAL      44.84       7.46\n",
       "...        ...        ...\n",
       "URI     128.15      19.57\n",
       "UTX     112.28      34.10\n",
       "VRSK     81.84       7.98\n",
       "WM       72.70      12.06\n",
       "XYL      48.78      12.21\n",
       "\n",
       "[66 rows x 2 columns]"
      ]
     },
     "execution_count": 125,
     "metadata": {},
     "output_type": "execute_result"
    }
   ],
   "source": [
    "# get all stocks that are Industrials\n",
    "# note the result drops level 0 of the index\n",
    "multi_fi.xs('Industrials')"
   ]
  },
  {
   "cell_type": "markdown",
   "metadata": {},
   "source": [
    "To select the rows with a specific value of the index at level 1, use the level parameter."
   ]
  },
  {
   "cell_type": "code",
   "execution_count": 126,
   "metadata": {},
   "outputs": [
    {
     "data": {
      "text/plain": [
       "             Price  BookValue\n",
       "Sector                       \n",
       "Industrials  72.86       1.19"
      ]
     },
     "execution_count": 126,
     "metadata": {},
     "output_type": "execute_result"
    }
   ],
   "source": [
    "# select rows where level 1 (Symbol) is ALLE\n",
    "# note that the Sector level is dropped from the result\n",
    "multi_fi.xs('ALLE', level=1)"
   ]
  },
  {
   "cell_type": "markdown",
   "metadata": {},
   "source": [
    "To prevent levels from being dropped, you can use the drop_levels=False option:"
   ]
  },
  {
   "cell_type": "code",
   "execution_count": 127,
   "metadata": {},
   "outputs": [
    {
     "data": {
      "text/plain": [
       "                     Price  BookValue\n",
       "Sector      Symbol                   \n",
       "Industrials MMM     189.09      17.26\n",
       "            AYI     205.41      39.50\n",
       "            ALK      95.12      23.77\n",
       "            ALLE     72.86       1.19\n",
       "            AAL      44.84       7.46\n",
       "...                    ...        ...\n",
       "            URI     128.15      19.57\n",
       "            UTX     112.28      34.10\n",
       "            VRSK     81.84       7.98\n",
       "            WM       72.70      12.06\n",
       "            XYL      48.78      12.21\n",
       "\n",
       "[66 rows x 2 columns]"
      ]
     },
     "execution_count": 127,
     "metadata": {},
     "output_type": "execute_result"
    }
   ],
   "source": [
    "# Industrials, without dropping the level\n",
    "multi_fi.xs('Industrials', drop_level=False)"
   ]
  },
  {
   "cell_type": "markdown",
   "metadata": {},
   "source": [
    "To select from a hierarchy of indexes you can chain .xs() calls with different levels\n",
    "together. The following code selects the row with Industrials at level 0 and UPS at level\n",
    "1:"
   ]
  },
  {
   "cell_type": "code",
   "execution_count": 128,
   "metadata": {},
   "outputs": [
    {
     "data": {
      "text/plain": [
       "Price        105.64\n",
       "BookValue      0.47\n",
       "Name: UPS, dtype: float64"
      ]
     },
     "execution_count": 128,
     "metadata": {},
     "output_type": "execute_result"
    }
   ],
   "source": [
    "# drill through the levels\n",
    "multi_fi.xs('Industrials').xs('UPS')"
   ]
  },
  {
   "cell_type": "markdown",
   "metadata": {},
   "source": [
    "An alternate syntax is to pass the values of each level of the hierarchical index as a tuple:"
   ]
  },
  {
   "cell_type": "code",
   "execution_count": 129,
   "metadata": {},
   "outputs": [
    {
     "data": {
      "text/plain": [
       "Price        105.64\n",
       "BookValue      0.47\n",
       "Name: (Industrials, UPS), dtype: float64"
      ]
     },
     "execution_count": 129,
     "metadata": {},
     "output_type": "execute_result"
    }
   ],
   "source": [
    "# drill through using tuples\n",
    "multi_fi.xs(('Industrials', 'UPS'))"
   ]
  },
  {
   "cell_type": "markdown",
   "metadata": {},
   "source": [
    "Note that .xs() can only be used for getting, not setting, values."
   ]
  },
  {
   "cell_type": "markdown",
   "metadata": {},
   "source": [
    "<strong>Note</strong>\n",
    "<p>\n",
    "One of the things I’d like to point out about indexing in pandas, is that a pandas index is\n",
    "its own set of data, not references to data in the Series or DataFrame. This is different\n",
    "from how indexes are used in SQL databases, where the index is built upon the actual data\n",
    "in the table. The values in a pandas index can be completely different from the data in the\n",
    "row that it references, and it can be changed as needed to support much more interactive\n",
    "analysis than can be done with SQL.</p>"
   ]
  },
  {
   "cell_type": "markdown",
   "metadata": {},
   "source": [
    "<h2>Summarized data descriptive statistics</h2>"
   ]
  },
  {
   "cell_type": "markdown",
   "metadata": {},
   "source": [
    "<p>Pandas provides several classes of statistical operations that can be applied to a Series or\n",
    "DataFrame object. These reductive methods, when applied to a Series, result in a single\n",
    "value. When applied to a DataFrame, an axis can be specified and the method will then be\n",
    "either applied to each column or row and results in a Series.</p>\n",
    "<p>The average value is calculated using .mean(). The following calculates the average of the\n",
    "prices for AAPL and MSFT:</p>"
   ]
  },
  {
   "cell_type": "code",
   "execution_count": 130,
   "metadata": {},
   "outputs": [
    {
     "data": {
      "text/plain": [
       "                        Sector   Price  BookValue\n",
       "Symbol                                           \n",
       "MMM                Industrials  189.09      17.26\n",
       "ABT                Health Care   45.00      13.94\n",
       "ABBV               Health Care   63.69       2.91\n",
       "ACN     Information Technology  124.14      11.95"
      ]
     },
     "execution_count": 130,
     "metadata": {},
     "output_type": "execute_result"
    }
   ],
   "source": [
    "subset = sp500[:4].copy()\n",
    "subset"
   ]
  },
  {
   "cell_type": "markdown",
   "metadata": {},
   "source": [
    "The average value is calculated using .mean()."
   ]
  },
  {
   "cell_type": "code",
   "execution_count": 131,
   "metadata": {},
   "outputs": [
    {
     "data": {
      "text/plain": [
       "105.47999999999999"
      ]
     },
     "execution_count": 131,
     "metadata": {},
     "output_type": "execute_result"
    }
   ],
   "source": [
    "subset.Price.mean()"
   ]
  },
  {
   "cell_type": "code",
   "execution_count": 132,
   "metadata": {},
   "outputs": [
    {
     "data": {
      "text/plain": [
       "Symbol\n",
       "MMM     103.175\n",
       "ABT      29.470\n",
       "ABBV     33.300\n",
       "ACN      68.045\n",
       "dtype: float64"
      ]
     },
     "execution_count": 132,
     "metadata": {},
     "output_type": "execute_result"
    }
   ],
   "source": [
    "# calc the mean of the values in each row\n",
    "subset.mean(axis=1)"
   ]
  },
  {
   "cell_type": "markdown",
   "metadata": {},
   "source": [
    "Variance is calculated using the .var() method. The following code calculates the\n",
    "variance of the price for both stocks during the period represented in the DataFrame\n",
    "object:"
   ]
  },
  {
   "cell_type": "code",
   "execution_count": 133,
   "metadata": {},
   "outputs": [
    {
     "data": {
      "text/plain": [
       "Price        4247.687400\n",
       "BookValue      37.706967\n",
       "dtype: float64"
      ]
     },
     "execution_count": 133,
     "metadata": {},
     "output_type": "execute_result"
    }
   ],
   "source": [
    "subset.var()"
   ]
  },
  {
   "cell_type": "code",
   "execution_count": 134,
   "metadata": {},
   "outputs": [
    {
     "data": {
      "text/plain": [
       "Price        93.915\n",
       "BookValue    12.945\n",
       "dtype: float64"
      ]
     },
     "execution_count": 134,
     "metadata": {},
     "output_type": "execute_result"
    }
   ],
   "source": [
    "# calc the median of the values in each column\n",
    "subset.median()"
   ]
  },
  {
   "cell_type": "markdown",
   "metadata": {},
   "source": [
    "Although not a reductive calculation, the minimum and maximum values can be found\n",
    "with the .min() and .max() methods:"
   ]
  },
  {
   "cell_type": "code",
   "execution_count": 135,
   "metadata": {},
   "outputs": [
    {
     "data": {
      "text/plain": [
       "Sector       Health Care\n",
       "Price                 45\n",
       "BookValue           2.91\n",
       "dtype: object"
      ]
     },
     "execution_count": 135,
     "metadata": {},
     "output_type": "execute_result"
    }
   ],
   "source": [
    "subset.min()"
   ]
  },
  {
   "cell_type": "code",
   "execution_count": 136,
   "metadata": {},
   "outputs": [
    {
     "data": {
      "text/plain": [
       "Sector       Information Technology\n",
       "Price                        189.09\n",
       "BookValue                     17.26\n",
       "dtype: object"
      ]
     },
     "execution_count": 136,
     "metadata": {},
     "output_type": "execute_result"
    }
   ],
   "source": [
    "subset.max()"
   ]
  },
  {
   "cell_type": "markdown",
   "metadata": {},
   "source": [
    "Some pandas statistical methods are referred to as indirect statistics, for example,\n",
    ".idxmin() and .idxmax() return the index location where the minimum and maximum\n",
    "values exist, respectively. The following code determines the location of the minimum\n",
    "prices for both stocks:"
   ]
  },
  {
   "cell_type": "code",
   "execution_count": 137,
   "metadata": {},
   "outputs": [
    {
     "data": {
      "text/plain": [
       "'ABT'"
      ]
     },
     "execution_count": 137,
     "metadata": {},
     "output_type": "execute_result"
    }
   ],
   "source": [
    "subset.Price.idxmin()"
   ]
  },
  {
   "cell_type": "code",
   "execution_count": 138,
   "metadata": {},
   "outputs": [
    {
     "data": {
      "text/plain": [
       "'MMM'"
      ]
     },
     "execution_count": 138,
     "metadata": {},
     "output_type": "execute_result"
    }
   ],
   "source": [
    "subset.Price.idxmax()"
   ]
  },
  {
   "cell_type": "code",
   "execution_count": 139,
   "metadata": {},
   "outputs": [
    {
     "data": {
      "text/plain": [
       "                        Sector   Price  BookValue\n",
       "Symbol                                           \n",
       "MMM                Industrials  189.09      17.26\n",
       "ABT                Health Care   45.00      13.94\n",
       "ABBV               Health Care   63.69       2.91\n",
       "ACN     Information Technology  124.14      11.95"
      ]
     },
     "execution_count": 139,
     "metadata": {},
     "output_type": "execute_result"
    }
   ],
   "source": [
    "subset"
   ]
  },
  {
   "cell_type": "markdown",
   "metadata": {},
   "source": [
    "The mode of a set of values is the value that appears most often. It can be multiple values.\n"
   ]
  },
  {
   "cell_type": "code",
   "execution_count": 140,
   "metadata": {},
   "outputs": [
    {
     "data": {
      "text/plain": [
       "0    3\n",
       "dtype: int64"
      ]
     },
     "execution_count": 140,
     "metadata": {},
     "output_type": "execute_result"
    }
   ],
   "source": [
    "# find the mode of this Series\n",
    "s = pd.Series([1, 2, 3, 3, 5])\n",
    "s.mode()"
   ]
  },
  {
   "cell_type": "code",
   "execution_count": 141,
   "metadata": {},
   "outputs": [
    {
     "data": {
      "text/plain": [
       "0    1\n",
       "1    3\n",
       "dtype: int64"
      ]
     },
     "execution_count": 141,
     "metadata": {},
     "output_type": "execute_result"
    }
   ],
   "source": [
    "# there can be more than one mode\n",
    "s = pd.Series([1, 2, 3, 3, 5, 1])\n",
    "s.mode()"
   ]
  },
  {
   "cell_type": "markdown",
   "metadata": {},
   "source": [
    "Accumulations in pandas are statistical methods that determine a value, by continuously\n",
    "applying the next value in a Series to the current result. Good examples are the\n",
    "cumulative product and cumulative sum of a Series. To demonstrate, we can use the\n",
    "following DataFrame that calculates both on a simple Series of data:"
   ]
  },
  {
   "cell_type": "code",
   "execution_count": 142,
   "metadata": {},
   "outputs": [
    {
     "data": {
      "text/plain": [
       "0     1\n",
       "1     2\n",
       "2     6\n",
       "3    24\n",
       "dtype: int64"
      ]
     },
     "execution_count": 142,
     "metadata": {},
     "output_type": "execute_result"
    }
   ],
   "source": [
    "# calculate a cumulative product\n",
    "pd.Series([1, 2, 3, 4]).cumprod()"
   ]
  },
  {
   "cell_type": "code",
   "execution_count": 143,
   "metadata": {
    "scrolled": true
   },
   "outputs": [
    {
     "data": {
      "text/plain": [
       "0     1\n",
       "1     3\n",
       "2     6\n",
       "3    10\n",
       "dtype: int64"
      ]
     },
     "execution_count": 143,
     "metadata": {},
     "output_type": "execute_result"
    }
   ],
   "source": [
    "# calculate a cumulative sum\n",
    "pd.Series([1, 2, 3, 4]).cumsum()"
   ]
  },
  {
   "cell_type": "markdown",
   "metadata": {},
   "source": [
    "<p>The .describe() returns a simple set of summary statistics about a Series or DataFrame.\n",
    "The values returned are, themselves, a Series where the index label contains the name of\n",
    "the specific statistics that are computed. This function is handy if you want to get a quick\n",
    "and easy overview of the important statistics of a Series or DataFrame.</p>\n",
    "\n",
    "<p>The following code returns summary statistics on the monthly stock data, including the\n",
    "count of items that are not part of NaN; the mean and standard deviation; minimum and\n",
    "maximum values; and the values of the 25, 50, and 75 percentiles. The code is as follows:</p>"
   ]
  },
  {
   "cell_type": "code",
   "execution_count": 144,
   "metadata": {},
   "outputs": [
    {
     "data": {
      "text/plain": [
       "            Price  BookValue\n",
       "count    4.000000     4.0000\n",
       "mean   105.480000    11.5150\n",
       "std     65.174285     6.1406\n",
       "min     45.000000     2.9100\n",
       "25%     59.017500     9.6900\n",
       "50%     93.915000    12.9450\n",
       "75%    140.377500    14.7700\n",
       "max    189.090000    17.2600"
      ]
     },
     "execution_count": 144,
     "metadata": {},
     "output_type": "execute_result"
    }
   ],
   "source": [
    "# summary statistics\n",
    "subset.describe()"
   ]
  },
  {
   "cell_type": "code",
   "execution_count": 145,
   "metadata": {},
   "outputs": [
    {
     "data": {
      "text/plain": [
       "count     4\n",
       "unique    3\n",
       "top       a\n",
       "freq      2\n",
       "dtype: object"
      ]
     },
     "execution_count": 145,
     "metadata": {},
     "output_type": "execute_result"
    }
   ],
   "source": [
    "# get summary stats on non-numeric data\n",
    "s = pd.Series(['a', 'a', 'b', 'c', np.NaN])\n",
    "s.describe()"
   ]
  },
  {
   "cell_type": "markdown",
   "metadata": {},
   "source": [
    "This has given us the count variable of items that are not part of NaN, the number of\n",
    "unique items that are not part of NaN, the most common item (top), and the number of\n",
    "times the most frequent item occurred (freq)."
   ]
  },
  {
   "cell_type": "code",
   "execution_count": 146,
   "metadata": {},
   "outputs": [
    {
     "data": {
      "text/plain": [
       "0      a\n",
       "1      a\n",
       "2      b\n",
       "3      c\n",
       "4    NaN\n",
       "dtype: object"
      ]
     },
     "execution_count": 146,
     "metadata": {},
     "output_type": "execute_result"
    }
   ],
   "source": [
    "s"
   ]
  },
  {
   "cell_type": "code",
   "execution_count": 147,
   "metadata": {},
   "outputs": [
    {
     "data": {
      "text/plain": [
       "4"
      ]
     },
     "execution_count": 147,
     "metadata": {},
     "output_type": "execute_result"
    }
   ],
   "source": [
    "# get summary stats on non-numeric data\n",
    "s.count()"
   ]
  },
  {
   "cell_type": "code",
   "execution_count": 148,
   "metadata": {},
   "outputs": [
    {
     "data": {
      "text/plain": [
       "array(['a', 'b', 'c', nan], dtype=object)"
      ]
     },
     "execution_count": 148,
     "metadata": {},
     "output_type": "execute_result"
    }
   ],
   "source": [
    "# return a list of unique items\n",
    "s.unique()"
   ]
  },
  {
   "cell_type": "code",
   "execution_count": 149,
   "metadata": {},
   "outputs": [
    {
     "data": {
      "text/plain": [
       "a    2\n",
       "c    1\n",
       "b    1\n",
       "dtype: int64"
      ]
     },
     "execution_count": 149,
     "metadata": {},
     "output_type": "execute_result"
    }
   ],
   "source": [
    "# number of occurrences of each unique value\n",
    "s.value_counts()"
   ]
  }
 ],
 "metadata": {
  "kernelspec": {
   "display_name": "Python 3",
   "language": "python",
   "name": "python3"
  },
  "language_info": {
   "codemirror_mode": {
    "name": "ipython",
    "version": 3
   },
   "file_extension": ".py",
   "mimetype": "text/x-python",
   "name": "python",
   "nbconvert_exporter": "python",
   "pygments_lexer": "ipython3",
   "version": "3.7.3"
  }
 },
 "nbformat": 4,
 "nbformat_minor": 4
}
