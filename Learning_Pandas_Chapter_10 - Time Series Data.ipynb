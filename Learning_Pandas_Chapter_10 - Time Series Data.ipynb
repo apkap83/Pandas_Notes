{
 "cells": [
  {
   "cell_type": "markdown",
   "metadata": {},
   "source": [
    "<h3>Time Series Data</h3>"
   ]
  },
  {
   "cell_type": "code",
   "execution_count": 1,
   "metadata": {},
   "outputs": [],
   "source": [
    "# import pandas, numpy and datetime\n",
    "import numpy as np\n",
    "import pandas as pd\n",
    "\n",
    "# needed for representing dates and times\n",
    "import datetime\n",
    "from datetime import datetime\n",
    "\n",
    "# Set some pandas options for controlling output\n",
    "pd.set_option('display.notebook_repr_html', False)\n",
    "pd.set_option('display.max_columns', 10)\n",
    "pd.set_option('display.max_rows', 10)\n",
    "\n",
    "# matplotlib and inline graphics\n",
    "import matplotlib.pyplot as plt\n",
    "%matplotlib inline"
   ]
  },
  {
   "cell_type": "markdown",
   "metadata": {},
   "source": [
    "<h4>Representation of dates, time, and\n",
    "intervals</h4>"
   ]
  },
  {
   "cell_type": "markdown",
   "metadata": {},
   "source": [
    "<h4>The datetime, day, and time objects</h4>"
   ]
  },
  {
   "cell_type": "markdown",
   "metadata": {},
   "source": [
    "<p>The datetime object is part of the datetime library and not a part of pandas. This class\n",
    "can be utilized to construct objects representing a fixed point in time at a specific date and\n",
    "time or simply a day without a time component or a time without a date component.</p><p>\n",
    "With respect to pandas, the datetime objects do not have the accuracy needed for much of\n",
    "the mathematics involved in extensive calculations on time-series data. However, they are\n",
    "commonly used to initialize pandas objects with pandas converting them into pandas\n",
    "timestamp objects behind the scenes. Therefore, they are worth a brief mention here, as\n",
    "they will be used frequently during initialization.</p>"
   ]
  },
  {
   "cell_type": "markdown",
   "metadata": {},
   "source": [
    "A datetime object can be initialized using a minimum of three parameters representing\n",
    "year, month, and day:"
   ]
  },
  {
   "cell_type": "code",
   "execution_count": 2,
   "metadata": {},
   "outputs": [
    {
     "data": {
      "text/plain": [
       "datetime.datetime(2014, 12, 15, 0, 0)"
      ]
     },
     "execution_count": 2,
     "metadata": {},
     "output_type": "execute_result"
    }
   ],
   "source": [
    "# datetime object for Dec 15 2014\n",
    "datetime(2014, 12, 15)"
   ]
  },
  {
   "cell_type": "markdown",
   "metadata": {},
   "source": [
    "Notice that the result has defaulted two values to 0, which represents the hour and minute.\n",
    "The hour and minute components can also be specified with two more values to the\n",
    "constructor. The following creates a datetime object that also specifies 5:30 p.m.:"
   ]
  },
  {
   "cell_type": "code",
   "execution_count": 3,
   "metadata": {},
   "outputs": [
    {
     "data": {
      "text/plain": [
       "datetime.datetime(2014, 12, 15, 17, 30)"
      ]
     },
     "execution_count": 3,
     "metadata": {},
     "output_type": "execute_result"
    }
   ],
   "source": [
    "# specific date and also with a time of 5:30 pm\n",
    "datetime(2014, 12, 15, 17, 30)"
   ]
  },
  {
   "cell_type": "markdown",
   "metadata": {},
   "source": [
    "The current date and time can be determined using the datetime.now() function, which\n",
    "retrieves the local date and time:"
   ]
  },
  {
   "cell_type": "code",
   "execution_count": 4,
   "metadata": {},
   "outputs": [
    {
     "data": {
      "text/plain": [
       "datetime.datetime(2020, 8, 8, 13, 7, 6, 759980)"
      ]
     },
     "execution_count": 4,
     "metadata": {},
     "output_type": "execute_result"
    }
   ],
   "source": [
    "# get the local \"now\" (date and time)\n",
    "# can take a time zone, but that's not demonstrated here\n",
    "datetime.now()"
   ]
  },
  {
   "cell_type": "markdown",
   "metadata": {},
   "source": [
    "A datetime.date object represents a specific day (no time). It can be created by passing a\n",
    "datetime object to the constructor:"
   ]
  },
  {
   "cell_type": "markdown",
   "metadata": {},
   "source": [
    "A time without a date component can be represented by creating a datetime.time object\n",
    "by passing a datetime object to its constructor:"
   ]
  },
  {
   "cell_type": "code",
   "execution_count": 5,
   "metadata": {},
   "outputs": [
    {
     "data": {
      "text/plain": [
       "datetime.time(17, 30)"
      ]
     },
     "execution_count": 5,
     "metadata": {},
     "output_type": "execute_result"
    }
   ],
   "source": [
    "# get just a time from a datetime\n",
    "datetime.time(datetime(2014, 12, 15, 17, 30))"
   ]
  },
  {
   "cell_type": "code",
   "execution_count": 6,
   "metadata": {},
   "outputs": [
    {
     "data": {
      "text/plain": [
       "datetime.time(13, 7, 6, 768772)"
      ]
     },
     "execution_count": 6,
     "metadata": {},
     "output_type": "execute_result"
    }
   ],
   "source": [
    "# get the current local time\n",
    "datetime.now().time()"
   ]
  },
  {
   "cell_type": "markdown",
   "metadata": {},
   "source": [
    "<h3>Timestamp objects</h3>"
   ]
  },
  {
   "cell_type": "markdown",
   "metadata": {},
   "source": [
    "<p>Specific dates and times in pandas are represented using the pandas.tslib.Timestamp\n",
    "class. Timestamp is based on the datetime64 dtype and has higher precision than the\n",
    "Python datetime object. Timestamp objects are generally interchangeable with datetime\n",
    "objects, so you can typically use them wherever you may use datetime objects.\n",
    "</p><p>You can create a Timestamp object using pd.Timestamp (a shortcut for\n",
    "pandas.tslib.Timestamp) and by passing a string representing a date, time, or date and\n",
    "time:</p>"
   ]
  },
  {
   "cell_type": "code",
   "execution_count": 7,
   "metadata": {},
   "outputs": [
    {
     "data": {
      "text/plain": [
       "Timestamp('2014-12-15 00:00:00')"
      ]
     },
     "execution_count": 7,
     "metadata": {},
     "output_type": "execute_result"
    }
   ],
   "source": [
    "# a timestamp representing a specific date\n",
    "pd.Timestamp('2014-12-15')"
   ]
  },
  {
   "cell_type": "code",
   "execution_count": 8,
   "metadata": {},
   "outputs": [
    {
     "data": {
      "text/plain": [
       "Timestamp('2014-12-15 17:30:00')"
      ]
     },
     "execution_count": 8,
     "metadata": {},
     "output_type": "execute_result"
    }
   ],
   "source": [
    "# a timestamp with both date and time\n",
    "pd.Timestamp('2014-12-15 17:30')"
   ]
  },
  {
   "cell_type": "markdown",
   "metadata": {},
   "source": [
    "Timestamp can be created using just a time, which will <b>default to also assigning the\n",
    "current local date:</b>"
   ]
  },
  {
   "cell_type": "code",
   "execution_count": 9,
   "metadata": {},
   "outputs": [
    {
     "data": {
      "text/plain": [
       "Timestamp('2020-08-08 17:30:00')"
      ]
     },
     "execution_count": 9,
     "metadata": {},
     "output_type": "execute_result"
    }
   ],
   "source": [
    "# timestamp with just a time\n",
    "# which adds in the current local date\n",
    "pd.Timestamp('17:30')"
   ]
  },
  {
   "cell_type": "code",
   "execution_count": 10,
   "metadata": {},
   "outputs": [
    {
     "data": {
      "text/plain": [
       "Timestamp('2020-08-08 13:07:06.792382')"
      ]
     },
     "execution_count": 10,
     "metadata": {},
     "output_type": "execute_result"
    }
   ],
   "source": [
    "# get the current date and time (now)\n",
    "pd.Timestamp(\"now\")"
   ]
  },
  {
   "cell_type": "markdown",
   "metadata": {},
   "source": [
    "Normally, as a pandas user, you will not create Timestamp objects directly. Many of the\n",
    "pandas functions that use dates and times will allow you to pass in a datetime object or a\n",
    "text representation of a date/time and the functions will perform the conversion internally"
   ]
  },
  {
   "cell_type": "markdown",
   "metadata": {},
   "source": [
    "<h3>Timedelta</h3>"
   ]
  },
  {
   "cell_type": "markdown",
   "metadata": {},
   "source": [
    "<p>A difference between two pandas Timestamp objects is represented by a timedelta object,\n",
    "which is a representation of an exact difference in time. These are common as results of\n",
    "determining the duration between two dates or to calculate the date at a specific interval of\n",
    "time from another date and/or time.</p><p>\n",
    "To demonstrate, the following uses a timedelta object to calculate a one-day increase in\n",
    "the time from the specified date:</p>"
   ]
  },
  {
   "cell_type": "code",
   "execution_count": 11,
   "metadata": {},
   "outputs": [
    {
     "data": {
      "text/plain": [
       "datetime.datetime(2020, 8, 6, 0, 0)"
      ]
     },
     "execution_count": 11,
     "metadata": {},
     "output_type": "execute_result"
    }
   ],
   "source": [
    "# what is one day from 2014-11-30?\n",
    "today = datetime(2020, 8, 5)\n",
    "tomorrow = today + pd.Timedelta(days=1)\n",
    "tomorrow"
   ]
  },
  {
   "cell_type": "markdown",
   "metadata": {},
   "source": [
    "The following demonstrates how to calculate how many days there are between two dates:"
   ]
  },
  {
   "cell_type": "code",
   "execution_count": 12,
   "metadata": {},
   "outputs": [
    {
     "data": {
      "text/plain": [
       "datetime.timedelta(days=13502)"
      ]
     },
     "execution_count": 12,
     "metadata": {},
     "output_type": "execute_result"
    }
   ],
   "source": [
    "# how many days between these two dates?\n",
    "date1 = datetime(2020, 8, 5)\n",
    "date2 = datetime(1983, 8, 18)\n",
    "date1 - date2"
   ]
  },
  {
   "cell_type": "markdown",
   "metadata": {},
   "source": [
    "<h3>Introducing time-series data</h3>"
   ]
  },
  {
   "cell_type": "markdown",
   "metadata": {},
   "source": [
    "<p>Due to its roots in finance, pandas excels in manipulating time-series data. Its abilities\n",
    "have been continuously refined over all of its versions to progressively increase its\n",
    "capabilities for time-series manipulation. These capabilities are the core of pandas and do\n",
    "not require additional libraries, unlike R, which requires the inclusion of Zoo to provide\n",
    "this functionality.</p>\n",
    "<p>The core of the time-series functionality in pandas revolves around the use of specialized\n",
    "indexes that represent measurements of data at one or more timestamps. These indexes in\n",
    "pandas are referred to as DatetimeIndex objects. These are incredibly powerful objects,\n",
    "and their being core to pandas provides the ability to automatically align data based on\n",
    "dates and time, making working with sequences of data collected and time-stamped as\n",
    "easy as with any other type of indexes.</p><p>\n",
    "We will now examine how to create time-series data and DatetimeIndex objects both\n",
    "using explicit timestamp objects and using specific durations of time (referred to in pandas\n",
    "as frequencies).</p>"
   ]
  },
  {
   "cell_type": "markdown",
   "metadata": {},
   "source": [
    "<h3>DatetimeIndex</h3>"
   ]
  },
  {
   "cell_type": "markdown",
   "metadata": {},
   "source": [
    "<p>Sequences of timestamp objects are represented by pandas as DatetimeIndex, which is a\n",
    "type of pandas index that is optimized for indexing by date and time.</p><p>\n",
    "There are several ways to create DatetimeIndex objects in pandas. The following creates\n",
    "a DateTimeindex by passing a list of datetime objects as Series:</p>"
   ]
  },
  {
   "cell_type": "code",
   "execution_count": 13,
   "metadata": {
    "scrolled": true
   },
   "outputs": [
    {
     "data": {
      "text/plain": [
       "2014-08-01    0.600521\n",
       "2014-08-02    0.424394\n",
       "dtype: float64"
      ]
     },
     "execution_count": 13,
     "metadata": {},
     "output_type": "execute_result"
    }
   ],
   "source": [
    "# create a very simple time-series with two index labels\n",
    "# and random values\n",
    "dates = [datetime(2014, 8, 1), datetime(2014, 8, 2)]\n",
    "ts = pd.Series(np.random.randn(2), dates)\n",
    "ts"
   ]
  },
  {
   "cell_type": "markdown",
   "metadata": {},
   "source": [
    "<p>Series has taken the datetime objects and constructed a DatetimeIndex from the date\n",
    "values, where each value of DatetimeIndex is a Timestamp object. This is one of the cases\n",
    "where pandas directly constructs Timestamp objects on your behalf.</p><p>\n",
    "The following verifies the type of the index and the types of the labels in the index:"
   ]
  },
  {
   "cell_type": "code",
   "execution_count": 14,
   "metadata": {},
   "outputs": [
    {
     "data": {
      "text/plain": [
       "pandas.core.indexes.datetimes.DatetimeIndex"
      ]
     },
     "execution_count": 14,
     "metadata": {},
     "output_type": "execute_result"
    }
   ],
   "source": [
    "# what is the type of the index?\n",
    "type(ts.index)"
   ]
  },
  {
   "cell_type": "code",
   "execution_count": 15,
   "metadata": {},
   "outputs": [
    {
     "data": {
      "text/plain": [
       "pandas._libs.tslibs.timestamps.Timestamp"
      ]
     },
     "execution_count": 15,
     "metadata": {},
     "output_type": "execute_result"
    }
   ],
   "source": [
    "# and we can see it is a collection of timestamps\n",
    "type(ts.index[0])\n"
   ]
  },
  {
   "cell_type": "markdown",
   "metadata": {},
   "source": [
    "It is not required that you pass datetime objects in the list to create a time series. The\n",
    "Series object is smart enough to recognize that a string represents datetime and does the\n",
    "conversion for you. The following is equivalent to the previous example:"
   ]
  },
  {
   "cell_type": "code",
   "execution_count": 16,
   "metadata": {},
   "outputs": [
    {
     "data": {
      "text/plain": [
       "2014-08-01    0.469112\n",
       "2014-08-02   -0.282863\n",
       "dtype: float64"
      ]
     },
     "execution_count": 16,
     "metadata": {},
     "output_type": "execute_result"
    }
   ],
   "source": [
    "# create from just a list of dates as strings!\n",
    "np.random.seed(123456)\n",
    "dates = ['2014-08-01', '2014-08-02']\n",
    "ts = pd.Series(np.random.randn(2), dates)\n",
    "ts"
   ]
  },
  {
   "cell_type": "markdown",
   "metadata": {},
   "source": [
    "pandas provides a utility function in pd.to_datetime(). This function takes a sequence of\n",
    "similar- or mixed-type objects and pandas attempts to convert each into Timestamp and the\n",
    "collection of these timestamps into DatetimeIndex. If an object in the sequence cannot be\n",
    "converted, then NaT, representing not-a-time will be returned at the position in the index:"
   ]
  },
  {
   "cell_type": "code",
   "execution_count": 17,
   "metadata": {},
   "outputs": [
    {
     "name": "stdout",
     "output_type": "stream",
     "text": [
      "2014-08-01 00:00:00\n",
      "2014-08-02 00:00:00\n",
      "2014-08-03 00:00:00\n",
      "NaT\n"
     ]
    }
   ],
   "source": [
    "# convert a sequence of objects to a DatetimeIndex\n",
    "dti = pd.to_datetime(['Aug 1, 2014', '2014-08-02', '2014.8.3', None])\n",
    "\n",
    "for l in dti: print (l)"
   ]
  },
  {
   "cell_type": "markdown",
   "metadata": {},
   "source": [
    "Be careful, as the pd.to_datetime() function will, by default, fall back to returning a\n",
    "NumPy array of objects instead of DatetimeIndex if it cannot parse a value to Timestamp:"
   ]
  },
  {
   "cell_type": "markdown",
   "metadata": {},
   "source": [
    "A range of timestamps at a specific frequency can be easily created using the\n",
    "pd.date_range() function. The following creates a Series object from DatetimeIndex of\n",
    "10 consecutive days:"
   ]
  },
  {
   "cell_type": "code",
   "execution_count": 18,
   "metadata": {},
   "outputs": [
    {
     "data": {
      "text/plain": [
       "2014-08-01    0.469112\n",
       "2014-08-02   -0.282863\n",
       "2014-08-03   -1.509059\n",
       "2014-08-04   -1.135632\n",
       "2014-08-05    1.212112\n",
       "2014-08-06   -0.173215\n",
       "2014-08-07    0.119209\n",
       "2014-08-08   -1.044236\n",
       "2014-08-09   -0.861849\n",
       "2014-08-10   -2.104569\n",
       "Freq: D, dtype: float64"
      ]
     },
     "execution_count": 18,
     "metadata": {},
     "output_type": "execute_result"
    }
   ],
   "source": [
    "# create a range of dates starting at a specific date\n",
    "# and for a specific number of days, creating a Series\n",
    "np.random.seed(123456)\n",
    "periods = pd.date_range('8/1/2014', periods=10)\n",
    "date_series = pd.Series(np.random.randn(10), index=periods)\n",
    "date_series"
   ]
  },
  {
   "cell_type": "markdown",
   "metadata": {},
   "source": [
    "Like any pandas index, DatetimeIndex can be used for various index operations, such as\n",
    "data alignment, selection, and slicing. The following demonstrates slicing using index\n",
    "locations:"
   ]
  },
  {
   "cell_type": "code",
   "execution_count": 19,
   "metadata": {},
   "outputs": [
    {
     "data": {
      "text/plain": [
       "2014-08-04   -1.135632\n",
       "2014-08-05    1.212112\n",
       "2014-08-06   -0.173215\n",
       "2014-08-07    0.119209\n",
       "Freq: D, dtype: float64"
      ]
     },
     "execution_count": 19,
     "metadata": {},
     "output_type": "execute_result"
    }
   ],
   "source": [
    "# slice by location\n",
    "subset = date_series[3:7]\n",
    "subset"
   ]
  },
  {
   "cell_type": "markdown",
   "metadata": {},
   "source": [
    "To demonstrate, we will use the following Series created with the index of the subset we\n",
    "just created:"
   ]
  },
  {
   "cell_type": "code",
   "execution_count": 20,
   "metadata": {},
   "outputs": [
    {
     "data": {
      "text/plain": [
       "2014-08-04       10\n",
       "2014-08-05      100\n",
       "2014-08-06     1000\n",
       "2014-08-07    10000\n",
       "Freq: D, dtype: int64"
      ]
     },
     "execution_count": 20,
     "metadata": {},
     "output_type": "execute_result"
    }
   ],
   "source": [
    "# a Series to demonstrate alignment\n",
    "s2 = pd.Series([10, 100, 1000, 10000], subset.index)\n",
    "s2"
   ]
  },
  {
   "cell_type": "markdown",
   "metadata": {},
   "source": [
    "When we add s2 and date_series, alignment will be performed, returning NaN where\n",
    "items do not align and the sum of the two values where they align:"
   ]
  },
  {
   "cell_type": "code",
   "execution_count": 21,
   "metadata": {},
   "outputs": [
    {
     "data": {
      "text/plain": [
       "2014-08-01             NaN\n",
       "2014-08-02             NaN\n",
       "2014-08-03             NaN\n",
       "2014-08-04        8.864368\n",
       "2014-08-05      101.212112\n",
       "2014-08-06      999.826785\n",
       "2014-08-07    10000.119209\n",
       "2014-08-08             NaN\n",
       "2014-08-09             NaN\n",
       "2014-08-10             NaN\n",
       "Freq: D, dtype: float64"
      ]
     },
     "execution_count": 21,
     "metadata": {},
     "output_type": "execute_result"
    }
   ],
   "source": [
    "# demonstrate alignment by date on a subset of items\n",
    "date_series + s2"
   ]
  },
  {
   "cell_type": "markdown",
   "metadata": {},
   "source": [
    "Items in Series with DatetimeIndex can be retrieved using a string representing a date\n",
    "instead having to specify a datetime object:"
   ]
  },
  {
   "cell_type": "code",
   "execution_count": 22,
   "metadata": {},
   "outputs": [
    {
     "data": {
      "text/plain": [
       "1.2121120250208506"
      ]
     },
     "execution_count": 22,
     "metadata": {},
     "output_type": "execute_result"
    }
   ],
   "source": [
    "# lookup item by a string representing a date\n",
    "date_series['2014-08-05']"
   ]
  },
  {
   "cell_type": "markdown",
   "metadata": {},
   "source": [
    "DatetimeIndex can also be indexed and sliced using a string that represents a date or\n",
    "using datetime objects:"
   ]
  },
  {
   "cell_type": "code",
   "execution_count": 23,
   "metadata": {},
   "outputs": [
    {
     "data": {
      "text/plain": [
       "2014-08-05    1.212112\n",
       "2014-08-06   -0.173215\n",
       "2014-08-07    0.119209\n",
       "Freq: D, dtype: float64"
      ]
     },
     "execution_count": 23,
     "metadata": {},
     "output_type": "execute_result"
    }
   ],
   "source": [
    "# slice between two dates specified by string representing dates\n",
    "date_series['2014-08-05':'2014-08-07']"
   ]
  },
  {
   "cell_type": "markdown",
   "metadata": {},
   "source": [
    "Another convenient feature of pandas is that DatetimeIndex can be sliced using partial\n",
    "date specifications. As an example, the following code creates a Series object with dates\n",
    "spanning two years and then selects only those items of the year 2013:"
   ]
  },
  {
   "cell_type": "code",
   "execution_count": 24,
   "metadata": {},
   "outputs": [
    {
     "data": {
      "text/plain": [
       "2013-01-01    0\n",
       "2013-01-02    0\n",
       "2013-01-03    0\n",
       "2013-01-04    0\n",
       "2013-01-05    0\n",
       "             ..\n",
       "2014-12-27    0\n",
       "2014-12-28    0\n",
       "2014-12-29    0\n",
       "2014-12-30    0\n",
       "2014-12-31    0\n",
       "Freq: D, Length: 730, dtype: int64"
      ]
     },
     "execution_count": 24,
     "metadata": {},
     "output_type": "execute_result"
    }
   ],
   "source": [
    "# a two year range of daily data in a Series\n",
    "# only select those in 2013\n",
    "s3 = pd.Series(0, pd.date_range('2013-01-01', '2014-12-31'))\n",
    "s3"
   ]
  },
  {
   "cell_type": "code",
   "execution_count": 25,
   "metadata": {},
   "outputs": [
    {
     "data": {
      "text/plain": [
       "2013-01-01    0\n",
       "2013-01-02    0\n",
       "2013-01-03    0\n",
       "2013-01-04    0\n",
       "2013-01-05    0\n",
       "             ..\n",
       "2013-12-27    0\n",
       "2013-12-28    0\n",
       "2013-12-29    0\n",
       "2013-12-30    0\n",
       "2013-12-31    0\n",
       "Freq: D, Length: 365, dtype: int64"
      ]
     },
     "execution_count": 25,
     "metadata": {},
     "output_type": "execute_result"
    }
   ],
   "source": [
    "s3['2013']"
   ]
  },
  {
   "cell_type": "markdown",
   "metadata": {},
   "source": [
    "We can also select items only in a specific year and month. This is demonstrated by the\n",
    "following, which selects the items in August 2014:"
   ]
  },
  {
   "cell_type": "code",
   "execution_count": 26,
   "metadata": {},
   "outputs": [
    {
     "data": {
      "text/plain": [
       "2014-05-01    0\n",
       "2014-05-02    0\n",
       "2014-05-03    0\n",
       "2014-05-04    0\n",
       "2014-05-05    0\n",
       "             ..\n",
       "2014-05-27    0\n",
       "2014-05-28    0\n",
       "2014-05-29    0\n",
       "2014-05-30    0\n",
       "2014-05-31    0\n",
       "Freq: D, Length: 31, dtype: int64"
      ]
     },
     "execution_count": 26,
     "metadata": {},
     "output_type": "execute_result"
    }
   ],
   "source": [
    "# 31 items for May 2014\n",
    "s3['2014-05']"
   ]
  },
  {
   "cell_type": "markdown",
   "metadata": {},
   "source": [
    "We can slice data contained within two specified months, as demonstrated by the\n",
    "following, which returns items in August and September, 2014:"
   ]
  },
  {
   "cell_type": "code",
   "execution_count": 27,
   "metadata": {},
   "outputs": [
    {
     "data": {
      "text/plain": [
       "2014-08-01    0\n",
       "2014-08-02    0\n",
       "2014-08-03    0\n",
       "2014-08-04    0\n",
       "2014-08-05    0\n",
       "             ..\n",
       "2014-09-26    0\n",
       "2014-09-27    0\n",
       "2014-09-28    0\n",
       "2014-09-29    0\n",
       "2014-09-30    0\n",
       "Freq: D, Length: 61, dtype: int64"
      ]
     },
     "execution_count": 27,
     "metadata": {},
     "output_type": "execute_result"
    }
   ],
   "source": [
    "# items between two months\n",
    "s3['2014-08':'2014-09']"
   ]
  },
  {
   "cell_type": "markdown",
   "metadata": {},
   "source": [
    "<h3>Creating time-series data with specific frequencies</h3>"
   ]
  },
  {
   "cell_type": "markdown",
   "metadata": {},
   "source": [
    "<p>Time-series data in pandas can be created on intervals other than daily frequency.\n",
    "Different frequencies can be generated with pd.date_range() by utilizing the freq\n",
    "parameter. This parameter defaults to a value of 'D', which represents daily frequency.</p><p>\n",
    "To demonstrate alternative frequencies, the following creates a DatetimeIndex with 1-\n",
    "minute intervals between the two specified dates by specifying freq='T':</p>"
   ]
  },
  {
   "cell_type": "code",
   "execution_count": 28,
   "metadata": {},
   "outputs": [
    {
     "data": {
      "text/plain": [
       "2014-08-01 00:00:00    0.469112\n",
       "2014-08-01 00:01:00   -0.282863\n",
       "2014-08-01 00:02:00   -1.509059\n",
       "2014-08-01 00:03:00   -1.135632\n",
       "2014-08-01 00:04:00    1.212112\n",
       "                         ...   \n",
       "2014-10-29 23:55:00   -0.563029\n",
       "2014-10-29 23:56:00    1.180497\n",
       "2014-10-29 23:57:00    1.850604\n",
       "2014-10-29 23:58:00   -1.589660\n",
       "2014-10-29 23:59:00    0.266429\n",
       "Freq: T, Length: 129600, dtype: float64"
      ]
     },
     "execution_count": 28,
     "metadata": {},
     "output_type": "execute_result"
    }
   ],
   "source": [
    "# generate a Series at one minute intervals\n",
    "np.random.seed(123456)\n",
    "bymin = pd.Series(np.random.randn(24*60*90), pd.date_range('2014-08-01', '2014-10-29 23:59', freq='T'))\n",
    "bymin"
   ]
  },
  {
   "cell_type": "markdown",
   "metadata": {},
   "source": [
    "This time series allows us to slice at a finer resolution, down to the minute and smaller\n",
    "intervals if using finer frequencies. To demonstrate minute-level slicing, the following\n",
    "slices the values at 9 consecutive minutes:"
   ]
  },
  {
   "cell_type": "code",
   "execution_count": 29,
   "metadata": {},
   "outputs": [
    {
     "data": {
      "text/plain": [
       "2014-08-01 00:02:00   -1.509059\n",
       "2014-08-01 00:03:00   -1.135632\n",
       "2014-08-01 00:04:00    1.212112\n",
       "2014-08-01 00:05:00   -0.173215\n",
       "2014-08-01 00:06:00    0.119209\n",
       "2014-08-01 00:07:00   -1.044236\n",
       "2014-08-01 00:08:00   -0.861849\n",
       "2014-08-01 00:09:00   -2.104569\n",
       "2014-08-01 00:10:00   -0.494929\n",
       "Freq: T, dtype: float64"
      ]
     },
     "execution_count": 29,
     "metadata": {},
     "output_type": "execute_result"
    }
   ],
   "source": [
    "# slice down to the minute\n",
    "bymin['2014-08-01 00:02':'2014-08-01 00:10']"
   ]
  },
  {
   "cell_type": "markdown",
   "metadata": {},
   "source": [
    "<p>The following table lists the possible frequency values:</p>\n",
    "\n",
    "<table>\n",
    "    <tr><th>Alias</th><th>Description</th>\n",
    "<tr><td>B</td><td> Business day frequency</td>\n",
    "<tr><td>C</td><td> Custom business day frequency</td>\n",
    "<tr><td>D</td><td> Calendar day frequency (the default)</td>\n",
    "<tr><td>W</td><td> Weekly frequency</td>\n",
    "<tr><td>M</td><td> Month end frequency</td>\n",
    "<tr><td>BM</td><td> Business month end frequency</td>\n",
    "<tr><td>CBM</td><td> Custom business month end frequency</td>\n",
    "<tr><td>MS</td><td> Month start frequency</td>\n",
    "<tr><td>BMS</td><td> Business month start frequency</td>\n",
    "<tr><td>CBMS</td><td> Custom business month start frequency</td>\n",
    "<tr><td>Q</td><td> Quarter end frequency</td>\n",
    "<tr><td>BQ</td><td> Business quarter frequency</td>\n",
    "<tr><td>QS</td><td> Quarter start frequency</td>\n",
    "<tr><td>BQS</td><td> Business quarter start frequency</td>\n",
    "<tr><td>A</td><td> Year end frequency</td>\n",
    "<tr><td>BA</td><td> Business year-end frequency</td>\n",
    "<tr><td>AS</td><td> Year start frequency</td>\n",
    "<tr><td>BAS</td><td> Business year start frequency</td>\n",
    "<tr><td>H</td><td> Hourly frequency</td>\n",
    "<tr><td>T</td><td> Minute-by-minute frequency</td>\n",
    "<tr><td>S</td><td> Second-by-second frequency</td>\n",
    "<tr><td>L</td><td> Milliseconds</td>\n",
    "<tr><td>U</td><td> Microseconds</td>\n",
    "    </table>"
   ]
  },
  {
   "cell_type": "code",
   "execution_count": 30,
   "metadata": {},
   "outputs": [
    {
     "data": {
      "text/plain": [
       "2014-08-01 00:00:00    0\n",
       "2014-08-01 00:00:01    0\n",
       "2014-08-01 00:00:02    0\n",
       "2014-08-01 00:00:03    0\n",
       "2014-08-01 00:00:04    0\n",
       "                      ..\n",
       "2014-08-01 23:59:56    0\n",
       "2014-08-01 23:59:57    0\n",
       "2014-08-01 23:59:58    0\n",
       "2014-08-01 23:59:59    0\n",
       "2014-08-02 00:00:00    0\n",
       "Freq: S, Length: 86401, dtype: int64"
      ]
     },
     "execution_count": 30,
     "metadata": {},
     "output_type": "execute_result"
    }
   ],
   "source": [
    "# generate a Series at one second intervals\n",
    "np.random.seed(123456)\n",
    "bymin = pd.Series(0, pd.date_range('2014-08-01', '2014-08-02', freq='S'))\n",
    "bymin"
   ]
  },
  {
   "cell_type": "markdown",
   "metadata": {},
   "source": [
    "As an example, if you want to generate a time series that uses only business days, then use\n",
    "the 'B' frequency:"
   ]
  },
  {
   "cell_type": "code",
   "execution_count": 31,
   "metadata": {},
   "outputs": [
    {
     "name": "stdout",
     "output_type": "stream",
     "text": [
      "2014-08-29 00:00:00\n",
      "2014-09-01 00:00:00\n",
      "2014-09-02 00:00:00\n",
      "2014-09-03 00:00:00\n",
      "2014-09-04 00:00:00\n",
      "2014-09-05 00:00:00\n"
     ]
    }
   ],
   "source": [
    "# generate a series based upon business days\n",
    "days = pd.date_range('2014-08-29', '2014-09-05', freq='B')\n",
    "for d in days : print (d)"
   ]
  },
  {
   "cell_type": "markdown",
   "metadata": {},
   "source": [
    "<p>In this time series, we can see that two days were skipped as they were on the weekend,\n",
    "which would not have occurred using a calendar-day frequency.</p><p>\n",
    "A range can be created starting at a particular date and time with a specific frequency and\n",
    "for a specific number of periods using the periods parameter. To demonstrate, the\n",
    "following creates a 10-item DatetimeIndex starting at 2014-08-01 12:10:01 and at 1-\n",
    "second intervals:</p>"
   ]
  },
  {
   "cell_type": "code",
   "execution_count": 32,
   "metadata": {},
   "outputs": [
    {
     "data": {
      "text/plain": [
       "DatetimeIndex(['2014-08-01 12:10:01', '2014-08-01 12:10:02',\n",
       "               '2014-08-01 12:10:03', '2014-08-01 12:10:04',\n",
       "               '2014-08-01 12:10:05', '2014-08-01 12:10:06',\n",
       "               '2014-08-01 12:10:07', '2014-08-01 12:10:08',\n",
       "               '2014-08-01 12:10:09', '2014-08-01 12:10:10'],\n",
       "              dtype='datetime64[ns]', freq='S')"
      ]
     },
     "execution_count": 32,
     "metadata": {},
     "output_type": "execute_result"
    }
   ],
   "source": [
    "# periods will use the frequency as the increment\n",
    "pd.date_range('2014-08-01 12:10:01', freq='S', periods=10)"
   ]
  },
  {
   "cell_type": "markdown",
   "metadata": {},
   "source": [
    "<h3>Calculating new dates using offsets</h3>"
   ]
  },
  {
   "cell_type": "markdown",
   "metadata": {},
   "source": [
    "<p>Frequencies in pandas are represented using date offsets. We have touched on this concept\n",
    "at the beginning of the chapter when discussing Timedelta objects. pandas extends the\n",
    "capabilities of these using the concept of DateOffset objects, which represent knowledge\n",
    "of how to integrate time offsets and frequencies relative to DatetimeIndex objects.</p><p>\n",
    "We will examine how pandas uses date offsetting in two different ways. The first\n",
    "calculates offsets of a specific duration from a given date, and the other calculates offsets\n",
    "based on what are referred to as anchored offsets.</p>"
   ]
  },
  {
   "cell_type": "markdown",
   "metadata": {},
   "source": [
    "<h3>Date offsets</h3>"
   ]
  },
  {
   "cell_type": "markdown",
   "metadata": {},
   "source": [
    "<p>DatetimeIndex objects are created at various frequencies by passing in frequency strings,\n",
    "such as 'M', 'W', and 'BM' to the freq parameter of pd.date_range(). Under the hood,\n",
    "these frequency strings are translated into an instance of the pandas DateOffset object,\n",
    "which is associated with the frequency of the index.</p><p>\n",
    "DateOffset represents a regular frequency increment. Specific date offset logic, such as\n",
    "“month”, “business day”, or “hour”, is represented in pandas with various subclasses of\n",
    "DateOffset. A DateOffset provides pandas with the intelligence to be able to determine\n",
    "how to calculate a specific interval of time from a reference date and time.</p><p>\n",
    "The use of DatetimeIndex and DateOffset objects provides the user of pandas great\n",
    "flexibility in calculating a new date/time from another using an offset other than one that\n",
    "represents a fixed period of time. A practical example would be to calculate the next day\n",
    "of business. This is not simply determined by adding one day to datetime. If a date\n",
    "represents a Friday, the next business day in the US financial market is not Saturday but\n",
    "Monday. In some cases, one business day from a Friday may actually be Tuesday if\n",
    "Monday is a holiday. pandas gives us all the tools required to handle these scenarios.</p><p>\n",
    "We can start to examine the use of date offsets by generating a date range using 'B' as the\n",
    "frequency, which will return a sequence of dates between the specified dates—but only\n",
    "dates that are considered business days during that interval:</p>"
   ]
  },
  {
   "cell_type": "code",
   "execution_count": 33,
   "metadata": {},
   "outputs": [
    {
     "data": {
      "text/plain": [
       "array(['2014-08-29T00:00:00.000000000', '2014-09-01T00:00:00.000000000',\n",
       "       '2014-09-02T00:00:00.000000000', '2014-09-03T00:00:00.000000000',\n",
       "       '2014-09-04T00:00:00.000000000', '2014-09-05T00:00:00.000000000'],\n",
       "      dtype='datetime64[ns]')"
      ]
     },
     "execution_count": 33,
     "metadata": {},
     "output_type": "execute_result"
    }
   ],
   "source": [
    "# get all business days between and inclusive of these two dates\n",
    "dti = pd.date_range('2014-08-29', '2014-09-05', freq='B')\n",
    "dti.values"
   ]
  },
  {
   "cell_type": "markdown",
   "metadata": {},
   "source": [
    "<p>This time series has omitted 2014-08-30 and 2014-08-30, as they are Saturday and\n",
    "Sunday and not considered a business day.</p><p>\n",
    "DatetimeIndex has a .freq property that represents the frequency of the timestamps in\n",
    "the index</p>"
   ]
  },
  {
   "cell_type": "code",
   "execution_count": 34,
   "metadata": {},
   "outputs": [
    {
     "data": {
      "text/plain": [
       "<BusinessDay>"
      ]
     },
     "execution_count": 34,
     "metadata": {},
     "output_type": "execute_result"
    }
   ],
   "source": [
    "# check the frequency is BusinessDay\n",
    "dti.freq"
   ]
  },
  {
   "cell_type": "markdown",
   "metadata": {},
   "source": [
    "<p>Notice that pandas has created an instance of the BusinessDay class to represent the\n",
    "DateOffset unit of this index. As mentioned earlier, pandas represents different date\n",
    "offsets with a subclass of the DateOffset class. The following are the various built-in date\n",
    "offset classes that are provided by pandas:</p>\n",
    "\n",
    "<table>\n",
    "    <tr><th>Class</th><th>Description</th></tr>\n",
    "<tr><td>DateOffset</td><td> Generic offset defaults to one calendar day</td></tr>\n",
    "<tr><td>BDay</td><td> Business day</td></tr>\n",
    "<tr><td>CDay</td><td> Custom business day</td></tr>\n",
    "<tr><td>Week</td><td> One week, optionally anchored on a day of the week</td></tr>\n",
    "<tr><td>WeekOfMonth</td><td> The x-th day of the y-th week of each month</td></tr>\n",
    "<tr><td>LastWeekOfMonth</td><td> The x-th day of the last week of each month</td></tr>\n",
    "<tr><td>MonthEnd</td><td> Calendar month end</td></tr>\n",
    "<tr><td>MonthBegin</td><td> Calendar month start</td></tr>\n",
    "<tr><td>BMonthEnd</td><td> Business month end</td></tr>\n",
    "<tr><td>BMonthBegin</td><td> Business month start</td></tr>\n",
    "<tr><td>CBMonthEnd</td><td> Custom business month end</td></tr>\n",
    "<tr><td>CBMonthBegin</td><td> Custom business month start</td></tr>\n",
    "<tr><td>QuarterEnd</td><td> Quarter end</td></tr>\n",
    "<tr><td>QuarterBegin</td><td> Quarter start</td></tr>\n",
    "<tr><td>BQuarterEnd</td><td> Business quarter end</td></tr>\n",
    "<tr><td>BQuarterBegin</td><td> Business quarter start</td></tr>\n",
    "<tr><td>FYS253Quarter</td><td> Retail (52-53 week) quarter</td></tr>\n",
    "<tr><td>YearEnd</td><td> Calendar year end</td></tr>\n",
    "<tr><td>YearBegin</td><td> Calendar year start</td></tr>\n",
    "<tr><td>BYearEnd</td><td> Business quarter end</td></tr>\n",
    "<tr><td>BYearBegin</td><td> Business quarter start</td></tr>\n",
    "<tr><td>FYS253</td><td> Retail (52-53 week) year</td></tr>\n",
    "<tr><td>Hour</td><td> One hour</td></tr>\n",
    "<tr><td>Minute</td><td> One minute</td></tr>\n",
    "<tr><td>Second</td><td> One second</td></tr>\n",
    "<tr><td>Milli</td><td> One millisecond</td></tr>\n",
    "<tr><td>Micro</td><td> One microsecond</td></tr>\n",
    "    </table>"
   ]
  },
  {
   "cell_type": "markdown",
   "metadata": {},
   "source": [
    "<p>pandas takes this strategy of using DateOffset and its specializations to codify logic to\n",
    "calculate the next datetime from another datetime. This makes using these objects very\n",
    "flexible as well as powerful. DateOffset objects can be used in various scenarios,\n",
    "including the following:</p>\n",
    "<ul>\n",
    "<li>They can be added/subtracted to/from a datetime object to obtain a shifted date</li>\n",
    "<li>They can be multiplied by an integer (positive or negative) so that the increment will\n",
    "be applied multiple times</li>\n",
    "    <li>They have rollforward and rollback methods to move a date forward or backward\n",
    "to the next or previous “offset date”</li></ul>\n",
    "<p>\n",
    "DateOffset objects can be created by passing them a datetime object that represents a\n",
    "fixed duration of time or using a number of keyword arguments. Keyword arguments fall\n",
    "into two general categories. The first category is keywords that represent absolute dates:\n",
    "year, month, day, hour, minute, second, and microsecond. The second category represents\n",
    "relative durations and can be negative values: years, months, weeks, day, hours, minutes,\n",
    "seconds, and microseconds.</p>\n",
    "<p>\n",
    "The following creates a 1-day offset and adds it to datetime:</p>"
   ]
  },
  {
   "cell_type": "code",
   "execution_count": 35,
   "metadata": {},
   "outputs": [
    {
     "data": {
      "text/plain": [
       "Timestamp('2014-08-30 00:00:00')"
      ]
     },
     "execution_count": 35,
     "metadata": {},
     "output_type": "execute_result"
    }
   ],
   "source": [
    "# calculate a one day offset from 2014-8-29\n",
    "d = datetime(2014, 8, 29)\n",
    "do = pd.DateOffset(days = 1)\n",
    "d + do"
   ]
  },
  {
   "cell_type": "markdown",
   "metadata": {},
   "source": [
    "The following calculates the next business day from a given date:"
   ]
  },
  {
   "cell_type": "code",
   "execution_count": 36,
   "metadata": {},
   "outputs": [
    {
     "data": {
      "text/plain": [
       "Timestamp('2014-09-01 00:00:00')"
      ]
     },
     "execution_count": 36,
     "metadata": {},
     "output_type": "execute_result"
    }
   ],
   "source": [
    "# import the data offset types\n",
    "from pandas.tseries.offsets import *\n",
    "# calculate one business day from 2014-8-31\n",
    "d + BusinessDay()"
   ]
  },
  {
   "cell_type": "code",
   "execution_count": 37,
   "metadata": {},
   "outputs": [
    {
     "data": {
      "text/plain": [
       "Timestamp('2014-09-02 00:00:00')"
      ]
     },
     "execution_count": 37,
     "metadata": {},
     "output_type": "execute_result"
    }
   ],
   "source": [
    "# determine 2 business days from 2014-8-29\n",
    "d + 2 * BusinessDay()"
   ]
  },
  {
   "cell_type": "markdown",
   "metadata": {},
   "source": [
    "The following demonstrates using a BMonthEnd object to calculate the last business day of\n",
    "a month from a given date (in this case, 2014-09-02):"
   ]
  },
  {
   "cell_type": "code",
   "execution_count": 38,
   "metadata": {},
   "outputs": [
    {
     "data": {
      "text/plain": [
       "Timestamp('2014-09-30 00:00:00')"
      ]
     },
     "execution_count": 38,
     "metadata": {},
     "output_type": "execute_result"
    }
   ],
   "source": [
    "# what is the next business month end\n",
    "# from a specific date?\n",
    "d + BMonthEnd()"
   ]
  },
  {
   "cell_type": "markdown",
   "metadata": {},
   "source": [
    "The following uses the BMonthEnd objects’ .rollforward() method to calculate the next\n",
    "month end:"
   ]
  },
  {
   "cell_type": "code",
   "execution_count": 39,
   "metadata": {},
   "outputs": [
    {
     "data": {
      "text/plain": [
       "Timestamp('2014-09-30 00:00:00')"
      ]
     },
     "execution_count": 39,
     "metadata": {},
     "output_type": "execute_result"
    }
   ],
   "source": [
    "# calculate the next month end by\n",
    "# rolling forward from a specific date\n",
    "BMonthEnd().rollforward(datetime(2014, 9, 15))"
   ]
  },
  {
   "cell_type": "markdown",
   "metadata": {},
   "source": [
    "Several of the offset classes can be parameterized to provide finer control of the offset\n",
    "behavior. As an example, the following calculates the date of the Tuesday (weekday = 1)\n",
    "in the week prior to 2014-08-31:"
   ]
  },
  {
   "cell_type": "code",
   "execution_count": 40,
   "metadata": {},
   "outputs": [
    {
     "data": {
      "text/plain": [
       "Timestamp('2014-08-26 00:00:00')"
      ]
     },
     "execution_count": 40,
     "metadata": {},
     "output_type": "execute_result"
    }
   ],
   "source": [
    "# calculate the date of the Tuesday previous to a specified date\n",
    "d - Week(weekday = 1)"
   ]
  },
  {
   "cell_type": "code",
   "execution_count": 41,
   "metadata": {},
   "outputs": [
    {
     "data": {
      "text/plain": [
       "datetime.datetime(2014, 8, 29, 0, 0)"
      ]
     },
     "execution_count": 41,
     "metadata": {},
     "output_type": "execute_result"
    }
   ],
   "source": [
    "d"
   ]
  },
  {
   "cell_type": "markdown",
   "metadata": {},
   "source": [
    "<h3>Anchored Offsets</h3>"
   ]
  },
  {
   "cell_type": "markdown",
   "metadata": {},
   "source": [
    "pandas also supports the concept of anchored offsets, which are frequencies that can be\n",
    "specified using a specific suffix. One version of anchored offsets allows you to specify\n",
    "weekly intervals that fall on a specific day of the week. These aliases are of this form:\n",
    "\n",
    "<table>\n",
    "    <tr><th>Alias</th><th>Description</th></tr>\n",
    "    <tr><td>W-SUN</td><td>Weekly on Sunday (same as 'W')</td></tr>\n",
    "<tr><td>W-MON</td><td>Weekly on Monday</td></tr>\n",
    "<tr><td>W-TUE</td><td>Weekly on Tuesday</td></tr>\n",
    "<tr><td>W-WED</td><td>Weekly on Wednesday</td></tr>\n",
    "<tr><td>W-THU</td><td>Weekly on Thursday</td></tr>\n",
    "<tr><td>W-FRI</td><td>Weekly on Friday</td></tr>\n",
    "<tr><td>W-SAT</td><td>Weekly on Saturday</td></tr>\n",
    "    </table>"
   ]
  },
  {
   "cell_type": "markdown",
   "metadata": {},
   "source": [
    "As an example, the following generates an index that consists of the dates of all\n",
    "Wednesdays between the two specified dates:"
   ]
  },
  {
   "cell_type": "code",
   "execution_count": 42,
   "metadata": {},
   "outputs": [
    {
     "data": {
      "text/plain": [
       "array(['2014-06-04T00:00:00.000000000', '2014-06-11T00:00:00.000000000',\n",
       "       '2014-06-18T00:00:00.000000000', '2014-06-25T00:00:00.000000000',\n",
       "       '2014-07-02T00:00:00.000000000', '2014-07-09T00:00:00.000000000',\n",
       "       '2014-07-16T00:00:00.000000000', '2014-07-23T00:00:00.000000000',\n",
       "       '2014-07-30T00:00:00.000000000', '2014-08-06T00:00:00.000000000',\n",
       "       '2014-08-13T00:00:00.000000000', '2014-08-20T00:00:00.000000000',\n",
       "       '2014-08-27T00:00:00.000000000'], dtype='datetime64[ns]')"
      ]
     },
     "execution_count": 42,
     "metadata": {},
     "output_type": "execute_result"
    }
   ],
   "source": [
    "# calculate all Wednesdays between 2014-06-01\n",
    "# and 2014-08-31\n",
    "wednesdays = pd.date_range('2014-06-01', '2014-08-31', freq=\"W-WED\")\n",
    "wednesdays.values"
   ]
  },
  {
   "cell_type": "markdown",
   "metadata": {},
   "source": [
    "<p>Anchored offsets can also be created using the annual and quarterly frequencies. These\n",
    "frequency anchors are of the general form [B][A|Q][S]-[MON], where B (business days)\n",
    "and S (start of period instead end) are optional, A is for annual or Q for quarterly, and MON is\n",
    "the three-digit abbreviation for the month (JAN, FEB, …).</p><p>\n",
    "To demonstrate, the following generates the business dates for quarter end in the year</p>\n"
   ]
  },
  {
   "cell_type": "code",
   "execution_count": 43,
   "metadata": {},
   "outputs": [
    {
     "data": {
      "text/plain": [
       "array(['2014-03-03T00:00:00.000000000', '2014-06-02T00:00:00.000000000',\n",
       "       '2014-09-01T00:00:00.000000000', '2014-12-01T00:00:00.000000000'],\n",
       "      dtype='datetime64[ns]')"
      ]
     },
     "execution_count": 43,
     "metadata": {},
     "output_type": "execute_result"
    }
   ],
   "source": [
    "# what are all of the business quarterly end dates in 2014?\n",
    "qends = pd.date_range('2014-01-01', '2014-12-31', freq='BQS-JUN')\n",
    "qends.values"
   ]
  },
  {
   "cell_type": "markdown",
   "metadata": {},
   "source": [
    "<h3>Representing durations of time using Period\n",
    "objects</h3>"
   ]
  },
  {
   "cell_type": "markdown",
   "metadata": {},
   "source": [
    "<p>Many useful mathematical operations on time-series data require that events within a\n",
    "specific time interval be analyzed. A simple example would be to determine how many\n",
    "financial transactions occurred in a specific period.</p>\n",
    "<p>This can be performed using Timestamp and DateOffset, where the bounds are calculated\n",
    "and then items filtered based on these bounds. However, this becomes cumbersome when\n",
    "you need to deal with events that must be grouped into multiple periods of time as you\n",
    "start to need to manage sets of the Timestamp and DateOffset objects.</p>\n",
    "<p>To facilitate these types of data organization and calculations, pandas makes intervals of\n",
    "time a formal construct using the Period class. pandas also formalizes series of Period\n",
    "objects using PeriodIndex, which provides capabilities of aligning data items based on\n",
    "the indexes’ associated period objects.</p>\n",
    "<p>We will look at the Period object and PeriodIndex in detail in the following subsections.</p>"
   ]
  },
  {
   "cell_type": "markdown",
   "metadata": {},
   "source": [
    "<h3>The Period object</h3>"
   ]
  },
  {
   "cell_type": "markdown",
   "metadata": {},
   "source": [
    "<p>pandas formalizes the concept of an interval of time using a Period object. Period allows\n",
    "you to specify durations based on frequencies such as daily, weekly, monthly, annually,\n",
    "quarterly, and so on, and it will provide a specific start and end Timestamp representing\n",
    "the specific bounded interval of time.</p><p>\n",
    "Period is created using a timestamp and a frequency (seen in the table earlier), where the\n",
    "timestamp represents the anchor used as a point of reference and the frequency is the\n",
    "duration of time.</p><p>\n",
    "To demonstrate, the following creates a period representing one month anchored in August\n",
    "2014:</p>"
   ]
  },
  {
   "cell_type": "code",
   "execution_count": 44,
   "metadata": {},
   "outputs": [
    {
     "data": {
      "text/plain": [
       "Period('2014-08', 'M')"
      ]
     },
     "execution_count": 44,
     "metadata": {},
     "output_type": "execute_result"
    }
   ],
   "source": [
    "# create a period representing a month of time\n",
    "# starting in August 2014\n",
    "aug2014 = pd.Period('2014-08', freq='M')\n",
    "aug2014"
   ]
  },
  {
   "cell_type": "markdown",
   "metadata": {},
   "source": [
    "Period has start_time and end_time properties that inform us about the derived start and\n",
    "end times of Period:"
   ]
  },
  {
   "cell_type": "code",
   "execution_count": 45,
   "metadata": {},
   "outputs": [
    {
     "data": {
      "text/plain": [
       "(Timestamp('2014-08-01 00:00:00'), Timestamp('2014-08-31 23:59:59.999999999'))"
      ]
     },
     "execution_count": 45,
     "metadata": {},
     "output_type": "execute_result"
    }
   ],
   "source": [
    "# examine the start and end times of this period\n",
    "aug2014.start_time, aug2014.end_time"
   ]
  },
  {
   "cell_type": "markdown",
   "metadata": {},
   "source": [
    "<p>As we specified a period that is August 2014, pandas determines the anchor (start_time)\n",
    "and then calculates end_time based on the specified frequency. In this case, it calculates\n",
    "one month from start_time and returns the last unit of the prior time.</p><p>\n",
    "Mathematical operations are overloaded on Period to calculate another Period based on\n",
    "the given value. The following creates a new Period object based on aug2014, which is\n",
    "shifted by 1 unit of its represented frequency (which is one month):</p>"
   ]
  },
  {
   "cell_type": "code",
   "execution_count": 46,
   "metadata": {},
   "outputs": [
    {
     "data": {
      "text/plain": [
       "Period('2014-09', 'M')"
      ]
     },
     "execution_count": 46,
     "metadata": {},
     "output_type": "execute_result"
    }
   ],
   "source": [
    "# calculate the period that is one frequency\n",
    "# unit of the aug2014 period further along in time\n",
    "# This happens to be September 2014\n",
    "sep2014 = aug2014 + 1\n",
    "sep2014"
   ]
  },
  {
   "cell_type": "markdown",
   "metadata": {},
   "source": [
    "<p>The concept of the shift is very important and powerful. The addition of 1 to this Period\n",
    "object informs it to shift in time one positive unit of whatever frequency is represented by\n",
    "the object. In this case, it shifts the period one month forward to September 2014.</p><p>\n",
    "If we examine the start and end times represented in the sep2014 object, we see that\n",
    "pandas has gone through the effort of determining the correct dates representing the\n",
    "entirety of September 2014:</p>"
   ]
  },
  {
   "cell_type": "code",
   "execution_count": 47,
   "metadata": {},
   "outputs": [
    {
     "data": {
      "text/plain": [
       "(Timestamp('2014-09-01 00:00:00'), Timestamp('2014-09-30 23:59:59.999999999'))"
      ]
     },
     "execution_count": 47,
     "metadata": {},
     "output_type": "execute_result"
    }
   ],
   "source": [
    "sep2014.start_time, sep2014.end_time"
   ]
  },
  {
   "cell_type": "markdown",
   "metadata": {},
   "source": [
    "Note that Period had the intelligence to know that September is 30 days and not 31. This\n",
    "is part of the incredible intelligence behind the Period object that saves us a lot of coding.\n",
    "It is not simply adding 30 days (in this example) but one unit frequency of the period. This\n",
    "helps solve many difficult date management problems."
   ]
  },
  {
   "cell_type": "markdown",
   "metadata": {},
   "source": [
    "<h3>Period Index</h3>"
   ]
  },
  {
   "cell_type": "markdown",
   "metadata": {},
   "source": [
    "<p>A series of Period objects can be combined into a special form of pandas index known as\n",
    "PeriodIndex. A PeriodIndex index is useful for being able to associate data to specific\n",
    "intervals of time and being able to slice and perform analysis on the events in each interval\n",
    "represented in PeriodIndex.</p><p>\n",
    "The following code creates a PeriodIndex consisting of 1-month intervals for the year\n",
    "2013:</p>"
   ]
  },
  {
   "cell_type": "code",
   "execution_count": 48,
   "metadata": {},
   "outputs": [
    {
     "data": {
      "text/plain": [
       "PeriodIndex(['2013-01', '2013-02', '2013-03', '2013-04', '2013-05', '2013-06',\n",
       "             '2013-07', '2013-08', '2013-09', '2013-10', '2013-11', '2013-12'],\n",
       "            dtype='period[M]', freq='M')"
      ]
     },
     "execution_count": 48,
     "metadata": {},
     "output_type": "execute_result"
    }
   ],
   "source": [
    "# create a period index representing\n",
    "# all monthly boundaries in 2013\n",
    "mp2013 = pd.period_range('1/1/2013', '12/31/2013', freq='M')\n",
    "mp2013"
   ]
  },
  {
   "cell_type": "markdown",
   "metadata": {},
   "source": [
    "PeriodIndex differs from DatetimeIndex in that the index labels are the Period objects.\n",
    "The following prints the start and end times for all the Period objects in the index:"
   ]
  },
  {
   "cell_type": "code",
   "execution_count": 49,
   "metadata": {},
   "outputs": [
    {
     "name": "stdout",
     "output_type": "stream",
     "text": [
      "2013-01-01 00:00:00 2013-01-31 23:59:59.999999999\n",
      "2013-02-01 00:00:00 2013-02-28 23:59:59.999999999\n",
      "2013-03-01 00:00:00 2013-03-31 23:59:59.999999999\n",
      "2013-04-01 00:00:00 2013-04-30 23:59:59.999999999\n",
      "2013-05-01 00:00:00 2013-05-31 23:59:59.999999999\n",
      "2013-06-01 00:00:00 2013-06-30 23:59:59.999999999\n",
      "2013-07-01 00:00:00 2013-07-31 23:59:59.999999999\n",
      "2013-08-01 00:00:00 2013-08-31 23:59:59.999999999\n",
      "2013-09-01 00:00:00 2013-09-30 23:59:59.999999999\n",
      "2013-10-01 00:00:00 2013-10-31 23:59:59.999999999\n",
      "2013-11-01 00:00:00 2013-11-30 23:59:59.999999999\n",
      "2013-12-01 00:00:00 2013-12-31 23:59:59.999999999\n"
     ]
    }
   ],
   "source": [
    "# loop through all period objects in the index\n",
    "# printing start and end time for each\n",
    "for p in mp2013:\n",
    "    print (\"{0} {1}\".format(p.start_time, p.end_time))"
   ]
  },
  {
   "cell_type": "markdown",
   "metadata": {},
   "source": [
    "<p>pandas has conveniently determined the start and end of each month, taking into account\n",
    "the actual number of days in each specific month.</p><p>\n",
    "Using PeriodIndex, we can construct a Series object using it as the index and associate a\n",
    "value to each Period in the index:</p>"
   ]
  },
  {
   "cell_type": "code",
   "execution_count": 50,
   "metadata": {},
   "outputs": [
    {
     "data": {
      "text/plain": [
       "2013-01    0.469112\n",
       "2013-02   -0.282863\n",
       "2013-03   -1.509059\n",
       "2013-04   -1.135632\n",
       "2013-05    1.212112\n",
       "             ...   \n",
       "2013-08   -1.044236\n",
       "2013-09   -0.861849\n",
       "2013-10   -2.104569\n",
       "2013-11   -0.494929\n",
       "2013-12    1.071804\n",
       "Freq: M, Length: 12, dtype: float64"
      ]
     },
     "execution_count": 50,
     "metadata": {},
     "output_type": "execute_result"
    }
   ],
   "source": [
    "# create a Series with a PeriodIndex\n",
    "np.random.seed(123456)\n",
    "ps = pd.Series(np.random.randn(12), mp2013)\n",
    "ps"
   ]
  },
  {
   "cell_type": "code",
   "execution_count": 51,
   "metadata": {},
   "outputs": [
    {
     "data": {
      "text/plain": [
       "PeriodIndex(['2013-01', '2013-02', '2013-03', '2013-04', '2013-05', '2013-06',\n",
       "             '2013-07', '2013-08', '2013-09', '2013-10', '2013-11', '2013-12'],\n",
       "            dtype='period[M]', freq='M')"
      ]
     },
     "execution_count": 51,
     "metadata": {},
     "output_type": "execute_result"
    }
   ],
   "source": [
    "ps.index"
   ]
  },
  {
   "cell_type": "markdown",
   "metadata": {},
   "source": [
    "<p>We now have a time series where the value at a specific index label represents a\n",
    "measurement that spans a period of time, such as the average value of a security in a given\n",
    "month instead of at a specific time. This becomes very useful when we perform the\n",
    "resampling of the time series to another frequency.</p><p>\n",
    "Like DatetimeIndex, PeriodIndex can be used to index values using Period, a string\n",
    "representing a period or partial period specification. To demonstrate, we will create\n",
    "another series similar to the previous one but spanning two years, 2013 and 2014:</p>"
   ]
  },
  {
   "cell_type": "code",
   "execution_count": 52,
   "metadata": {},
   "outputs": [
    {
     "data": {
      "text/plain": [
       "2013-01    0.469112\n",
       "2013-02   -0.282863\n",
       "2013-03   -1.509059\n",
       "2013-04   -1.135632\n",
       "2013-05    1.212112\n",
       "             ...   \n",
       "2014-08   -1.087401\n",
       "2014-09   -0.673690\n",
       "2014-10    0.113648\n",
       "2014-11   -1.478427\n",
       "2014-12    0.524988\n",
       "Freq: M, Length: 24, dtype: float64"
      ]
     },
     "execution_count": 52,
     "metadata": {},
     "output_type": "execute_result"
    }
   ],
   "source": [
    "# create a Series with a PeriodIndex and which\n",
    "# represents all calendar month periods in 2013 and 2014\n",
    "np.random.seed(123456)\n",
    "ps = pd.Series(np.random.randn(24), pd.period_range('1/1/2013', '12/31/2014', freq='M'))\n",
    "ps"
   ]
  },
  {
   "cell_type": "markdown",
   "metadata": {},
   "source": [
    "Individual values can be selected using the specific index label using either a Period\n",
    "object or a string representing a period. The following demonstrates how to use a string\n",
    "representation:"
   ]
  },
  {
   "cell_type": "code",
   "execution_count": 53,
   "metadata": {},
   "outputs": [
    {
     "data": {
      "text/plain": [
       "0.567020349793672"
      ]
     },
     "execution_count": 53,
     "metadata": {},
     "output_type": "execute_result"
    }
   ],
   "source": [
    "# get value for period represented by 2014-06\n",
    "ps['2014-06']"
   ]
  },
  {
   "cell_type": "markdown",
   "metadata": {},
   "source": [
    "Partial specifications can also be used, such as the following, which retrieves all values\n",
    "just for periods in 2014:"
   ]
  },
  {
   "cell_type": "code",
   "execution_count": 54,
   "metadata": {},
   "outputs": [
    {
     "data": {
      "text/plain": [
       "2014-01    0.721555\n",
       "2014-02   -0.706771\n",
       "2014-03   -1.039575\n",
       "2014-04    0.271860\n",
       "2014-05   -0.424972\n",
       "             ...   \n",
       "2014-08   -1.087401\n",
       "2014-09   -0.673690\n",
       "2014-10    0.113648\n",
       "2014-11   -1.478427\n",
       "2014-12    0.524988\n",
       "Freq: M, Length: 12, dtype: float64"
      ]
     },
     "execution_count": 54,
     "metadata": {},
     "output_type": "execute_result"
    }
   ],
   "source": [
    "# get values for all periods in 2014\n",
    "ps['2014']"
   ]
  },
  {
   "cell_type": "markdown",
   "metadata": {},
   "source": [
    "Like any index in pandas, PeriodIndex can also be sliced. The following retrieves all\n",
    "values for periods between (and inclusive of) March and June 2014:"
   ]
  },
  {
   "cell_type": "code",
   "execution_count": 55,
   "metadata": {},
   "outputs": [
    {
     "data": {
      "text/plain": [
       "2014-03   -1.039575\n",
       "2014-04    0.271860\n",
       "2014-05   -0.424972\n",
       "2014-06    0.567020\n",
       "Freq: M, dtype: float64"
      ]
     },
     "execution_count": 55,
     "metadata": {},
     "output_type": "execute_result"
    }
   ],
   "source": [
    "# all values between (and including) March and June 2014\n",
    "ps['2014-03':'2014-06']"
   ]
  },
  {
   "cell_type": "markdown",
   "metadata": {},
   "source": [
    "<h3>Handling holidays using calendars</h3>"
   ]
  },
  {
   "cell_type": "markdown",
   "metadata": {},
   "source": [
    "<p>Earlier, when we calculated the next business day from August 29, 2014, we were told by\n",
    "pandas that this date is September 1, 2014. This is actually not correct in the United\n",
    "States: September 1, 2014 is a US federal holiday and banks and exchanges are closed on\n",
    "this day. The reason for this is that pandas uses a specific default calendar when\n",
    "calculating the next business day, and this default pandas calendar does not include\n",
    "September 1, 2014 as a holiday.</p><p>\n",
    "The solution to this is to either create a custom calendar (which we will not get into the\n",
    "details of), or use the one custom calendar provided by pandas for just this situation,\n",
    "USFederalHolidayCalendar. This custom calendar can then be passed to a\n",
    "CustomBusinessDay object that will be used instead of a BusinessDay object. This\n",
    "calculation using this CustomBusinessDay object will then use the new calendar and take\n",
    "into account the US federal holidays.</p><p>\n",
    "The following demonstrates the creation of a USFederalCalendar object and how to use it\n",
    "to report the days that it considers holidays:</p>"
   ]
  },
  {
   "cell_type": "code",
   "execution_count": 56,
   "metadata": {},
   "outputs": [
    {
     "name": "stdout",
     "output_type": "stream",
     "text": [
      "2014-01-01 00:00:00\n",
      "2014-01-20 00:00:00\n",
      "2014-02-17 00:00:00\n",
      "2014-05-26 00:00:00\n",
      "2014-07-04 00:00:00\n",
      "2014-09-01 00:00:00\n",
      "2014-10-13 00:00:00\n",
      "2014-11-11 00:00:00\n",
      "2014-11-27 00:00:00\n",
      "2014-12-25 00:00:00\n"
     ]
    }
   ],
   "source": [
    "# demonstrate using the US federal holiday calendar\n",
    "# first need to import it\n",
    "from pandas.tseries.holiday import *\n",
    "# create it and show what it considers holidays\n",
    "cal = USFederalHolidayCalendar()\n",
    "for d in cal.holidays(start='2014-01-01', end='2014-12-31'):\n",
    "    print (d)"
   ]
  },
  {
   "cell_type": "markdown",
   "metadata": {},
   "source": [
    "We can now use this calendar object to calculate the next business day from August 29,\n",
    "2014:"
   ]
  },
  {
   "cell_type": "code",
   "execution_count": 57,
   "metadata": {},
   "outputs": [
    {
     "data": {
      "text/plain": [
       "Timestamp('2014-09-02 00:00:00')"
      ]
     },
     "execution_count": 57,
     "metadata": {},
     "output_type": "execute_result"
    }
   ],
   "source": [
    "# create CustomBusinessDay object based on the federal calendar\n",
    "cbd = CustomBusinessDay(holidays=cal.holidays())\n",
    "\n",
    "# now calc next business day from 2014-8-29\n",
    "datetime(2014, 8, 29) + cbd"
   ]
  },
  {
   "cell_type": "markdown",
   "metadata": {},
   "source": [
    "Note that instead of using a BusinessDay object, we used an instance of\n",
    "CustomBusinessDay and specified the holidays using USFederalHolidayCalendar. The\n",
    "resulting calculation now takes into account Labor Day not being a business day and\n",
    "returns the correct date of 2014-09-02."
   ]
  },
  {
   "cell_type": "markdown",
   "metadata": {},
   "source": [
    "<h3>Normalizing timestamps using time zones</h3>"
   ]
  },
  {
   "cell_type": "markdown",
   "metadata": {},
   "source": [
    "<p>Time zone management can be one of the most complicated issues to deal with when\n",
    "working with time-series data. Data is often collected in different systems across the globe\n",
    "using local time, and at some point, it will require coordination with data collected in other\n",
    "time zones.</p><p>\n",
    "Fortunately, pandas provides rich support for working with timestamps in different time\n",
    "zones. Under the covers, pandas utilizes the pytz and dateutil libraries to manage the\n",
    "time zone operations. The dateutil support is new as of pandas 0.14.1 and currently only\n",
    "supported for fixed offset and tzfile zones. The default library used by pandas is pytz,\n",
    "with support for dateutil provided for compatibility with other applications.</p><p>\n",
    "pandas objects that are time zone-aware support a .tz property. By default, pandas objects\n",
    "that are time zone-aware do not utilize a timezone object for purposes of efficiency. The\n",
    "following gets the current time and demonstrates that there is no time zone information by\n",
    "default:</p>"
   ]
  },
  {
   "cell_type": "code",
   "execution_count": 58,
   "metadata": {},
   "outputs": [
    {
     "data": {
      "text/plain": [
       "(Timestamp('2020-08-08 13:07:07.310645'), True)"
      ]
     },
     "execution_count": 58,
     "metadata": {},
     "output_type": "execute_result"
    }
   ],
   "source": [
    "# get the current local time and demonstrate there is no\n",
    "# timezone info by default\n",
    "now = pd.Timestamp('now')\n",
    "\n",
    "now, now.tz is None"
   ]
  },
  {
   "cell_type": "markdown",
   "metadata": {},
   "source": [
    "<p>This demonstrates that pandas treats Timestamp(\"now\") as UTC by default but without\n",
    "time zone data. This is a good default, but be aware of this. In general, I find that if you\n",
    "are ever collecting data based on the time that will be stored for later access, or collected\n",
    "from multiple data sources, it is best to always localize to UTC.</p><p>\n",
    "Likewise, DatetimeIndex and its Timestamp objects will not have associated time zone\n",
    "information by default:</p>"
   ]
  },
  {
   "cell_type": "code",
   "execution_count": 59,
   "metadata": {},
   "outputs": [
    {
     "data": {
      "text/plain": [
       "(True, True)"
      ]
     },
     "execution_count": 59,
     "metadata": {},
     "output_type": "execute_result"
    }
   ],
   "source": [
    "# default DatetimeIndex and its Timestamps do not have\n",
    "# time zone information\n",
    "rng = pd.date_range('3/6/2012 00:00', periods=15, freq='D')\n",
    "rng.tz is None, rng[0].tz is None"
   ]
  },
  {
   "cell_type": "markdown",
   "metadata": {},
   "source": [
    "A list of common time zone names can be retrieved as shown in the following example. If\n",
    "you do a lot with time zone data, these will become very familiar:"
   ]
  },
  {
   "cell_type": "code",
   "execution_count": 60,
   "metadata": {},
   "outputs": [
    {
     "data": {
      "text/plain": [
       "['Africa/Abidjan',\n",
       " 'Africa/Accra',\n",
       " 'Africa/Addis_Ababa',\n",
       " 'Africa/Algiers',\n",
       " 'Africa/Asmara']"
      ]
     },
     "execution_count": 60,
     "metadata": {},
     "output_type": "execute_result"
    }
   ],
   "source": [
    "# import common timezones from pytz\n",
    "from pytz import common_timezones\n",
    "\n",
    "# report the first 5\n",
    "common_timezones[:5]"
   ]
  },
  {
   "cell_type": "markdown",
   "metadata": {},
   "source": [
    "The local UTC time can be found using the following, which utilizes the .tz_localize()\n",
    "method of Timestamp passing the 'UTC' method:"
   ]
  },
  {
   "cell_type": "code",
   "execution_count": 61,
   "metadata": {},
   "outputs": [
    {
     "data": {
      "text/plain": [
       "(Timestamp('2020-08-08 13:07:07.394642'),\n",
       " Timestamp('2020-08-08 13:07:07.394642+0000', tz='UTC'))"
      ]
     },
     "execution_count": 61,
     "metadata": {},
     "output_type": "execute_result"
    }
   ],
   "source": [
    "# get now, and now localized to UTC\n",
    "now = Timestamp(\"now\")\n",
    "local_now = now.tz_localize('UTC')\n",
    "now, local_now"
   ]
  },
  {
   "cell_type": "markdown",
   "metadata": {},
   "source": [
    "Any Timestamp can be localized to a specific time zone by passing the time zone name to\n",
    ".tz_localize():\n"
   ]
  },
  {
   "cell_type": "code",
   "execution_count": 62,
   "metadata": {},
   "outputs": [
    {
     "data": {
      "text/plain": [
       "Timestamp('2014-08-01 12:00:00-0600', tz='US/Mountain')"
      ]
     },
     "execution_count": 62,
     "metadata": {},
     "output_type": "execute_result"
    }
   ],
   "source": [
    "# localize a timestamp to US/Mountain time zone\n",
    "tstamp = Timestamp('2014-08-01 12:00:00', tz='US/Mountain')\n",
    "tstamp"
   ]
  },
  {
   "cell_type": "markdown",
   "metadata": {},
   "source": [
    "DatetimeIndex can be created with a specific time zone using the tz parameter of the\n",
    "pd.date_range() method:"
   ]
  },
  {
   "cell_type": "code",
   "execution_count": 63,
   "metadata": {},
   "outputs": [
    {
     "data": {
      "text/plain": [
       "(<DstTzInfo 'US/Mountain' LMT-1 day, 17:00:00 STD>,\n",
       " <DstTzInfo 'US/Mountain' MST-1 day, 17:00:00 STD>)"
      ]
     },
     "execution_count": 63,
     "metadata": {},
     "output_type": "execute_result"
    }
   ],
   "source": [
    "# create a DatetimeIndex using a time zone\n",
    "rng = pd.date_range('3/6/2012 00:00:00', periods=10, freq='D', tz='US/Mountain')\n",
    "rng.tz, rng[0].tz"
   ]
  },
  {
   "cell_type": "code",
   "execution_count": 64,
   "metadata": {},
   "outputs": [
    {
     "data": {
      "text/plain": [
       "(<DstTzInfo 'US/Mountain' LMT-1 day, 17:00:00 STD>,\n",
       " <DstTzInfo 'US/Mountain' MST-1 day, 17:00:00 STD>)"
      ]
     },
     "execution_count": 64,
     "metadata": {},
     "output_type": "execute_result"
    }
   ],
   "source": [
    "# create a DatetimeIndex using a time zone\n",
    "rng = pd.date_range('3/6/2012 00:00:00', periods=10, freq='D', tz='US/Mountain')\n",
    "rng.tz, rng[0].tz"
   ]
  },
  {
   "cell_type": "markdown",
   "metadata": {},
   "source": [
    "It is also possible to construct other time zones explicitly. This model can give you more\n",
    "control over which time zone is used in .tz_localize(). The following creates two\n",
    "different timezone objects and localizes a Timestamp to each:\n"
   ]
  },
  {
   "cell_type": "code",
   "execution_count": 65,
   "metadata": {},
   "outputs": [
    {
     "data": {
      "text/plain": [
       "(Timestamp('2020-08-08 13:07:07.394642'),\n",
       " Timestamp('2020-08-08 13:07:07.394642-0600', tz='US/Mountain'),\n",
       " Timestamp('2020-08-08 13:07:07.394642-0400', tz='US/Eastern'))"
      ]
     },
     "execution_count": 65,
     "metadata": {},
     "output_type": "execute_result"
    }
   ],
   "source": [
    "# show use of time zone objects\n",
    "# need to reference pytz\n",
    "import pytz\n",
    "# create an object for two different time zones\n",
    "mountain_tz = pytz.timezone(\"US/Mountain\")\n",
    "eastern_tz = pytz.timezone(\"US/Eastern\")\n",
    "# apply each to 'now'\n",
    "now, mountain_tz.localize(now), eastern_tz.localize(now)\n"
   ]
  },
  {
   "cell_type": "markdown",
   "metadata": {},
   "source": [
    "Operations on multiple time-series objects will be aligned by Timestamp in their index by\n",
    "taking into account the time zone information. To demonstrate, we will use the following,\n",
    "which creates two Series objects using the two DatetimeIndex objects, each with the\n",
    "same start, periods, and frequency but using different time zones:"
   ]
  },
  {
   "cell_type": "code",
   "execution_count": 66,
   "metadata": {},
   "outputs": [
    {
     "data": {
      "text/plain": [
       "(2014-08-01 00:00:00-06:00    0\n",
       " 2014-08-01 01:00:00-06:00    1\n",
       " 2014-08-01 02:00:00-06:00    2\n",
       " 2014-08-01 03:00:00-06:00    3\n",
       " 2014-08-01 04:00:00-06:00    4\n",
       " Freq: H, dtype: int64,\n",
       " 2014-08-01 00:00:00-04:00    0\n",
       " 2014-08-01 01:00:00-04:00    1\n",
       " 2014-08-01 02:00:00-04:00    2\n",
       " 2014-08-01 03:00:00-04:00    3\n",
       " 2014-08-01 04:00:00-04:00    4\n",
       " Freq: H, dtype: int64)"
      ]
     },
     "execution_count": 66,
     "metadata": {},
     "output_type": "execute_result"
    }
   ],
   "source": [
    "# create two Series, same start, same periods, same frequencies,\n",
    "# each with a different time zone\n",
    "s_mountain = Series(np.arange(0, 5), index=pd.date_range('2014-08-01', periods=5, freq=\"H\", tz='US/Mountain'))\n",
    "s_eastern = Series(np.arange(0, 5), index=pd.date_range('2014-08-01', periods=5, freq=\"H\", tz='US/Eastern'))\n",
    "\n",
    "s_mountain, s_eastern"
   ]
  },
  {
   "cell_type": "markdown",
   "metadata": {},
   "source": [
    "The following demonstrates the alignment of these two Series objects by time zone by\n",
    "adding the two together:"
   ]
  },
  {
   "cell_type": "code",
   "execution_count": 67,
   "metadata": {},
   "outputs": [
    {
     "data": {
      "text/plain": [
       "2014-08-01 04:00:00+00:00    NaN\n",
       "2014-08-01 05:00:00+00:00    NaN\n",
       "2014-08-01 06:00:00+00:00    2.0\n",
       "2014-08-01 07:00:00+00:00    4.0\n",
       "2014-08-01 08:00:00+00:00    6.0\n",
       "2014-08-01 09:00:00+00:00    NaN\n",
       "2014-08-01 10:00:00+00:00    NaN\n",
       "Freq: H, dtype: float64"
      ]
     },
     "execution_count": 67,
     "metadata": {},
     "output_type": "execute_result"
    }
   ],
   "source": [
    "# add the two Series\n",
    "# This only results in three items being aligned\n",
    "s_eastern + s_mountain"
   ]
  },
  {
   "cell_type": "markdown",
   "metadata": {},
   "source": [
    "Once a time zone is assigned to an object, that object can be converted to another time\n",
    "zone using the tz.convert() method:"
   ]
  },
  {
   "cell_type": "code",
   "execution_count": 68,
   "metadata": {},
   "outputs": [
    {
     "data": {
      "text/plain": [
       "2014-07-31 21:00:00-07:00    0\n",
       "2014-07-31 22:00:00-07:00    1\n",
       "2014-07-31 23:00:00-07:00    2\n",
       "2014-08-01 00:00:00-07:00    3\n",
       "2014-08-01 01:00:00-07:00    4\n",
       "Freq: H, dtype: int64"
      ]
     },
     "execution_count": 68,
     "metadata": {},
     "output_type": "execute_result"
    }
   ],
   "source": [
    "# convert s1 from US/Eastern to US/Pacific\n",
    "s_pacific = s_eastern.tz_convert(\"US/Pacific\")\n",
    "s_pacific"
   ]
  },
  {
   "cell_type": "markdown",
   "metadata": {},
   "source": [
    "Now if we add s_pacific to s_mountain, the alignment will force the same result:"
   ]
  },
  {
   "cell_type": "code",
   "execution_count": 69,
   "metadata": {},
   "outputs": [
    {
     "data": {
      "text/plain": [
       "2014-08-01 04:00:00+00:00    NaN\n",
       "2014-08-01 05:00:00+00:00    NaN\n",
       "2014-08-01 06:00:00+00:00    2.0\n",
       "2014-08-01 07:00:00+00:00    4.0\n",
       "2014-08-01 08:00:00+00:00    6.0\n",
       "2014-08-01 09:00:00+00:00    NaN\n",
       "2014-08-01 10:00:00+00:00    NaN\n",
       "Freq: H, dtype: float64"
      ]
     },
     "execution_count": 69,
     "metadata": {},
     "output_type": "execute_result"
    }
   ],
   "source": [
    "# this will be the same result as s_eastern + s_mountain\n",
    "# as the time zones still get aligned to be the same\n",
    "s_mountain + s_pacific"
   ]
  },
  {
   "cell_type": "markdown",
   "metadata": {},
   "source": [
    "<h3>Manipulating time-series data</h3>"
   ]
  },
  {
   "cell_type": "markdown",
   "metadata": {},
   "source": [
    "<p>We will now examine several common operations that are performed on time-series data.\n",
    "These operations entail realigning data, changing the frequency of the samples and their\n",
    "values, and calculating aggregate results on continuously moving subsets of the data to\n",
    "determine the behavior of the values in the data as time changes. We will examine each of\n",
    "the following:</p>\n",
    "<ul>\n",
    "    <li>Shifting and lagging values to calculate percentage changes</li>\n",
    "<li>Changing the frequency of the data in the time series</li>\n",
    "<li>Up and down sampling of the intervals and values in the time series</li>\n",
    "<li>Performing rolling-window calculations</li>"
   ]
  },
  {
   "cell_type": "markdown",
   "metadata": {},
   "source": [
    "<h4>Shifting and lagging</h4>"
   ]
  },
  {
   "cell_type": "markdown",
   "metadata": {},
   "source": [
    "<p>A common operation on time-series data is to shift the values backward and forward in\n",
    "time. The pandas method for this is .shift(), which will shift values in Series or\n",
    "DataFrame a specified number of units of the index’s frequency.</p><p>\n",
    "To demonstrate shifting, we will use the following Series. This Series has five values, is\n",
    "indexed by date starting at 2014-08-01, and uses a daily frequency:</p>"
   ]
  },
  {
   "cell_type": "code",
   "execution_count": 70,
   "metadata": {},
   "outputs": [
    {
     "data": {
      "text/plain": [
       "2014-08-01    1.0\n",
       "2014-08-02    2.0\n",
       "2014-08-03    2.5\n",
       "2014-08-04    1.5\n",
       "2014-08-05    0.5\n",
       "Freq: D, dtype: float64"
      ]
     },
     "execution_count": 70,
     "metadata": {},
     "output_type": "execute_result"
    }
   ],
   "source": [
    "# create a Series to work with\n",
    "np.random.seed(123456)\n",
    "ts = Series([1, 2, 2.5, 1.5, 0.5], pd.date_range('2014-08-01', periods=5))\n",
    "ts"
   ]
  },
  {
   "cell_type": "markdown",
   "metadata": {},
   "source": [
    "The following shifts the values forward by 1 day:"
   ]
  },
  {
   "cell_type": "code",
   "execution_count": 71,
   "metadata": {},
   "outputs": [
    {
     "data": {
      "text/plain": [
       "2014-08-01    NaN\n",
       "2014-08-02    1.0\n",
       "2014-08-03    2.0\n",
       "2014-08-04    2.5\n",
       "2014-08-05    1.5\n",
       "Freq: D, dtype: float64"
      ]
     },
     "execution_count": 71,
     "metadata": {},
     "output_type": "execute_result"
    }
   ],
   "source": [
    "# shift forward one day\n",
    "ts.shift(1)"
   ]
  },
  {
   "cell_type": "markdown",
   "metadata": {},
   "source": [
    "<p>pandas has moved the values forward one unit of the index’s frequency, which is one day.\n",
    "The index remains unchanged. There was no replacement data for 2014-08-01, so it is\n",
    "filled with NaN.</p><p>\n",
    "A lag is a shift in a negative direction. The following lags the Series by 2 days:</p>"
   ]
  },
  {
   "cell_type": "code",
   "execution_count": 72,
   "metadata": {},
   "outputs": [
    {
     "data": {
      "text/plain": [
       "2014-08-01    2.5\n",
       "2014-08-02    1.5\n",
       "2014-08-03    0.5\n",
       "2014-08-04    NaN\n",
       "2014-08-05    NaN\n",
       "Freq: D, dtype: float64"
      ]
     },
     "execution_count": 72,
     "metadata": {},
     "output_type": "execute_result"
    }
   ],
   "source": [
    "# lag two days\n",
    "ts.shift(-2)"
   ]
  },
  {
   "cell_type": "markdown",
   "metadata": {},
   "source": [
    "<p>Index labels 2014-08-04 and 2014-08-03 now have NaN values as there were no items to\n",
    "replace.</p><p>\n",
    "A common calculation that is performed using a shift is to calculate the percentage daily\n",
    "change in values. This can be performed by dividing a Series object by its values shifted\n",
    "by 1:</p>"
   ]
  },
  {
   "cell_type": "code",
   "execution_count": 73,
   "metadata": {},
   "outputs": [
    {
     "data": {
      "text/plain": [
       "2014-08-01           NaN\n",
       "2014-08-02    200.000000\n",
       "2014-08-03    125.000000\n",
       "2014-08-04     60.000000\n",
       "2014-08-05     33.333333\n",
       "Freq: D, dtype: float64"
      ]
     },
     "execution_count": 73,
     "metadata": {},
     "output_type": "execute_result"
    }
   ],
   "source": [
    "# calculate daily percentage change\n",
    "ts / ts.shift(1)*100"
   ]
  },
  {
   "cell_type": "code",
   "execution_count": 74,
   "metadata": {},
   "outputs": [
    {
     "data": {
      "text/plain": [
       "2014-08-01    1.0\n",
       "2014-08-02    2.0\n",
       "2014-08-03    2.5\n",
       "2014-08-04    1.5\n",
       "2014-08-05    0.5\n",
       "Freq: D, dtype: float64"
      ]
     },
     "execution_count": 74,
     "metadata": {},
     "output_type": "execute_result"
    }
   ],
   "source": [
    "ts"
   ]
  },
  {
   "cell_type": "code",
   "execution_count": 75,
   "metadata": {},
   "outputs": [
    {
     "data": {
      "text/plain": [
       "2014-08-01    NaN\n",
       "2014-08-02    1.0\n",
       "2014-08-03    2.0\n",
       "2014-08-04    2.5\n",
       "2014-08-05    1.5\n",
       "Freq: D, dtype: float64"
      ]
     },
     "execution_count": 75,
     "metadata": {},
     "output_type": "execute_result"
    }
   ],
   "source": [
    "ts.shift(1)"
   ]
  },
  {
   "cell_type": "markdown",
   "metadata": {},
   "source": [
    "Shifts can be performed on different frequencies than that in the index. When this is\n",
    "performed, the index will be modified and the values remain the same. As an example, the\n",
    "following shifts the Series forward by one business day:"
   ]
  },
  {
   "cell_type": "code",
   "execution_count": 76,
   "metadata": {},
   "outputs": [
    {
     "data": {
      "text/plain": [
       "2014-08-01    1.0\n",
       "2014-08-02    2.0\n",
       "2014-08-03    2.5\n",
       "2014-08-04    1.5\n",
       "2014-08-05    0.5\n",
       "Freq: D, dtype: float64"
      ]
     },
     "execution_count": 76,
     "metadata": {},
     "output_type": "execute_result"
    }
   ],
   "source": [
    "ts"
   ]
  },
  {
   "cell_type": "code",
   "execution_count": 77,
   "metadata": {},
   "outputs": [
    {
     "data": {
      "text/plain": [
       "2014-08-04    1.0\n",
       "2014-08-04    2.0\n",
       "2014-08-04    2.5\n",
       "2014-08-05    1.5\n",
       "2014-08-06    0.5\n",
       "dtype: float64"
      ]
     },
     "execution_count": 77,
     "metadata": {},
     "output_type": "execute_result"
    }
   ],
   "source": [
    "# shift forward one business day\n",
    "ts.shift(1, freq=\"B\")"
   ]
  },
  {
   "cell_type": "markdown",
   "metadata": {},
   "source": [
    "As another example, the following shifts forward by 5 hours:"
   ]
  },
  {
   "cell_type": "code",
   "execution_count": 78,
   "metadata": {},
   "outputs": [
    {
     "data": {
      "text/plain": [
       "2014-08-01    1.0\n",
       "2014-08-02    2.0\n",
       "2014-08-03    2.5\n",
       "2014-08-04    1.5\n",
       "2014-08-05    0.5\n",
       "Freq: D, dtype: float64"
      ]
     },
     "execution_count": 78,
     "metadata": {},
     "output_type": "execute_result"
    }
   ],
   "source": [
    "ts"
   ]
  },
  {
   "cell_type": "code",
   "execution_count": 79,
   "metadata": {},
   "outputs": [
    {
     "data": {
      "text/plain": [
       "2014-08-01 05:00:00    1.0\n",
       "2014-08-02 05:00:00    2.0\n",
       "2014-08-03 05:00:00    2.5\n",
       "2014-08-04 05:00:00    1.5\n",
       "2014-08-05 05:00:00    0.5\n",
       "Freq: D, dtype: float64"
      ]
     },
     "execution_count": 79,
     "metadata": {},
     "output_type": "execute_result"
    }
   ],
   "source": [
    "# shift forward five hours\n",
    "ts.tshift(5, freq=\"H\")"
   ]
  },
  {
   "cell_type": "markdown",
   "metadata": {},
   "source": [
    "A time series can also be shifted using DateOffset. The following code shifts the time\n",
    "series forward by 0.5 minutes:"
   ]
  },
  {
   "cell_type": "code",
   "execution_count": 80,
   "metadata": {},
   "outputs": [
    {
     "data": {
      "text/plain": [
       "2014-08-01 00:00:30    1.0\n",
       "2014-08-02 00:00:30    2.0\n",
       "2014-08-03 00:00:30    2.5\n",
       "2014-08-04 00:00:30    1.5\n",
       "2014-08-05 00:00:30    0.5\n",
       "Freq: D, dtype: float64"
      ]
     },
     "execution_count": 80,
     "metadata": {},
     "output_type": "execute_result"
    }
   ],
   "source": [
    "# shift using a DateOffset\n",
    "ts.shift(1, DateOffset(minutes=0.5))"
   ]
  },
  {
   "cell_type": "markdown",
   "metadata": {},
   "source": [
    "There is an alternative form of shifting provided by the .tshift() method. This method\n",
    "shifts the index labels by the specified units and a frequency specified by the freq\n",
    "parameter (which is required). The following code demonstrates this approach by\n",
    "adjusting the index by -1 hour:"
   ]
  },
  {
   "cell_type": "code",
   "execution_count": 81,
   "metadata": {},
   "outputs": [
    {
     "data": {
      "text/plain": [
       "2014-07-31 23:00:00    1.0\n",
       "2014-08-01 23:00:00    2.0\n",
       "2014-08-02 23:00:00    2.5\n",
       "2014-08-03 23:00:00    1.5\n",
       "2014-08-04 23:00:00    0.5\n",
       "Freq: D, dtype: float64"
      ]
     },
     "execution_count": 81,
     "metadata": {},
     "output_type": "execute_result"
    }
   ],
   "source": [
    "# shift just the index values\n",
    "ts.tshift(-1, freq='H')"
   ]
  },
  {
   "cell_type": "markdown",
   "metadata": {},
   "source": [
    "<h3>Frequency conversion</h3>"
   ]
  },
  {
   "cell_type": "markdown",
   "metadata": {},
   "source": [
    "<p>Frequency data can be converted in pandas using the .asfreq() method of a time-series\n",
    "object, such as Series or DataFrame. When converting frequency, a new Series object\n",
    "with a new DatatimeIndex object will be created. The DatetimeIndex of the new Series\n",
    "object starts at the first Timestamp of the original and progresses at the given frequency\n",
    "until the last Timestamp of the original. Values will then be aligned into the new Series.</p><p>\n",
    "To demonstrate, we will use the following time series of consecutive incremental integers\n",
    "mapped into each hour of each day for August 2014:</p>"
   ]
  },
  {
   "cell_type": "code",
   "execution_count": 82,
   "metadata": {},
   "outputs": [
    {
     "data": {
      "text/plain": [
       "2014-08-01 00:00:00      0\n",
       "2014-08-01 02:00:00      1\n",
       "2014-08-01 04:00:00      2\n",
       "2014-08-01 06:00:00      3\n",
       "2014-08-01 08:00:00      4\n",
       "                      ... \n",
       "2014-10-01 14:00:00    739\n",
       "2014-10-01 16:00:00    740\n",
       "2014-10-01 18:00:00    741\n",
       "2014-10-01 20:00:00    742\n",
       "2014-10-01 22:00:00    743\n",
       "Freq: 2H, Length: 744, dtype: int64"
      ]
     },
     "execution_count": 82,
     "metadata": {},
     "output_type": "execute_result"
    }
   ],
   "source": [
    "# create a Series of incremental values\n",
    "# index by hour through all of August 2014\n",
    "periods = 31 * 24\n",
    "hourly = Series(np.arange(0, periods), pd.date_range('08-01-2014', freq=\"2H\", periods = periods))\n",
    "hourly"
   ]
  },
  {
   "cell_type": "markdown",
   "metadata": {},
   "source": [
    "As an example, the following converts this time series to a daily frequency using\n",
    ".asfreq('D'):"
   ]
  },
  {
   "cell_type": "code",
   "execution_count": 83,
   "metadata": {},
   "outputs": [
    {
     "data": {
      "text/plain": [
       "2014-08-01      0\n",
       "2014-08-02     12\n",
       "2014-08-03     24\n",
       "2014-08-04     36\n",
       "2014-08-05     48\n",
       "             ... \n",
       "2014-09-27    684\n",
       "2014-09-28    696\n",
       "2014-09-29    708\n",
       "2014-09-30    720\n",
       "2014-10-01    732\n",
       "Freq: D, Length: 62, dtype: int64"
      ]
     },
     "execution_count": 83,
     "metadata": {},
     "output_type": "execute_result"
    }
   ],
   "source": [
    "# convert to daily frequency\n",
    "# many items will be dropped due to alignment\n",
    "daily = hourly.asfreq('D')\n",
    "daily"
   ]
  },
  {
   "cell_type": "markdown",
   "metadata": {},
   "source": [
    "<p>As data was aligned to the new daily time series from the hourly time series, only values\n",
    "matching the exact days were copied.</p><p>\n",
    "If we convert this result back to an hourly frequency, we will see that many of the values\n",
    "are NaN:</p>"
   ]
  },
  {
   "cell_type": "code",
   "execution_count": 84,
   "metadata": {},
   "outputs": [
    {
     "data": {
      "text/plain": [
       "2014-08-01 00:00:00      0.0\n",
       "2014-08-01 01:00:00      NaN\n",
       "2014-08-01 02:00:00      NaN\n",
       "2014-08-01 03:00:00      NaN\n",
       "2014-08-01 04:00:00      NaN\n",
       "                       ...  \n",
       "2014-09-30 20:00:00      NaN\n",
       "2014-09-30 21:00:00      NaN\n",
       "2014-09-30 22:00:00      NaN\n",
       "2014-09-30 23:00:00      NaN\n",
       "2014-10-01 00:00:00    732.0\n",
       "Freq: H, Length: 1465, dtype: float64"
      ]
     },
     "execution_count": 84,
     "metadata": {},
     "output_type": "execute_result"
    }
   ],
   "source": [
    "# convert back to hourly. Results in many NaNs\n",
    "# as the new index has many labels that do not\n",
    "# align with the source\n",
    "daily.asfreq('H')"
   ]
  },
  {
   "cell_type": "markdown",
   "metadata": {},
   "source": [
    "The new index has Timestamp objects at hourly intervals, so only the timestamps at exact\n",
    "days align with the daily time series, resulting in 670 NaN values.\n",
    "This default behavior can be changed using the method parameter of the .asfreq()\n",
    "method. This value can be used for forward fill, reverse fill, or to pad the NaN values.\n",
    "The ffill method will forward fill the last known value (pad also does the same):"
   ]
  },
  {
   "cell_type": "code",
   "execution_count": 85,
   "metadata": {},
   "outputs": [
    {
     "data": {
      "text/plain": [
       "2014-08-01 00:00:00      0\n",
       "2014-08-01 01:00:00      0\n",
       "2014-08-01 02:00:00      0\n",
       "2014-08-01 03:00:00      0\n",
       "2014-08-01 04:00:00      0\n",
       "                      ... \n",
       "2014-09-30 20:00:00    720\n",
       "2014-09-30 21:00:00    720\n",
       "2014-09-30 22:00:00    720\n",
       "2014-09-30 23:00:00    720\n",
       "2014-10-01 00:00:00    732\n",
       "Freq: H, Length: 1465, dtype: int64"
      ]
     },
     "execution_count": 85,
     "metadata": {},
     "output_type": "execute_result"
    }
   ],
   "source": [
    "# forward fill values\n",
    "daily.asfreq('H', method='ffill')"
   ]
  },
  {
   "cell_type": "markdown",
   "metadata": {},
   "source": [
    "The bfill method will back fill values from the next known value:"
   ]
  },
  {
   "cell_type": "code",
   "execution_count": 86,
   "metadata": {},
   "outputs": [
    {
     "data": {
      "text/plain": [
       "2014-08-01 00:00:00      0\n",
       "2014-08-01 01:00:00     12\n",
       "2014-08-01 02:00:00     12\n",
       "2014-08-01 03:00:00     12\n",
       "2014-08-01 04:00:00     12\n",
       "                      ... \n",
       "2014-09-30 20:00:00    732\n",
       "2014-09-30 21:00:00    732\n",
       "2014-09-30 22:00:00    732\n",
       "2014-09-30 23:00:00    732\n",
       "2014-10-01 00:00:00    732\n",
       "Freq: H, Length: 1465, dtype: int64"
      ]
     },
     "execution_count": 86,
     "metadata": {},
     "output_type": "execute_result"
    }
   ],
   "source": [
    "daily.asfreq('H', method='bfill')"
   ]
  },
  {
   "cell_type": "markdown",
   "metadata": {},
   "source": [
    "<h3>Up and down resampling</h3>"
   ]
  },
  {
   "cell_type": "markdown",
   "metadata": {},
   "source": [
    "<p>Frequency conversion provides a basic way to convert the index in a time series to another\n",
    "frequency. Data in the new time series is aligned with the old data and can result in many\n",
    "NaN values. This can be partially solved using a fill method, but that is limited in its\n",
    "capabilities to fill with appropriate information.</p><p>\n",
    "Resampling differs in that it does not perform a pure alignment. The values placed in the\n",
    "new series can use the same forward and reverse fill options, but they can also be specified\n",
    "using other pandas-provided algorithms or with your own functions.</p><p>\n",
    "To demonstrate resampling, we will use the following time series, which represents a\n",
    "random walk of values over a 5-day period:</p>"
   ]
  },
  {
   "cell_type": "code",
   "execution_count": 87,
   "metadata": {},
   "outputs": [],
   "source": [
    "# calculate a random walk five days long at one second intervals\n",
    "# these many items will be needed\n",
    "count = 24 * 60 * 60 * 5\n",
    "\n",
    "# create a series of values\n",
    "np.random.seed(123456)\n",
    "values = np.random.randn(count)\n",
    "ws = pd.Series(values)"
   ]
  },
  {
   "cell_type": "code",
   "execution_count": 88,
   "metadata": {},
   "outputs": [
    {
     "data": {
      "text/plain": [
       "0           0.469112\n",
       "1           0.186249\n",
       "2          -1.322810\n",
       "3          -2.458442\n",
       "4          -1.246330\n",
       "             ...    \n",
       "431995    456.529763\n",
       "431996    456.052131\n",
       "431997    455.202981\n",
       "431998    454.947362\n",
       "431999    456.191430\n",
       "Length: 432000, dtype: float64"
      ]
     },
     "execution_count": 88,
     "metadata": {},
     "output_type": "execute_result"
    }
   ],
   "source": [
    "###### calculate the walk\n",
    "walk = ws.cumsum()\n",
    "walk"
   ]
  },
  {
   "cell_type": "code",
   "execution_count": 89,
   "metadata": {},
   "outputs": [
    {
     "data": {
      "text/plain": [
       "2014-08-01 00:00:00      0.469112\n",
       "2014-08-01 00:00:01      0.186249\n",
       "2014-08-01 00:00:02     -1.322810\n",
       "2014-08-01 00:00:03     -2.458442\n",
       "2014-08-01 00:00:04     -1.246330\n",
       "                          ...    \n",
       "2014-08-05 23:59:55    456.529763\n",
       "2014-08-05 23:59:56    456.052131\n",
       "2014-08-05 23:59:57    455.202981\n",
       "2014-08-05 23:59:58    454.947362\n",
       "2014-08-05 23:59:59    456.191430\n",
       "Freq: S, Length: 432000, dtype: float64"
      ]
     },
     "execution_count": 89,
     "metadata": {},
     "output_type": "execute_result"
    }
   ],
   "source": [
    "# patch the index\n",
    "walk.index = pd.date_range('2014-08-01', periods=count, freq=\"S\")\n",
    "walk"
   ]
  },
  {
   "cell_type": "markdown",
   "metadata": {},
   "source": [
    "Resampling in pandas is accomplished using the .resample() method, by passing it a new\n",
    "frequency. To demonstrate this the following resamples our by-the-second data to by-theminute.\n",
    "This is a downsampling as the result has a lower frequency and results in less\n",
    "values:"
   ]
  },
  {
   "cell_type": "code",
   "execution_count": 90,
   "metadata": {},
   "outputs": [
    {
     "data": {
      "text/plain": [
       "2014-08-01 00:00:00     -8.718220\n",
       "2014-08-01 00:01:00    -15.239213\n",
       "2014-08-01 00:02:00     -9.179315\n",
       "2014-08-01 00:03:00     -8.338307\n",
       "2014-08-01 00:04:00     -8.129554\n",
       "                          ...    \n",
       "2014-08-05 23:55:00    453.773467\n",
       "2014-08-05 23:56:00    450.857039\n",
       "2014-08-05 23:57:00    450.078149\n",
       "2014-08-05 23:58:00    444.637806\n",
       "2014-08-05 23:59:00    453.837417\n",
       "Freq: T, Length: 7200, dtype: float64"
      ]
     },
     "execution_count": 90,
     "metadata": {},
     "output_type": "execute_result"
    }
   ],
   "source": [
    "# resample to minute intervals\n",
    "walk.resample(\"1Min\").mean()"
   ]
  },
  {
   "cell_type": "markdown",
   "metadata": {},
   "source": [
    "Notice that the first value is -8.718220 whereas the original data had a value of 0.469112.\n",
    "A frequency conversion would have left this value at -8.718220. This is because a\n",
    "resampling does not copy data through alignment. A resampling will actually split the data\n",
    "into buckets of data based on new periods and then apply a particular operation to the data\n",
    "in each bucket. The default scenario is to calculate the mean of each bucket. This can be\n",
    "verified with the following, which slices the first minute of data from the walk and\n",
    "calculates its mean:"
   ]
  },
  {
   "cell_type": "code",
   "execution_count": 91,
   "metadata": {},
   "outputs": [
    {
     "data": {
      "text/plain": [
       "-8.718220052832644"
      ]
     },
     "execution_count": 91,
     "metadata": {},
     "output_type": "execute_result"
    }
   ],
   "source": [
    "# calculate the mean of the first minute of the walk\n",
    "walk['2014-08-01 00:00'].mean()"
   ]
  },
  {
   "cell_type": "markdown",
   "metadata": {},
   "source": [
    "<p>In downsampling, as the existing data is put into buckets based on the new intervals, there\n",
    "can often be a question of what values are on each end of the bucket. As an example,\n",
    "should the first interval in the previous resampling be from 2014-08-01 00:00:00 through\n",
    "2014-08-01 23:59:59, or should it end at 2014-08-04 00:00:00 but start at 2014-08-03\n",
    "23:59:59?</p><p>\n",
    "The default is the former, and it is referred to as a left close. To other scenario that\n",
    "excludes the left value and includes the right is a right close and can be performed by\n",
    "using the close='right' parameter. The following demonstrates this; notice the slight\n",
    "difference in the intervals and values:</p>"
   ]
  },
  {
   "cell_type": "code",
   "execution_count": 92,
   "metadata": {},
   "outputs": [
    {
     "data": {
      "text/plain": [
       "2014-07-31 23:59:00      0.469112\n",
       "2014-08-01 00:00:00     -8.907477\n",
       "2014-08-01 00:01:00    -15.280685\n",
       "2014-08-01 00:02:00     -9.083865\n",
       "2014-08-01 00:03:00     -8.285550\n",
       "                          ...    \n",
       "2014-08-05 23:55:00    453.726168\n",
       "2014-08-05 23:56:00    450.849039\n",
       "2014-08-05 23:57:00    450.039159\n",
       "2014-08-05 23:58:00    444.631719\n",
       "2014-08-05 23:59:00    453.955377\n",
       "Freq: T, Length: 7201, dtype: float64"
      ]
     },
     "execution_count": 92,
     "metadata": {},
     "output_type": "execute_result"
    }
   ],
   "source": [
    "# use a right close\n",
    "walk.resample(\"1Min\", closed='right').mean()"
   ]
  },
  {
   "cell_type": "markdown",
   "metadata": {},
   "source": [
    "<p>The decision about whether to use a right or leftclose is really up to you and your data\n",
    "modeling, but pandas gives you the option.</p><p>\n",
    "The specific method that is applied to each group of samples can be specified using the\n",
    "how parameter. As an example, the following takes the first value of each bucket:</p>"
   ]
  },
  {
   "cell_type": "code",
   "execution_count": 93,
   "metadata": {},
   "outputs": [
    {
     "data": {
      "text/plain": [
       "2014-08-01 00:00:00      0.469112\n",
       "2014-08-01 00:01:00    -10.886314\n",
       "2014-08-01 00:02:00    -13.374656\n",
       "2014-08-01 00:03:00     -7.647693\n",
       "2014-08-01 00:04:00     -4.482292\n",
       "                          ...    \n",
       "2014-08-05 23:55:00    452.900335\n",
       "2014-08-05 23:56:00    450.062374\n",
       "2014-08-05 23:57:00    449.582419\n",
       "2014-08-05 23:58:00    447.243014\n",
       "2014-08-05 23:59:00    446.877810\n",
       "Freq: T, Length: 7200, dtype: float64"
      ]
     },
     "execution_count": 93,
     "metadata": {},
     "output_type": "execute_result"
    }
   ],
   "source": [
    "# take the first value of each bucket\n",
    "walk.resample(\"1Min\").first()"
   ]
  },
  {
   "cell_type": "markdown",
   "metadata": {},
   "source": [
    "<p>The how parameter can be supplied the name of any NumPy array function that takes an\n",
    "array and produces aggregated values as well as any function you create on your own.</p><p>\n",
    "To demonstrate upsampling, we will resample the walk to minutes and then back to\n",
    "seconds:</p>"
   ]
  },
  {
   "cell_type": "code",
   "execution_count": 94,
   "metadata": {},
   "outputs": [
    {
     "data": {
      "text/plain": [
       "2014-08-01 00:00:00     -8.718220\n",
       "2014-08-01 00:00:01           NaN\n",
       "2014-08-01 00:00:02           NaN\n",
       "2014-08-01 00:00:03           NaN\n",
       "2014-08-01 00:00:04           NaN\n",
       "                          ...    \n",
       "2014-08-05 23:58:56           NaN\n",
       "2014-08-05 23:58:57           NaN\n",
       "2014-08-05 23:58:58           NaN\n",
       "2014-08-05 23:58:59           NaN\n",
       "2014-08-05 23:59:00    453.837417\n",
       "Freq: S, Length: 431941, dtype: float64"
      ]
     },
     "execution_count": 94,
     "metadata": {},
     "output_type": "execute_result"
    }
   ],
   "source": [
    "# resample to 1 minute intervals, then back to 1 sec\n",
    "bymin = walk.resample(\"1Min\").mean()\n",
    "bymin.resample('S').mean()"
   ]
  },
  {
   "cell_type": "markdown",
   "metadata": {},
   "source": [
    "The upsampling created the index values for the second-by-second data but inserted NaN\n",
    "values by default. This default behavior can be modified using the fill_method\n",
    "parameter. We saw this when changing frequency with the options of forward and\n",
    "backward filling. These are also available with resampling. The following demonstrates\n",
    "how to use the forward fill:"
   ]
  },
  {
   "cell_type": "code",
   "execution_count": 95,
   "metadata": {},
   "outputs": [
    {
     "data": {
      "text/plain": [
       "2014-08-01 00:00:00     -8.718220\n",
       "2014-08-01 00:00:01    -15.239213\n",
       "2014-08-01 00:00:02    -15.239213\n",
       "2014-08-01 00:00:03    -15.239213\n",
       "2014-08-01 00:00:04    -15.239213\n",
       "                          ...    \n",
       "2014-08-05 23:58:56    453.837417\n",
       "2014-08-05 23:58:57    453.837417\n",
       "2014-08-05 23:58:58    453.837417\n",
       "2014-08-05 23:58:59    453.837417\n",
       "2014-08-05 23:59:00    453.837417\n",
       "Freq: S, Length: 431941, dtype: float64"
      ]
     },
     "execution_count": 95,
     "metadata": {},
     "output_type": "execute_result"
    }
   ],
   "source": [
    "# resample to 1 second intervals using forward fill\n",
    "bymin.resample(\"S\").bfill()"
   ]
  },
  {
   "cell_type": "markdown",
   "metadata": {},
   "source": [
    "It is also possible to interpolate the missing values using the .interpolate() method on\n",
    "the result. This will calculate a linear interpolation between the values existing in the\n",
    "result for all of the NaN values created during the resampling:"
   ]
  },
  {
   "cell_type": "code",
   "execution_count": 96,
   "metadata": {},
   "outputs": [
    {
     "data": {
      "text/plain": [
       "2014-08-01 00:00:00     -8.718220\n",
       "2014-08-01 00:00:01     -8.826903\n",
       "2014-08-01 00:00:02     -8.935586\n",
       "2014-08-01 00:00:03     -9.044270\n",
       "2014-08-01 00:00:04     -9.152953\n",
       "                          ...    \n",
       "2014-08-05 23:58:56    453.224110\n",
       "2014-08-05 23:58:57    453.377437\n",
       "2014-08-05 23:58:58    453.530764\n",
       "2014-08-05 23:58:59    453.684090\n",
       "2014-08-05 23:59:00    453.837417\n",
       "Freq: S, Length: 431941, dtype: float64"
      ]
     },
     "execution_count": 96,
     "metadata": {},
     "output_type": "execute_result"
    }
   ],
   "source": [
    "# demonstrate interpolating the NaN values\n",
    "interpolated = bymin.resample(\"S\").interpolate()\n",
    "interpolated"
   ]
  },
  {
   "cell_type": "markdown",
   "metadata": {},
   "source": [
    "pandas provides a very convenient resampling method referred to as open, high, low, and\n",
    "close, which is specified by the 'ohlc' function. The following example takes our\n",
    "second-by-second data and calculates hour-by-hour ohlc values:"
   ]
  },
  {
   "cell_type": "code",
   "execution_count": 97,
   "metadata": {},
   "outputs": [
    {
     "data": {
      "text/plain": [
       "                           open        high         low       close\n",
       "2014-08-01 00:00:00    0.469112    0.469112  -67.873166   -2.922520\n",
       "2014-08-01 01:00:00   -3.374321   23.793007  -56.585154  -55.101543\n",
       "2014-08-01 02:00:00  -54.276885    5.232441  -87.809456    1.913276\n",
       "2014-08-01 03:00:00    0.260576   17.124638  -65.820652  -38.530620\n",
       "2014-08-01 04:00:00  -38.436581    3.537231 -109.805294  -61.014553\n",
       "...                         ...         ...         ...         ...\n",
       "2014-08-05 19:00:00  437.652077  550.408942  430.549178  494.471788\n",
       "2014-08-05 20:00:00  496.539759  510.371745  456.365565  476.505765\n",
       "2014-08-05 21:00:00  476.025498  506.952877  425.472410  498.547578\n",
       "2014-08-05 22:00:00  497.941355  506.599652  411.119919  443.925832\n",
       "2014-08-05 23:00:00  443.017962  489.083657  426.062444  456.191430\n",
       "\n",
       "[120 rows x 4 columns]"
      ]
     },
     "execution_count": 97,
     "metadata": {},
     "output_type": "execute_result"
    }
   ],
   "source": [
    "# show ohlc resampling\n",
    "ohlc = walk.resample(\"H\").ohlc()\n",
    "ohlc"
   ]
  },
  {
   "cell_type": "markdown",
   "metadata": {},
   "source": [
    "<h3>Time-series moving-window operations</h3>"
   ]
  },
  {
   "cell_type": "markdown",
   "metadata": {},
   "source": [
    "<p>pandas provides a number of functions to compute moving (also known as rolling)\n",
    "statistics. In a rolling window, pandas computes the statistic on a window of data\n",
    "represented by a particular period of time. The window is then rolled along a certain\n",
    "interval, and the statistic is continually calculated on each window as long as the window\n",
    "fits within the dates of the time series.</p><p>\n",
    "pandas provides direct support for rolling windows with the following functions:</p>"
   ]
  },
  {
   "cell_type": "markdown",
   "metadata": {},
   "source": [
    "<table>\n",
    "    <tr><th>Function</th><th>Description</th></tr>\n",
    "    <tr><td>rolling_mean</td><td>The mean of values in the window</td></tr>\n",
    "<tr><td>rolling_std</td><td>The standard deviation of values in the window</td></tr>\n",
    "<tr><td>rolling_var</td><td>The variance of values</td></tr>\n",
    "<tr><td>rolling_min</td><td>The minimum of values in the window</td></tr>\n",
    "<tr><td>rolling_max</td><td>The maximum of values in the window</td></tr>\n",
    "<tr><td>rolling_cov</td><td>The covariance of values</td></tr>\n",
    "<tr><td>rolling_quantile</td><td>Moving window score at percentile/sample quantile</td></tr>\n",
    "<tr><td>rolling_corr</td><td>Thecorrelation of values in the window</td></tr>\n",
    "<tr><td>rolling_median</td><td>The median of values in the window</td></tr>\n",
    "<tr><td>rolling_sum</td><td>The sum of values in the window</td></tr>\n",
    "<tr><td>rolling_apply</td><td>The application of a user function to values in the window</td></tr>\n",
    "<tr><td>rolling_count</td><td>The number of non-NaN values in a window</td></tr>\n",
    "<tr><td>rolling_skew</td><td>The skewedness of the values in the window</td></tr>\n",
    "<tr><td>rolling_kurt</td><td>The kurtosis of values in the window</td></tr></table>"
   ]
  },
  {
   "cell_type": "markdown",
   "metadata": {},
   "source": [
    "<p>As a practical example, a rolling mean is commonly used to smooth out short-term\n",
    "fluctuations and highlight longer-term trends in data and is used quite commonly in\n",
    "financial time-series analysis.</p><p>\n",
    "To demonstrate, we will calculate a rolling mean with a window of 5 on the first minute of\n",
    "the random walk created earlier in the chapter. The following calculates this and then plots\n",
    "the result against the raw data to demonstrate the smoothing created by the rolling mean:</p>"
   ]
  },
  {
   "cell_type": "code",
   "execution_count": 98,
   "metadata": {},
   "outputs": [
    {
     "data": {
      "text/plain": [
       "2014-08-01 00:00:00     0.469112\n",
       "2014-08-01 00:00:01     0.186249\n",
       "2014-08-01 00:00:02    -1.322810\n",
       "2014-08-01 00:00:03    -2.458442\n",
       "2014-08-01 00:00:04    -1.246330\n",
       "                         ...    \n",
       "2014-08-01 00:00:55   -11.339218\n",
       "2014-08-01 00:00:56   -10.928383\n",
       "2014-08-01 00:00:57   -10.114533\n",
       "2014-08-01 00:00:58    -9.982530\n",
       "2014-08-01 00:00:59   -10.809847\n",
       "Freq: S, Length: 60, dtype: float64"
      ]
     },
     "execution_count": 98,
     "metadata": {},
     "output_type": "execute_result"
    }
   ],
   "source": [
    "first_minute = walk['2014-08-01 00:00']\n",
    "first_minute"
   ]
  },
  {
   "cell_type": "code",
   "execution_count": 99,
   "metadata": {},
   "outputs": [
    {
     "data": {
      "image/png": "[encoded data removed]",
      "text/plain": [
       "<Figure size 432x288 with 1 Axes>"
      ]
     },
     "metadata": {
      "needs_background": "light"
     },
     "output_type": "display_data"
    }
   ],
   "source": [
    "# calculate a rolling mean window of 5 periods\n",
    "first_minute.rolling(5).mean().plot()\n",
    "# plot it against the raw data\n",
    "first_minute.plot()\n",
    "# add a legend\n",
    "plt.legend(labels=['Rolling Mean', 'Raw']);"
   ]
  },
  {
   "cell_type": "markdown",
   "metadata": {},
   "source": [
    "<p>It can be seen how rolling_mean provides a smoother representation of the underlying\n",
    "data. A larger window will create less variance, and smaller windows will create more\n",
    "(until the window size is 1, which will be identical to the original series).</p><p>\n",
    "The following demonstrates the rolling mean with windows of 2, 5, and 10 plotted against\n",
    "the original series:</p>"
   ]
  },
  {
   "cell_type": "code",
   "execution_count": 100,
   "metadata": {},
   "outputs": [
    {
     "data": {
      "text/plain": [
       "2014-08-01 00:00:00     0.469112\n",
       "2014-08-01 00:00:01     0.186249\n",
       "2014-08-01 00:00:02    -1.322810\n",
       "2014-08-01 00:00:03    -2.458442\n",
       "2014-08-01 00:00:04    -1.246330\n",
       "                         ...    \n",
       "2014-08-01 00:00:55   -11.339218\n",
       "2014-08-01 00:00:56   -10.928383\n",
       "2014-08-01 00:00:57   -10.114533\n",
       "2014-08-01 00:00:58    -9.982530\n",
       "2014-08-01 00:00:59   -10.809847\n",
       "Freq: S, Length: 60, dtype: float64"
      ]
     },
     "execution_count": 100,
     "metadata": {},
     "output_type": "execute_result"
    }
   ],
   "source": [
    "# demonstrate the difference between 2, 5 and\n",
    "# 10 interval rolling windows\n",
    "h1w = walk['2014-08-01 00:00']\n",
    "h1w"
   ]
  },
  {
   "cell_type": "code",
   "execution_count": 101,
   "metadata": {},
   "outputs": [
    {
     "data": {
      "image/png": "[encoded data removed]",
      "text/plain": [
       "<Figure size 432x288 with 1 Axes>"
      ]
     },
     "metadata": {
      "needs_background": "light"
     },
     "output_type": "display_data"
    }
   ],
   "source": [
    "h1w.plot()\n",
    "h1w.rolling(2).mean().plot()\n",
    "h1w.rolling(5).mean().plot()\n",
    "h1w.rolling(10).mean().plot()\n",
    "plt.legend(labels=['Raw', '2-interval RM', '5-interval RM', '10-interval RM']);"
   ]
  },
  {
   "cell_type": "markdown",
   "metadata": {},
   "source": [
    "<p>Note that the larger the window, the more data is missing at the beginning of the curve. A\n",
    "window of size n requires n data points before the measure can be calculated and hence\n",
    "the gap in the beginning of the plot.</p><p>\n",
    "Any function can be applied via a rolling window using the rolling function.\n",
    "The supplied function will be passed an array of values in the window and should return a\n",
    "single value, which pandas will aggregate with these results into a time series.</p><p>\n",
    "To demonstrate, the following code calculates the mean average deviation, which gives\n",
    "you a feel of how far all values in the sample are from the overall mean on an average:</p>"
   ]
  },
  {
   "cell_type": "code",
   "execution_count": 102,
   "metadata": {},
   "outputs": [
    {
     "data": {
      "text/plain": [
       "<matplotlib.axes._subplots.AxesSubplot at 0x1224ad4e0>"
      ]
     },
     "execution_count": 102,
     "metadata": {},
     "output_type": "execute_result"
    },
    {
     "data": {
      "image/png": "[encoded data removed]",
      "text/plain": [
       "<Figure size 432x288 with 1 Axes>"
      ]
     },
     "metadata": {
      "needs_background": "light"
     },
     "output_type": "display_data"
    }
   ],
   "source": [
    "# calculate mean average deviation with window of 5 intervals\n",
    "mean_abs_dev = lambda x: np.fabs(x - x.mean()).mean()\n",
    "h1w.rolling(5).apply(mean_abs_dev).plot()"
   ]
  },
  {
   "cell_type": "markdown",
   "metadata": {},
   "source": [
    "<p>An expanding window mean can be calculated using a slight variant of the use of the\n",
    "pd.rolling_mean function that repeatedly calculates the mean by always starting with the\n",
    "first value in the time series and for each iteration increases the window size by one. An\n",
    "expanding window mean will be more stable (less responsive) than a rolling window,\n",
    "because as the size of the window increases, the less the impact of the next value will be:</p>"
   ]
  },
  {
   "cell_type": "code",
   "execution_count": 116,
   "metadata": {},
   "outputs": [
    {
     "data": {
      "image/png": "[encoded data removed]",
      "text/plain": [
       "<Figure size 432x288 with 1 Axes>"
      ]
     },
     "metadata": {
      "needs_background": "light"
     },
     "output_type": "display_data"
    }
   ],
   "source": [
    "# calculate an expanding rolling mean\n",
    "# expanding_mean = lambda x: pd.rolling_mean(x, len(x), min_periods=1)\n",
    "h1w.plot()\n",
    "h1w.expanding().mean().plot()\n",
    "plt.legend(labels=['Expanding mean', 'Raw']);"
   ]
  }
 ],
 "metadata": {
  "kernelspec": {
   "display_name": "Python 3",
   "language": "python",
   "name": "python3"
  },
  "language_info": {
   "codemirror_mode": {
    "name": "ipython",
    "version": 3
   },
   "file_extension": ".py",
   "mimetype": "text/x-python",
   "name": "python",
   "nbconvert_exporter": "python",
   "pygments_lexer": "ipython3",
   "version": "3.7.3"
  }
 },
 "nbformat": 4,
 "nbformat_minor": 4
}
