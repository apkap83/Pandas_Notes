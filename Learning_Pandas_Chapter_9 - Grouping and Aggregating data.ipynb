{
 "cells": [
  {
   "cell_type": "markdown",
   "metadata": {},
   "source": [
    "<h3>Grouping and Aggregating Data</h3>"
   ]
  },
  {
   "cell_type": "code",
   "execution_count": 1,
   "metadata": {},
   "outputs": [],
   "source": [
    "# import pandas and numpy\n",
    "import numpy as np\n",
    "import pandas as pd\n",
    "\n",
    "# Set some pandas options for controlling output\n",
    "pd.set_option('display.notebook_repr_html', False)\n",
    "pd.set_option('display.max_columns', 10)\n",
    "pd.set_option('display.max_rows', 10)"
   ]
  },
  {
   "cell_type": "code",
   "execution_count": 2,
   "metadata": {},
   "outputs": [],
   "source": [
    "# inline graphics\n",
    "%matplotlib inline"
   ]
  },
  {
   "cell_type": "markdown",
   "metadata": {},
   "source": [
    "<h3>The split, apply, and combine (SAC)\n",
    "pattern</h3>"
   ]
  },
  {
   "cell_type": "markdown",
   "metadata": {},
   "source": [
    "<p>Many data analysis problems utilize a pattern of processing data, known as split-apply-combine.\n",
    "In this pattern, three steps are taken to analyze data:</p><ol>\n",
    "    <li> A data set is split into smaller pieces</li>\n",
    "<li> Each of these pieces are operated upon independently</li>\n",
    "<li> All of the results are combined back together and presented as a single unit</li></ol>"
   ]
  },
  {
   "cell_type": "markdown",
   "metadata": {},
   "source": [
    "Split-apply-combine, as implemented in pandas, differs in the scope of the data and\n",
    "processing. In pandas, all of the data is in memory of a single system. Because of this, it is\n",
    "limited to that single system’s processing capabilities, but this also makes the data analysis\n",
    "for that scale of data faster and more interactive in nature."
   ]
  },
  {
   "cell_type": "markdown",
   "metadata": {},
   "source": [
    "Splitting in pandas is performed using the .groupby() method of a Series or DataFrame\n",
    "object, which given one or more index labels and/or column names, will divide the data\n",
    "based on the values present in the specified index labels and columns."
   ]
  },
  {
   "cell_type": "markdown",
   "metadata": {},
   "source": [
    "Once the data is split into groups, one or more of the following three broad classes of\n",
    "operations is applied:</p>\n",
    "<ul>\n",
    "<li>Aggregation: This calculates a summary statistic, such as group means or counts of\n",
    "the items in each group</li>\n",
    "<li>Transformation: This performs group or item-specific calculations and returns a set\n",
    "of like-indexed results</li>\n",
    "<li>Filtration: This removes entire groups of data based on a group level computation</li></ul>"
   ]
  },
  {
   "cell_type": "markdown",
   "metadata": {},
   "source": [
    "<img src=\"data/split_apply_combine.png\"></img>"
   ]
  },
  {
   "cell_type": "markdown",
   "metadata": {},
   "source": [
    "<h3>Split</h3>"
   ]
  },
  {
   "cell_type": "markdown",
   "metadata": {},
   "source": [
    "Our examination of splitting a pandas objects will be broken into several sections. We will\n",
    "first load data to use in the examples. Then, we will look at creating a grouping based on\n",
    "columns, examining properties of a grouping in the process. Next, will be an examination\n",
    "of accessing the results of the grouping. The last subsection will examine grouping using\n",
    "index labels, instead of content in columns."
   ]
  },
  {
   "cell_type": "markdown",
   "metadata": {},
   "source": [
    "pandas’ Series and DataFrame objects are split into groups using the .groupby()\n",
    "method. To demonstrate, we will use a variant of the accelerometer sensor data introduced\n",
    "in the previous chapter. This version of the data adds another column (sensor) that can be\n",
    "used to specify multiple sensors:"
   ]
  },
  {
   "cell_type": "code",
   "execution_count": 3,
   "metadata": {},
   "outputs": [
    {
     "name": "stdout",
     "output_type": "stream",
     "text": [
      "interval,sensor,axis,reading\r",
      "\r\n",
      "0,accel,Z,0\r",
      "\r\n",
      "0,accel,Y,0.5\r",
      "\r\n",
      "0,accel,X,1\r",
      "\r\n",
      "1,accel,Z,0.1\r",
      "\r\n",
      "1,accel,Y,0.4\r",
      "\r\n",
      "1,accel,X,0.9\r",
      "\r\n",
      "2,accel,Z,0.2\r",
      "\r\n",
      "2,accel,Y,0.3\r",
      "\r\n",
      "2,accel,X,0.8\r",
      "\r\n",
      "3,accel,Z,0.3\r",
      "\r\n",
      "3,accel,Y,0.2\r",
      "\r\n",
      "3,accel,X,0.7\r",
      "\r\n",
      "0,orientation,Z,0\r",
      "\r\n",
      "0,orientation,Y,0.1\r",
      "\r\n",
      "0,orientation,X,0\r",
      "\r\n",
      "1,orientation,Z,0\r",
      "\r\n",
      "1,orientation,Y,0.2\r",
      "\r\n",
      "1,orientation,X,0.1\r",
      "\r\n",
      "2,orientation,Z,0\r",
      "\r\n",
      "2,orientation,Y,0.3\r",
      "\r\n",
      "2,orientation,X,0.2\r",
      "\r\n",
      "3,orientation,Z,0\r",
      "\r\n",
      "3,orientation,Y,0.4\r",
      "\r\n",
      "3,orientation,X,0.3\r",
      "\r\n"
     ]
    }
   ],
   "source": [
    "!cat data/sensors.csv"
   ]
  },
  {
   "cell_type": "code",
   "execution_count": 4,
   "metadata": {},
   "outputs": [
    {
     "data": {
      "text/plain": [
       "    interval       sensor axis  reading\n",
       "0          0        accel    Z      0.0\n",
       "1          0        accel    Y      0.5\n",
       "2          0        accel    X      1.0\n",
       "3          1        accel    Z      0.1\n",
       "4          1        accel    Y      0.4\n",
       "..       ...          ...  ...      ...\n",
       "19         2  orientation    Y      0.3\n",
       "20         2  orientation    X      0.2\n",
       "21         3  orientation    Z      0.0\n",
       "22         3  orientation    Y      0.4\n",
       "23         3  orientation    X      0.3\n",
       "\n",
       "[24 rows x 4 columns]"
      ]
     },
     "execution_count": 4,
     "metadata": {},
     "output_type": "execute_result"
    }
   ],
   "source": [
    "# load the sensors data\n",
    "sensors = pd.read_csv(\"data/sensors.csv\")\n",
    "sensors"
   ]
  },
  {
   "cell_type": "markdown",
   "metadata": {},
   "source": [
    "<h3>Grouping by a single column’s values</h3>"
   ]
  },
  {
   "cell_type": "markdown",
   "metadata": {},
   "source": [
    "The sensor data consists of three categorical variables (sensor, interval, and axis) and\n",
    "one continuous variable (reading). In pandas, it is possible to group by any single\n",
    "categorical variable by passing its name to .groupby(). The following groups by the\n",
    "sensor column:"
   ]
  },
  {
   "cell_type": "code",
   "execution_count": 5,
   "metadata": {},
   "outputs": [
    {
     "data": {
      "text/plain": [
       "<pandas.core.groupby.generic.DataFrameGroupBy object at 0x112b8da58>"
      ]
     },
     "execution_count": 5,
     "metadata": {},
     "output_type": "execute_result"
    }
   ],
   "source": [
    "# group this data by the sensor column / variable\n",
    "# returns a DataFrameGroupBy object\n",
    "grouped = sensors.groupby('sensor')\n",
    "grouped"
   ]
  },
  {
   "cell_type": "code",
   "execution_count": 6,
   "metadata": {},
   "outputs": [
    {
     "data": {
      "text/plain": [
       "2"
      ]
     },
     "execution_count": 6,
     "metadata": {},
     "output_type": "execute_result"
    }
   ],
   "source": [
    "# get the number of groups that this will create\n",
    "grouped.ngroups"
   ]
  },
  {
   "cell_type": "markdown",
   "metadata": {},
   "source": [
    "The result of calling .groupby() on DataFrame is not the actual grouped data, but a\n",
    "DataFrameGroupBy object (SeriesGroupBy when grouping on Series). The actual process\n",
    "of grouping is a deferred/lazy process in pandas, and at this point, the grouping has not\n",
    "actually been performed. This object represents an interim description of the grouping to\n",
    "be performed. This allows pandas to first validate that the grouping description provided\n",
    "to it is valid, relative to the data before starting processing."
   ]
  },
  {
   "cell_type": "markdown",
   "metadata": {},
   "source": [
    "The .groups property will return a Python dictionary whose keys represent the names of\n",
    "each group (if multiple columns are specified, it is a tuple). The values in the dictionary\n",
    "are an array of the index labels contained within each respective group:"
   ]
  },
  {
   "cell_type": "code",
   "execution_count": 7,
   "metadata": {},
   "outputs": [
    {
     "data": {
      "text/plain": [
       "{'accel': Int64Index([0, 1, 2, 3, 4, 5, 6, 7, 8, 9, 10, 11], dtype='int64'),\n",
       " 'orientation': Int64Index([12, 13, 14, 15, 16, 17, 18, 19, 20, 21, 22, 23], dtype='int64')}"
      ]
     },
     "execution_count": 7,
     "metadata": {},
     "output_type": "execute_result"
    }
   ],
   "source": [
    "# what are the groups that were found?\n",
    "grouped.groups"
   ]
  },
  {
   "cell_type": "markdown",
   "metadata": {},
   "source": [
    "<h3>Accessing the results of grouping</h3>"
   ]
  },
  {
   "cell_type": "markdown",
   "metadata": {},
   "source": [
    "The grouped variable can be thought of as a collection of named groups. We will use these\n",
    "properties, and the following function, to examine many of the results of groupings:"
   ]
  },
  {
   "cell_type": "code",
   "execution_count": 8,
   "metadata": {},
   "outputs": [],
   "source": [
    "# a helper function to print the contents of the groups\n",
    "def print_groups (groupobject):\n",
    "    # loop over all groups, printing the group name\n",
    "    # and group details\n",
    "    for name, group in groupobject:\n",
    "        print (name)\n",
    "        print (group)"
   ]
  },
  {
   "cell_type": "code",
   "execution_count": 9,
   "metadata": {},
   "outputs": [
    {
     "name": "stdout",
     "output_type": "stream",
     "text": [
      "accel\n",
      "    interval sensor axis  reading\n",
      "0          0  accel    Z      0.0\n",
      "1          0  accel    Y      0.5\n",
      "2          0  accel    X      1.0\n",
      "3          1  accel    Z      0.1\n",
      "4          1  accel    Y      0.4\n",
      "..       ...    ...  ...      ...\n",
      "7          2  accel    Y      0.3\n",
      "8          2  accel    X      0.8\n",
      "9          3  accel    Z      0.3\n",
      "10         3  accel    Y      0.2\n",
      "11         3  accel    X      0.7\n",
      "\n",
      "[12 rows x 4 columns]\n",
      "orientation\n",
      "    interval       sensor axis  reading\n",
      "12         0  orientation    Z      0.0\n",
      "13         0  orientation    Y      0.1\n",
      "14         0  orientation    X      0.0\n",
      "15         1  orientation    Z      0.0\n",
      "16         1  orientation    Y      0.2\n",
      "..       ...          ...  ...      ...\n",
      "19         2  orientation    Y      0.3\n",
      "20         2  orientation    X      0.2\n",
      "21         3  orientation    Z      0.0\n",
      "22         3  orientation    Y      0.4\n",
      "23         3  orientation    X      0.3\n",
      "\n",
      "[12 rows x 4 columns]\n"
     ]
    }
   ],
   "source": [
    "# examine the content of the groups we created\n",
    "print_groups(grouped)"
   ]
  },
  {
   "cell_type": "markdown",
   "metadata": {},
   "source": [
    "The examination of these results gives us some insight into how pandas has performed the\n",
    "split that we specified. A group has been created for each distinct value in the sensors\n",
    "column and has been named with that value. The group contains a DataFrame object\n",
    "whose content is the rows where the sensor value matched the name of the group."
   ]
  },
  {
   "cell_type": "code",
   "execution_count": 10,
   "metadata": {},
   "outputs": [
    {
     "data": {
      "text/plain": [
       "sensor\n",
       "accel          12\n",
       "orientation    12\n",
       "dtype: int64"
      ]
     },
     "execution_count": 10,
     "metadata": {},
     "output_type": "execute_result"
    }
   ],
   "source": [
    "# get how many items are in each group\n",
    "grouped.size()"
   ]
  },
  {
   "cell_type": "code",
   "execution_count": 11,
   "metadata": {},
   "outputs": [
    {
     "data": {
      "text/plain": [
       "             interval  axis  reading\n",
       "sensor                              \n",
       "accel              12    12       12\n",
       "orientation        12    12       12"
      ]
     },
     "execution_count": 11,
     "metadata": {},
     "output_type": "execute_result"
    }
   ],
   "source": [
    "# get the count of items in each column of each group\n",
    "grouped.count()"
   ]
  },
  {
   "cell_type": "code",
   "execution_count": 12,
   "metadata": {},
   "outputs": [
    {
     "data": {
      "text/plain": [
       "    interval sensor axis  reading\n",
       "0          0  accel    Z      0.0\n",
       "1          0  accel    Y      0.5\n",
       "2          0  accel    X      1.0\n",
       "3          1  accel    Z      0.1\n",
       "4          1  accel    Y      0.4\n",
       "..       ...    ...  ...      ...\n",
       "7          2  accel    Y      0.3\n",
       "8          2  accel    X      0.8\n",
       "9          3  accel    Z      0.3\n",
       "10         3  accel    Y      0.2\n",
       "11         3  accel    X      0.7\n",
       "\n",
       "[12 rows x 4 columns]"
      ]
     },
     "execution_count": 12,
     "metadata": {},
     "output_type": "execute_result"
    }
   ],
   "source": [
    "# get the data in one specific group\n",
    "grouped.get_group('accel')"
   ]
  },
  {
   "cell_type": "code",
   "execution_count": 13,
   "metadata": {},
   "outputs": [
    {
     "data": {
      "text/plain": [
       "    interval       sensor axis  reading\n",
       "0          0        accel    Z      0.0\n",
       "1          0        accel    Y      0.5\n",
       "2          0        accel    X      1.0\n",
       "12         0  orientation    Z      0.0\n",
       "13         0  orientation    Y      0.1\n",
       "14         0  orientation    X      0.0"
      ]
     },
     "execution_count": 13,
     "metadata": {},
     "output_type": "execute_result"
    }
   ],
   "source": [
    "# get the first three items in each group\n",
    "grouped.head(3)"
   ]
  },
  {
   "cell_type": "code",
   "execution_count": 14,
   "metadata": {},
   "outputs": [
    {
     "data": {
      "text/plain": [
       "    interval       sensor axis  reading\n",
       "9          3        accel    Z      0.3\n",
       "10         3        accel    Y      0.2\n",
       "11         3        accel    X      0.7\n",
       "21         3  orientation    Z      0.0\n",
       "22         3  orientation    Y      0.4\n",
       "23         3  orientation    X      0.3"
      ]
     },
     "execution_count": 14,
     "metadata": {},
     "output_type": "execute_result"
    }
   ],
   "source": [
    "# get the last three items in each group\n",
    "grouped.tail(3)"
   ]
  },
  {
   "cell_type": "code",
   "execution_count": 15,
   "metadata": {},
   "outputs": [
    {
     "data": {
      "text/plain": [
       "             interval axis  reading\n",
       "sensor                             \n",
       "accel               0    Z      0.0\n",
       "orientation         0    Z      0.0"
      ]
     },
     "execution_count": 15,
     "metadata": {},
     "output_type": "execute_result"
    }
   ],
   "source": [
    "# get the first item in each group\n",
    "grouped.nth(0)"
   ]
  },
  {
   "cell_type": "code",
   "execution_count": 16,
   "metadata": {},
   "outputs": [
    {
     "data": {
      "text/plain": [
       "             interval axis  reading\n",
       "sensor                             \n",
       "accel               0    Y      0.5\n",
       "orientation         0    Y      0.1"
      ]
     },
     "execution_count": 16,
     "metadata": {},
     "output_type": "execute_result"
    }
   ],
   "source": [
    "# get the 2nd item in each group\n",
    "grouped.nth(1)"
   ]
  },
  {
   "cell_type": "markdown",
   "metadata": {},
   "source": [
    "Grouping can also be performed on multiple columns by passing a list of column names.\n",
    "The following groups the data by both sensor and axis variables:"
   ]
  },
  {
   "cell_type": "code",
   "execution_count": 17,
   "metadata": {},
   "outputs": [
    {
     "data": {
      "text/plain": [
       "    interval       sensor axis  reading\n",
       "0          0        accel    Z      0.0\n",
       "1          0        accel    Y      0.5\n",
       "2          0        accel    X      1.0\n",
       "3          1        accel    Z      0.1\n",
       "4          1        accel    Y      0.4\n",
       "..       ...          ...  ...      ...\n",
       "19         2  orientation    Y      0.3\n",
       "20         2  orientation    X      0.2\n",
       "21         3  orientation    Z      0.0\n",
       "22         3  orientation    Y      0.4\n",
       "23         3  orientation    X      0.3\n",
       "\n",
       "[24 rows x 4 columns]"
      ]
     },
     "execution_count": 17,
     "metadata": {},
     "output_type": "execute_result"
    }
   ],
   "source": [
    "sensors"
   ]
  },
  {
   "cell_type": "code",
   "execution_count": 18,
   "metadata": {},
   "outputs": [
    {
     "name": "stdout",
     "output_type": "stream",
     "text": [
      "('accel', 'X')\n",
      "    interval sensor axis  reading\n",
      "2          0  accel    X      1.0\n",
      "5          1  accel    X      0.9\n",
      "8          2  accel    X      0.8\n",
      "11         3  accel    X      0.7\n",
      "('accel', 'Y')\n",
      "    interval sensor axis  reading\n",
      "1          0  accel    Y      0.5\n",
      "4          1  accel    Y      0.4\n",
      "7          2  accel    Y      0.3\n",
      "10         3  accel    Y      0.2\n",
      "('accel', 'Z')\n",
      "   interval sensor axis  reading\n",
      "0         0  accel    Z      0.0\n",
      "3         1  accel    Z      0.1\n",
      "6         2  accel    Z      0.2\n",
      "9         3  accel    Z      0.3\n",
      "('orientation', 'X')\n",
      "    interval       sensor axis  reading\n",
      "14         0  orientation    X      0.0\n",
      "17         1  orientation    X      0.1\n",
      "20         2  orientation    X      0.2\n",
      "23         3  orientation    X      0.3\n",
      "('orientation', 'Y')\n",
      "    interval       sensor axis  reading\n",
      "13         0  orientation    Y      0.1\n",
      "16         1  orientation    Y      0.2\n",
      "19         2  orientation    Y      0.3\n",
      "22         3  orientation    Y      0.4\n",
      "('orientation', 'Z')\n",
      "    interval       sensor axis  reading\n",
      "12         0  orientation    Z      0.0\n",
      "15         1  orientation    Z      0.0\n",
      "18         2  orientation    Z      0.0\n",
      "21         3  orientation    Z      0.0\n"
     ]
    }
   ],
   "source": [
    "# group by both sensor and axis values\n",
    "mcg = sensors.groupby(['sensor', 'axis'])\n",
    "print_groups(mcg)"
   ]
  },
  {
   "cell_type": "code",
   "execution_count": 19,
   "metadata": {},
   "outputs": [
    {
     "data": {
      "text/plain": [
       "                 interval                            ... reading               \\\n",
       "                    count mean       std  min   25%  ...     min    25%   50%   \n",
       "sensor      axis                                     ...                        \n",
       "accel       X         4.0  1.5  1.290994  0.0  0.75  ...     0.7  0.775  0.85   \n",
       "            Y         4.0  1.5  1.290994  0.0  0.75  ...     0.2  0.275  0.35   \n",
       "            Z         4.0  1.5  1.290994  0.0  0.75  ...     0.0  0.075  0.15   \n",
       "orientation X         4.0  1.5  1.290994  0.0  0.75  ...     0.0  0.075  0.15   \n",
       "            Y         4.0  1.5  1.290994  0.0  0.75  ...     0.1  0.175  0.25   \n",
       "            Z         4.0  1.5  1.290994  0.0  0.75  ...     0.0  0.000  0.00   \n",
       "\n",
       "                              \n",
       "                    75%  max  \n",
       "sensor      axis              \n",
       "accel       X     0.925  1.0  \n",
       "            Y     0.425  0.5  \n",
       "            Z     0.225  0.3  \n",
       "orientation X     0.225  0.3  \n",
       "            Y     0.325  0.4  \n",
       "            Z     0.000  0.0  \n",
       "\n",
       "[6 rows x 16 columns]"
      ]
     },
     "execution_count": 19,
     "metadata": {},
     "output_type": "execute_result"
    }
   ],
   "source": [
    "# get descriptive statistics for each\n",
    "mcg.describe()"
   ]
  },
  {
   "cell_type": "markdown",
   "metadata": {},
   "source": [
    "By default, groups are sorted by their group name in an ascending order. This dataset\n",
    "already has them in an ascending order, but if you want to prevent sorting during\n",
    "grouping, use the \"sort=False\" option."
   ]
  },
  {
   "cell_type": "markdown",
   "metadata": {},
   "source": [
    "<p>The examples up to this point, have used DataFrame without any specific indexing (just\n",
    "the default sequential numerical index). This type of data would actually be very well\n",
    "suited for a hierarchical index. This can then be used directly to group the data based upon\n",
    "index label(s).</p><p>\n",
    "To demonstrate, the following script creates a new DataFrame object with MultiIndex,\n",
    "consisting of the original sensor and interval columns:</p>"
   ]
  },
  {
   "cell_type": "code",
   "execution_count": 20,
   "metadata": {},
   "outputs": [
    {
     "data": {
      "text/plain": [
       "    interval       sensor axis  reading\n",
       "0          0        accel    Z      0.0\n",
       "1          0        accel    Y      0.5\n",
       "2          0        accel    X      1.0\n",
       "3          1        accel    Z      0.1\n",
       "4          1        accel    Y      0.4\n",
       "..       ...          ...  ...      ...\n",
       "19         2  orientation    Y      0.3\n",
       "20         2  orientation    X      0.2\n",
       "21         3  orientation    Z      0.0\n",
       "22         3  orientation    Y      0.4\n",
       "23         3  orientation    X      0.3\n",
       "\n",
       "[24 rows x 4 columns]"
      ]
     },
     "execution_count": 20,
     "metadata": {},
     "output_type": "execute_result"
    }
   ],
   "source": [
    "# make a copy of the data and reindex the copy\n",
    "mi = sensors.copy()\n",
    "mi"
   ]
  },
  {
   "cell_type": "code",
   "execution_count": 21,
   "metadata": {},
   "outputs": [
    {
     "data": {
      "text/plain": [
       "                  interval  reading\n",
       "sensor      axis                   \n",
       "accel       Z            0      0.0\n",
       "            Y            0      0.5\n",
       "            X            0      1.0\n",
       "            Z            1      0.1\n",
       "            Y            1      0.4\n",
       "...                    ...      ...\n",
       "orientation Y            2      0.3\n",
       "            X            2      0.2\n",
       "            Z            3      0.0\n",
       "            Y            3      0.4\n",
       "            X            3      0.3\n",
       "\n",
       "[24 rows x 2 columns]"
      ]
     },
     "execution_count": 21,
     "metadata": {},
     "output_type": "execute_result"
    }
   ],
   "source": [
    "mi = mi.set_index(['sensor', 'axis'])\n",
    "mi"
   ]
  },
  {
   "cell_type": "code",
   "execution_count": 22,
   "metadata": {},
   "outputs": [
    {
     "data": {
      "text/plain": [
       "MultiIndex([(      'accel', 'Z'),\n",
       "            (      'accel', 'Y'),\n",
       "            (      'accel', 'X'),\n",
       "            (      'accel', 'Z'),\n",
       "            (      'accel', 'Y'),\n",
       "            (      'accel', 'X'),\n",
       "            (      'accel', 'Z'),\n",
       "            (      'accel', 'Y'),\n",
       "            (      'accel', 'X'),\n",
       "            (      'accel', 'Z'),\n",
       "            (      'accel', 'Y'),\n",
       "            (      'accel', 'X'),\n",
       "            ('orientation', 'Z'),\n",
       "            ('orientation', 'Y'),\n",
       "            ('orientation', 'X'),\n",
       "            ('orientation', 'Z'),\n",
       "            ('orientation', 'Y'),\n",
       "            ('orientation', 'X'),\n",
       "            ('orientation', 'Z'),\n",
       "            ('orientation', 'Y'),\n",
       "            ('orientation', 'X'),\n",
       "            ('orientation', 'Z'),\n",
       "            ('orientation', 'Y'),\n",
       "            ('orientation', 'X')],\n",
       "           names=['sensor', 'axis'])"
      ]
     },
     "execution_count": 22,
     "metadata": {},
     "output_type": "execute_result"
    }
   ],
   "source": [
    "mi.index"
   ]
  },
  {
   "cell_type": "markdown",
   "metadata": {},
   "source": [
    "Grouping can now be performed using the levels of the hierarchical index. The following\n",
    "groups by index level 0 (the sensor names):"
   ]
  },
  {
   "cell_type": "code",
   "execution_count": 23,
   "metadata": {},
   "outputs": [
    {
     "data": {
      "text/plain": [
       "                  interval  reading\n",
       "sensor      axis                   \n",
       "accel       Z            0      0.0\n",
       "            Y            0      0.5\n",
       "            X            0      1.0\n",
       "            Z            1      0.1\n",
       "            Y            1      0.4\n",
       "...                    ...      ...\n",
       "orientation Y            2      0.3\n",
       "            X            2      0.2\n",
       "            Z            3      0.0\n",
       "            Y            3      0.4\n",
       "            X            3      0.3\n",
       "\n",
       "[24 rows x 2 columns]"
      ]
     },
     "execution_count": 23,
     "metadata": {},
     "output_type": "execute_result"
    }
   ],
   "source": [
    "mi"
   ]
  },
  {
   "cell_type": "code",
   "execution_count": 24,
   "metadata": {},
   "outputs": [
    {
     "name": "stdout",
     "output_type": "stream",
     "text": [
      "accel\n",
      "             interval  reading\n",
      "sensor axis                   \n",
      "accel  Z            0      0.0\n",
      "       Y            0      0.5\n",
      "       X            0      1.0\n",
      "       Z            1      0.1\n",
      "       Y            1      0.4\n",
      "...               ...      ...\n",
      "       Y            2      0.3\n",
      "       X            2      0.8\n",
      "       Z            3      0.3\n",
      "       Y            3      0.2\n",
      "       X            3      0.7\n",
      "\n",
      "[12 rows x 2 columns]\n",
      "orientation\n",
      "                  interval  reading\n",
      "sensor      axis                   \n",
      "orientation Z            0      0.0\n",
      "            Y            0      0.1\n",
      "            X            0      0.0\n",
      "            Z            1      0.0\n",
      "            Y            1      0.2\n",
      "...                    ...      ...\n",
      "            Y            2      0.3\n",
      "            X            2      0.2\n",
      "            Z            3      0.0\n",
      "            Y            3      0.4\n",
      "            X            3      0.3\n",
      "\n",
      "[12 rows x 2 columns]\n"
     ]
    }
   ],
   "source": [
    "# group by the first level of the index\n",
    "mig_l1 = mi.groupby(level=0)\n",
    "print_groups(mig_l1)"
   ]
  },
  {
   "cell_type": "markdown",
   "metadata": {},
   "source": [
    "Grouping by multiple levels can be performed by passing the levels in a list to\n",
    ".groupby(). Also, if MultiIndex has names specified for the levels, then these names can\n",
    "be used instead of integers. The following code groups the two levels of MultiIndex by\n",
    "their names:"
   ]
  },
  {
   "cell_type": "code",
   "execution_count": 25,
   "metadata": {},
   "outputs": [
    {
     "name": "stdout",
     "output_type": "stream",
     "text": [
      "('accel', 'X')\n",
      "             interval  reading\n",
      "sensor axis                   \n",
      "accel  X            0      1.0\n",
      "       X            1      0.9\n",
      "       X            2      0.8\n",
      "       X            3      0.7\n",
      "('accel', 'Y')\n",
      "             interval  reading\n",
      "sensor axis                   \n",
      "accel  Y            0      0.5\n",
      "       Y            1      0.4\n",
      "       Y            2      0.3\n",
      "       Y            3      0.2\n",
      "('accel', 'Z')\n",
      "             interval  reading\n",
      "sensor axis                   \n",
      "accel  Z            0      0.0\n",
      "       Z            1      0.1\n",
      "       Z            2      0.2\n",
      "       Z            3      0.3\n",
      "('orientation', 'X')\n",
      "                  interval  reading\n",
      "sensor      axis                   \n",
      "orientation X            0      0.0\n",
      "            X            1      0.1\n",
      "            X            2      0.2\n",
      "            X            3      0.3\n",
      "('orientation', 'Y')\n",
      "                  interval  reading\n",
      "sensor      axis                   \n",
      "orientation Y            0      0.1\n",
      "            Y            1      0.2\n",
      "            Y            2      0.3\n",
      "            Y            3      0.4\n",
      "('orientation', 'Z')\n",
      "                  interval  reading\n",
      "sensor      axis                   \n",
      "orientation Z            0      0.0\n",
      "            Z            1      0.0\n",
      "            Z            2      0.0\n",
      "            Z            3      0.0\n"
     ]
    }
   ],
   "source": [
    "# group by multiple levels of the index\n",
    "mig_l12 = mi.groupby(level=['sensor', 'axis'])\n",
    "print_groups(mig_l12)"
   ]
  },
  {
   "cell_type": "code",
   "execution_count": 26,
   "metadata": {},
   "outputs": [
    {
     "name": "stdout",
     "output_type": "stream",
     "text": [
      "('accel', 'X')\n",
      "    interval sensor axis  reading\n",
      "2          0  accel    X      1.0\n",
      "5          1  accel    X      0.9\n",
      "8          2  accel    X      0.8\n",
      "11         3  accel    X      0.7\n",
      "('accel', 'Y')\n",
      "    interval sensor axis  reading\n",
      "1          0  accel    Y      0.5\n",
      "4          1  accel    Y      0.4\n",
      "7          2  accel    Y      0.3\n",
      "10         3  accel    Y      0.2\n",
      "('accel', 'Z')\n",
      "   interval sensor axis  reading\n",
      "0         0  accel    Z      0.0\n",
      "3         1  accel    Z      0.1\n",
      "6         2  accel    Z      0.2\n",
      "9         3  accel    Z      0.3\n",
      "('orientation', 'X')\n",
      "    interval       sensor axis  reading\n",
      "14         0  orientation    X      0.0\n",
      "17         1  orientation    X      0.1\n",
      "20         2  orientation    X      0.2\n",
      "23         3  orientation    X      0.3\n",
      "('orientation', 'Y')\n",
      "    interval       sensor axis  reading\n",
      "13         0  orientation    Y      0.1\n",
      "16         1  orientation    Y      0.2\n",
      "19         2  orientation    Y      0.3\n",
      "22         3  orientation    Y      0.4\n",
      "('orientation', 'Z')\n",
      "    interval       sensor axis  reading\n",
      "12         0  orientation    Z      0.0\n",
      "15         1  orientation    Z      0.0\n",
      "18         2  orientation    Z      0.0\n",
      "21         3  orientation    Z      0.0\n"
     ]
    }
   ],
   "source": [
    "# VS grouping on 2 columns from previous example\n",
    "mcg = sensors.groupby(['sensor', 'axis'])\n",
    "print_groups(mcg)"
   ]
  },
  {
   "cell_type": "markdown",
   "metadata": {},
   "source": [
    "<h3>Apply</h3>"
   ]
  },
  {
   "cell_type": "markdown",
   "metadata": {},
   "source": [
    "After the grouping is performed, we have the ability to perform either aggregate\n",
    "calculations on each group of data resulting in a single value from each group, or to apply\n",
    "a transformation to each item in a group and return the combined result for each group.\n",
    "We can also filter groups based on results of expressions to exclude the groups from being\n",
    "included in the combined results."
   ]
  },
  {
   "cell_type": "markdown",
   "metadata": {},
   "source": [
    "<h4>Applying aggregation functions to groups</h4>"
   ]
  },
  {
   "cell_type": "markdown",
   "metadata": {},
   "source": [
    "<p>pandas allows the application of an aggregation function to each group of data.\n",
    "Aggregation is performed using the .aggregate() (or in short, .agg()) method of the\n",
    "GroupBy object. The parameter of .agg() is a reference to a function that is applied to\n",
    "each group. In the case of DataFrame, the function will be applied to each column.</p><p>As an example, the following code will calculate the mean of the values across each\n",
    "sensor and axis in the grouping mig_l12:</p>"
   ]
  },
  {
   "cell_type": "code",
   "execution_count": 27,
   "metadata": {},
   "outputs": [
    {
     "data": {
      "text/plain": [
       "<pandas.core.groupby.generic.DataFrameGroupBy object at 0x112c87ef0>"
      ]
     },
     "execution_count": 27,
     "metadata": {},
     "output_type": "execute_result"
    }
   ],
   "source": [
    "# calculate the mean for each sensor/axis\n",
    "mig_l12"
   ]
  },
  {
   "cell_type": "code",
   "execution_count": 28,
   "metadata": {},
   "outputs": [
    {
     "name": "stdout",
     "output_type": "stream",
     "text": [
      "('accel', 'X')\n",
      "             interval  reading\n",
      "sensor axis                   \n",
      "accel  X            0      1.0\n",
      "       X            1      0.9\n",
      "       X            2      0.8\n",
      "       X            3      0.7\n",
      "('accel', 'Y')\n",
      "             interval  reading\n",
      "sensor axis                   \n",
      "accel  Y            0      0.5\n",
      "       Y            1      0.4\n",
      "       Y            2      0.3\n",
      "       Y            3      0.2\n",
      "('accel', 'Z')\n",
      "             interval  reading\n",
      "sensor axis                   \n",
      "accel  Z            0      0.0\n",
      "       Z            1      0.1\n",
      "       Z            2      0.2\n",
      "       Z            3      0.3\n",
      "('orientation', 'X')\n",
      "                  interval  reading\n",
      "sensor      axis                   \n",
      "orientation X            0      0.0\n",
      "            X            1      0.1\n",
      "            X            2      0.2\n",
      "            X            3      0.3\n",
      "('orientation', 'Y')\n",
      "                  interval  reading\n",
      "sensor      axis                   \n",
      "orientation Y            0      0.1\n",
      "            Y            1      0.2\n",
      "            Y            2      0.3\n",
      "            Y            3      0.4\n",
      "('orientation', 'Z')\n",
      "                  interval  reading\n",
      "sensor      axis                   \n",
      "orientation Z            0      0.0\n",
      "            Z            1      0.0\n",
      "            Z            2      0.0\n",
      "            Z            3      0.0\n"
     ]
    }
   ],
   "source": [
    "print_groups(mig_l12)"
   ]
  },
  {
   "cell_type": "code",
   "execution_count": 29,
   "metadata": {},
   "outputs": [
    {
     "data": {
      "text/plain": [
       "                  interval  reading\n",
       "sensor      axis                   \n",
       "accel       X          1.5     0.85\n",
       "            Y          1.5     0.35\n",
       "            Z          1.5     0.15\n",
       "orientation X          1.5     0.15\n",
       "            Y          1.5     0.25\n",
       "            Z          1.5     0.00"
      ]
     },
     "execution_count": 29,
     "metadata": {},
     "output_type": "execute_result"
    }
   ],
   "source": [
    "# calculate the mean for each sensor/axis\n",
    "mig_l12.agg(np.mean)"
   ]
  },
  {
   "cell_type": "markdown",
   "metadata": {},
   "source": [
    "As .agg() will apply the method to each column in each group, we also calculated the\n",
    "mean of the interval values (which is not of much interest)."
   ]
  },
  {
   "cell_type": "markdown",
   "metadata": {},
   "source": [
    "The result of the aggregation will have an identically structured index as the original data.\n",
    "If you do not want this to happen, you can use the as_index=False option of the\n",
    ".groupby() method to specify not to duplicate the structure of the index:"
   ]
  },
  {
   "cell_type": "code",
   "execution_count": 30,
   "metadata": {},
   "outputs": [
    {
     "data": {
      "text/plain": [
       "        sensor axis  interval  reading\n",
       "0        accel    X       1.5     0.85\n",
       "1        accel    Y       1.5     0.35\n",
       "2        accel    Z       1.5     0.15\n",
       "3  orientation    X       1.5     0.15\n",
       "4  orientation    Y       1.5     0.25\n",
       "5  orientation    Z       1.5     0.00"
      ]
     },
     "execution_count": 30,
     "metadata": {},
     "output_type": "execute_result"
    }
   ],
   "source": [
    "# do not create an index matching the original object\n",
    "sensors.groupby(['sensor', 'axis'], as_index=False).agg(np.mean)"
   ]
  },
  {
   "cell_type": "code",
   "execution_count": 31,
   "metadata": {},
   "outputs": [
    {
     "data": {
      "text/plain": [
       "                  interval  reading\n",
       "sensor      axis                   \n",
       "accel       X          1.5     0.85\n",
       "            Y          1.5     0.35\n",
       "            Z          1.5     0.15\n",
       "orientation X          1.5     0.15\n",
       "            Y          1.5     0.25\n",
       "            Z          1.5     0.00"
      ]
     },
     "execution_count": 31,
     "metadata": {},
     "output_type": "execute_result"
    }
   ],
   "source": [
    "# VS This...\n",
    "sensors.groupby(['sensor', 'axis']).agg(np.mean)"
   ]
  },
  {
   "cell_type": "markdown",
   "metadata": {},
   "source": [
    "<p>Aggregation functions can also be directly passed level parameters to specify which\n",
    "levels of the index to apply the function.</p>\n",
    "<p>\n",
    "Many aggregation functions are built in directly to the GroupBy object to save you some\n",
    "more typing. Specifically, these functions are (prefixed by gb.):</p>"
   ]
  },
  {
   "cell_type": "markdown",
   "metadata": {},
   "source": [
    "<pre>gb.agg gb.boxplot gb.cummin gb.describe gb.filter\n",
    "gb.get_group gb.height gb.last gb.median gb.ngroups\n",
    "gb.plot gb.rank gb.std gb.transform\n",
    "gb.aggregate gb.count gb.cumprod gb.dtype gb.first\n",
    "gb.groups gb.hist gb.max gb.min gb.nth\n",
    "gb.prod gb.resample gb.sum gb.var\n",
    "gb.apply gb.cummax gb.cumsum gb.fillna gb.gender\n",
    "gb.head gb.indices <b>gb.mean</b> gb.name gb.ohlc\n",
    "gb.quantile gb.size gb.tail gb.weight</pre>"
   ]
  },
  {
   "cell_type": "code",
   "execution_count": 32,
   "metadata": {},
   "outputs": [
    {
     "data": {
      "text/plain": [
       "                  interval  reading\n",
       "sensor      axis                   \n",
       "accel       X          1.5     0.85\n",
       "            Y          1.5     0.35\n",
       "            Z          1.5     0.15\n",
       "orientation X          1.5     0.15\n",
       "            Y          1.5     0.25\n",
       "            Z          1.5     0.00"
      ]
     },
     "execution_count": 32,
     "metadata": {},
     "output_type": "execute_result"
    }
   ],
   "source": [
    "# can simply apply the agg function to the group by object\n",
    "mig_l12.mean()"
   ]
  },
  {
   "cell_type": "code",
   "execution_count": 33,
   "metadata": {},
   "outputs": [
    {
     "name": "stdout",
     "output_type": "stream",
     "text": [
      "('accel', 'X')\n",
      "             interval  reading\n",
      "sensor axis                   \n",
      "accel  X            0      1.0\n",
      "       X            1      0.9\n",
      "       X            2      0.8\n",
      "       X            3      0.7\n",
      "('accel', 'Y')\n",
      "             interval  reading\n",
      "sensor axis                   \n",
      "accel  Y            0      0.5\n",
      "       Y            1      0.4\n",
      "       Y            2      0.3\n",
      "       Y            3      0.2\n",
      "('accel', 'Z')\n",
      "             interval  reading\n",
      "sensor axis                   \n",
      "accel  Z            0      0.0\n",
      "       Z            1      0.1\n",
      "       Z            2      0.2\n",
      "       Z            3      0.3\n",
      "('orientation', 'X')\n",
      "                  interval  reading\n",
      "sensor      axis                   \n",
      "orientation X            0      0.0\n",
      "            X            1      0.1\n",
      "            X            2      0.2\n",
      "            X            3      0.3\n",
      "('orientation', 'Y')\n",
      "                  interval  reading\n",
      "sensor      axis                   \n",
      "orientation Y            0      0.1\n",
      "            Y            1      0.2\n",
      "            Y            2      0.3\n",
      "            Y            3      0.4\n",
      "('orientation', 'Z')\n",
      "                  interval  reading\n",
      "sensor      axis                   \n",
      "orientation Z            0      0.0\n",
      "            Z            1      0.0\n",
      "            Z            2      0.0\n",
      "            Z            3      0.0\n"
     ]
    }
   ],
   "source": [
    "print_groups(mig_l12)"
   ]
  },
  {
   "cell_type": "markdown",
   "metadata": {},
   "source": [
    "\n",
    "Multiple aggregation functions can be simultaneously applied to each group in a single call to .agg() by passing them in a list:"
   ]
  },
  {
   "cell_type": "code",
   "execution_count": 34,
   "metadata": {},
   "outputs": [
    {
     "data": {
      "text/plain": [
       "                 interval           reading          \n",
       "                      sum       std     sum       std\n",
       "sensor      axis                                     \n",
       "accel       X           6  1.290994     3.4  0.129099\n",
       "            Y           6  1.290994     1.4  0.129099\n",
       "            Z           6  1.290994     0.6  0.129099\n",
       "orientation X           6  1.290994     0.6  0.129099\n",
       "            Y           6  1.290994     1.0  0.129099\n",
       "            Z           6  1.290994     0.0  0.000000"
      ]
     },
     "execution_count": 34,
     "metadata": {},
     "output_type": "execute_result"
    }
   ],
   "source": [
    "# apply multiple aggregation functions at once\n",
    "mig_l12.agg([np.sum, np.std])"
   ]
  },
  {
   "cell_type": "markdown",
   "metadata": {},
   "source": [
    "A different function can be applied to each column in each group by passing a Python\n",
    "dictionary to .agg(), where the keys of the dictionary represent the column name that the\n",
    "function is to be applied to, and the value is the function. The following demonstrates the\n",
    "mean of the reading column in each group by return, but for the interval, the column\n",
    "returns the length of the group:"
   ]
  },
  {
   "cell_type": "code",
   "execution_count": 35,
   "metadata": {},
   "outputs": [
    {
     "data": {
      "text/plain": [
       "                  interval  reading\n",
       "sensor      axis                   \n",
       "accel       X            4     0.85\n",
       "            Y            4     0.35\n",
       "            Z            4     0.15\n",
       "orientation X            4     0.15\n",
       "            Y            4     0.25\n",
       "            Z            4     0.00"
      ]
     },
     "execution_count": 35,
     "metadata": {},
     "output_type": "execute_result"
    }
   ],
   "source": [
    "# apply a different function to each column\n",
    "mig_l12.agg({'interval' : len, 'reading': np.mean})"
   ]
  },
  {
   "cell_type": "code",
   "execution_count": 36,
   "metadata": {},
   "outputs": [
    {
     "data": {
      "text/plain": [
       "                  reading\n",
       "sensor      axis         \n",
       "accel       X        0.85\n",
       "            Y        0.35\n",
       "            Z        0.15\n",
       "orientation X        0.15\n",
       "            Y        0.25\n",
       "            Z        0.00"
      ]
     },
     "execution_count": 36,
     "metadata": {},
     "output_type": "execute_result"
    }
   ],
   "source": [
    "# apply a different function to each column\n",
    "mig_l12.agg({'reading': np.mean})"
   ]
  },
  {
   "cell_type": "markdown",
   "metadata": {},
   "source": [
    "Aggregation can also be performed on specific columns using the [] operator on the\n",
    "GroupBy object. The following sums only the reading column:"
   ]
  },
  {
   "cell_type": "code",
   "execution_count": 37,
   "metadata": {},
   "outputs": [
    {
     "data": {
      "text/plain": [
       "sensor       axis\n",
       "accel        X       0.85\n",
       "             Y       0.35\n",
       "             Z       0.15\n",
       "orientation  X       0.15\n",
       "             Y       0.25\n",
       "             Z       0.00\n",
       "Name: reading, dtype: float64"
      ]
     },
     "execution_count": 37,
     "metadata": {},
     "output_type": "execute_result"
    }
   ],
   "source": [
    "# calculate the mean of the reading column\n",
    "mig_l12['reading'].mean()"
   ]
  },
  {
   "cell_type": "markdown",
   "metadata": {},
   "source": [
    "<h3>The transformation of group data</h3>"
   ]
  },
  {
   "cell_type": "markdown",
   "metadata": {},
   "source": [
    "<p>The GroupBy objects provide a .transform() method, which applies a function to each\n",
    "group and returns either Series or DataFrame that has the following parameters:</p><ul><li>Indexed identically to the concatenation of the indexes in all the groups</li>\n",
    "<li>The number of rows is equal to the sum of the number of rows in all the groups</li>\n",
    "<li>Consists of non-noise, nongrouped columns to which pandas has applied the given\n",
    "    function</li></ul>"
   ]
  },
  {
   "cell_type": "code",
   "execution_count": 38,
   "metadata": {},
   "outputs": [
    {
     "data": {
      "text/plain": [
       "  Label  Values  Values2   Noise\n",
       "0     A       0        5     foo\n",
       "1     C       1        6     bar\n",
       "2     B       2        7     baz\n",
       "3     A       3        8  foobar\n",
       "4     C       4        9  barbaz"
      ]
     },
     "execution_count": 38,
     "metadata": {},
     "output_type": "execute_result"
    }
   ],
   "source": [
    "# a DataFrame to use for examples\n",
    "df = pd.DataFrame({ 'Label': ['A', 'C', 'B', 'A', 'C'], 'Values': [0, 1, 2, 3, 4], 'Values2': [5, 6, 7, 8, 9],\n",
    "'Noise': ['foo', 'bar', 'baz', 'foobar', 'barbaz']})\n",
    "\n",
    "df"
   ]
  },
  {
   "cell_type": "markdown",
   "metadata": {},
   "source": [
    "<p>This DataFrame object has a default index, a Label column that will be used to group the\n",
    "data, two numerical columns (Values and Values2), and one Noise column that will\n",
    "demonstrate pandas making an automatic decision to drop columns in transformations that\n",
    "it considers not appropriate for the specific operation.</p>\n",
    "<p>First, we group DataFrame by its Label column:</p>"
   ]
  },
  {
   "cell_type": "code",
   "execution_count": 39,
   "metadata": {},
   "outputs": [
    {
     "name": "stdout",
     "output_type": "stream",
     "text": [
      "A\n",
      "  Label  Values  Values2   Noise\n",
      "0     A       0        5     foo\n",
      "3     A       3        8  foobar\n",
      "B\n",
      "  Label  Values  Values2 Noise\n",
      "2     B       2        7   baz\n",
      "C\n",
      "  Label  Values  Values2   Noise\n",
      "1     C       1        6     bar\n",
      "4     C       4        9  barbaz\n"
     ]
    }
   ],
   "source": [
    "# group by label\n",
    "grouped = df.groupby('Label')\n",
    "print_groups(grouped)"
   ]
  },
  {
   "cell_type": "markdown",
   "metadata": {},
   "source": [
    "Now, to demonstrate a transformation in process, the following adds the numeric value of\n",
    "10 to each value (the values in both the Values and Values2 columns):"
   ]
  },
  {
   "cell_type": "code",
   "execution_count": 40,
   "metadata": {},
   "outputs": [
    {
     "data": {
      "text/plain": [
       "   Values  Values2\n",
       "0      10       15\n",
       "1      11       16\n",
       "2      12       17\n",
       "3      13       18\n",
       "4      14       19"
      ]
     },
     "execution_count": 40,
     "metadata": {},
     "output_type": "execute_result"
    }
   ],
   "source": [
    "# add ten to all values in all columns\n",
    "grouped.transform(lambda x: x + 10)"
   ]
  },
  {
   "cell_type": "markdown",
   "metadata": {},
   "source": [
    "<p>What pandas does here is pass the columns of DataFrame one by one and with only the\n",
    "rows for the specific group to the function supplied to .transform(). The result, in this\n",
    "example, is that the Noise column has been dropped in the result, as pandas determines\n",
    "that + 10 is not a valid operation for that column. Then, the other columns are passed as\n",
    "Series objects to the method and therefore, they have 10 added to each value.</p><p>To understand what is going on more clearly, we can change the function being passed to\n",
    ".transform() to write some diagnostic information. The following changes the x + 10\n",
    "transform to also print what the data, that is being worked upon at each step of the\n",
    "execution, is:</p>"
   ]
  },
  {
   "cell_type": "code",
   "execution_count": 41,
   "metadata": {},
   "outputs": [],
   "source": [
    "# a function to print the input before we are adding 10 to it\n",
    "def xplus10(x):\n",
    "    print ('Output: ' + str(x))\n",
    "    print ('Output2: ' + str(x+10))\n",
    "    return x + 10"
   ]
  },
  {
   "cell_type": "code",
   "execution_count": 42,
   "metadata": {},
   "outputs": [
    {
     "name": "stdout",
     "output_type": "stream",
     "text": [
      "A\n",
      "  Label  Values  Values2   Noise\n",
      "0     A       0        5     foo\n",
      "3     A       3        8  foobar\n",
      "B\n",
      "  Label  Values  Values2 Noise\n",
      "2     B       2        7   baz\n",
      "C\n",
      "  Label  Values  Values2   Noise\n",
      "1     C       1        6     bar\n",
      "4     C       4        9  barbaz\n"
     ]
    }
   ],
   "source": [
    "print_groups(grouped)"
   ]
  },
  {
   "cell_type": "code",
   "execution_count": 43,
   "metadata": {},
   "outputs": [
    {
     "name": "stdout",
     "output_type": "stream",
     "text": [
      "Output: 0    0\n",
      "3    3\n",
      "Name: Values, dtype: object\n",
      "Output2: 0    10\n",
      "3    13\n",
      "Name: Values, dtype: object\n",
      "Output: 0    0\n",
      "3    3\n",
      "Name: Values, dtype: int64\n",
      "Output2: 0    10\n",
      "3    13\n",
      "Name: Values, dtype: int64\n",
      "Output: 0    5\n",
      "3    8\n",
      "Name: Values2, dtype: int64\n",
      "Output2: 0    15\n",
      "3    18\n",
      "Name: Values2, dtype: int64\n",
      "Output: 0       foo\n",
      "3    foobar\n",
      "Name: Noise, dtype: object\n",
      "Output: 0    0\n",
      "3    3\n",
      "Name: A, dtype: int64\n",
      "Output2: 0    10\n",
      "3    13\n",
      "Name: A, dtype: int64\n",
      "Output: 2    2\n",
      "Name: B, dtype: int64\n",
      "Output2: 2    12\n",
      "Name: B, dtype: int64\n",
      "Output: 1    1\n",
      "4    4\n",
      "Name: C, dtype: int64\n",
      "Output2: 1    11\n",
      "4    14\n",
      "Name: C, dtype: int64\n",
      "Output: 0    5\n",
      "3    8\n",
      "Name: A, dtype: int64\n",
      "Output2: 0    15\n",
      "3    18\n",
      "Name: A, dtype: int64\n",
      "Output: 2    7\n",
      "Name: B, dtype: int64\n",
      "Output2: 2    17\n",
      "Name: B, dtype: int64\n",
      "Output: 1    6\n",
      "4    9\n",
      "Name: C, dtype: int64\n",
      "Output2: 1    16\n",
      "4    19\n",
      "Name: C, dtype: int64\n",
      "Output: 0       foo\n",
      "3    foobar\n",
      "Name: A, dtype: object\n"
     ]
    },
    {
     "data": {
      "text/plain": [
       "   Values  Values2\n",
       "0      10       15\n",
       "1      11       16\n",
       "2      12       17\n",
       "3      13       18\n",
       "4      14       19"
      ]
     },
     "execution_count": 43,
     "metadata": {},
     "output_type": "execute_result"
    }
   ],
   "source": [
    "# transform using xplus10\n",
    "grouped.transform(xplus10)"
   ]
  },
  {
   "cell_type": "markdown",
   "metadata": {},
   "source": [
    "<p>pandas has called our transformation function nine times, one time for every column in\n",
    "every group (3 x 3), and passed a Series object for each combination of group / rows /\n",
    "column, and for each of these calls, pandas stores the results and when complete, does a\n",
    "merge of the results back in to DataFrame (or if the result is a single column, Series) that\n",
    "is indexed identically to the original data.</p><p>The function passed to .transform() must return Series with the same number of rows\n",
    "and the same index values. Otherwise, the result will often not be what was expected. As\n",
    "an example of violating this statement, the following sums each Series object in each\n",
    "group. The result is a DataFrame object identical to the source (and not an exception or\n",
    "note that you did something wrong):</p>"
   ]
  },
  {
   "cell_type": "code",
   "execution_count": 44,
   "metadata": {},
   "outputs": [
    {
     "name": "stdout",
     "output_type": "stream",
     "text": [
      "A\n",
      "  Label  Values  Values2   Noise\n",
      "0     A       0        5     foo\n",
      "3     A       3        8  foobar\n",
      "B\n",
      "  Label  Values  Values2 Noise\n",
      "2     B       2        7   baz\n",
      "C\n",
      "  Label  Values  Values2   Noise\n",
      "1     C       1        6     bar\n",
      "4     C       4        9  barbaz\n"
     ]
    }
   ],
   "source": [
    "print_groups(grouped)"
   ]
  },
  {
   "cell_type": "code",
   "execution_count": 45,
   "metadata": {},
   "outputs": [
    {
     "data": {
      "text/plain": [
       "  Values Values2      Noise\n",
       "0      3      13  foofoobar\n",
       "1      5      15  barbarbaz\n",
       "2      2       7        baz\n",
       "3      3      13  foofoobar\n",
       "4      5      15  barbarbaz"
      ]
     },
     "execution_count": 45,
     "metadata": {},
     "output_type": "execute_result"
    }
   ],
   "source": [
    "# sum returns existing as it is applied to each individual item\n",
    "grouped.transform(lambda x: x.sum())"
   ]
  },
  {
   "cell_type": "markdown",
   "metadata": {},
   "source": [
    "<h3>Practical examples of transformation</h3>"
   ]
  },
  {
   "cell_type": "markdown",
   "metadata": {},
   "source": [
    "<p>A common transformation in statistical analysis, with grouped data, is to replace missing\n",
    "data within each group with the mean of the non-NaN values in the group. The following\n",
    "creates DataFrame with a Label categorical variable with two values (‘A‘ and ‘B‘) and a\n",
    "Values column containing a series of integers but with one value replaced with NaN:</p>"
   ]
  },
  {
   "cell_type": "code",
   "execution_count": 46,
   "metadata": {},
   "outputs": [
    {
     "data": {
      "text/plain": [
       "   Label  Values\n",
       "i1     A    10.0\n",
       "i2     B    20.0\n",
       "i3     A    11.0\n",
       "i4     B     NaN\n",
       "i5     A    12.0\n",
       "i6     B    22.0"
      ]
     },
     "execution_count": 46,
     "metadata": {},
     "output_type": "execute_result"
    }
   ],
   "source": [
    "# data to demonstrate replacement on NaN\n",
    "df = pd.DataFrame({ 'Label': list(\"ABABAB\"), 'Values': [10, 20, 11, np.nan, 12, 22]},\n",
    "index=['i1', 'i2', 'i3', 'i4', 'i5', 'i6'])\n",
    "\n",
    "df"
   ]
  },
  {
   "cell_type": "markdown",
   "metadata": {},
   "source": [
    "Now, we group the data by Label, resulting in the following groups:"
   ]
  },
  {
   "cell_type": "code",
   "execution_count": 47,
   "metadata": {},
   "outputs": [
    {
     "name": "stdout",
     "output_type": "stream",
     "text": [
      "A\n",
      "   Label  Values\n",
      "i1     A    10.0\n",
      "i3     A    11.0\n",
      "i5     A    12.0\n",
      "B\n",
      "   Label  Values\n",
      "i2     B    20.0\n",
      "i4     B     NaN\n",
      "i6     B    22.0\n"
     ]
    }
   ],
   "source": [
    "# show the groups in the data based upon Label\n",
    "grouped = df.groupby('Label')\n",
    "print_groups(grouped)"
   ]
  },
  {
   "cell_type": "markdown",
   "metadata": {},
   "source": [
    "We can calculate the mean of each group using the GroupBy object’s .mean() method. We\n",
    "can use this result to later verify that we did this transformation correctly:"
   ]
  },
  {
   "cell_type": "code",
   "execution_count": 48,
   "metadata": {},
   "outputs": [
    {
     "data": {
      "text/plain": [
       "       Values\n",
       "Label        \n",
       "A        11.0\n",
       "B        21.0"
      ]
     },
     "execution_count": 48,
     "metadata": {},
     "output_type": "execute_result"
    }
   ],
   "source": [
    "# calculate the mean of the two groups\n",
    "grouped.mean()"
   ]
  },
  {
   "cell_type": "markdown",
   "metadata": {},
   "source": [
    "The default operation of .mean() skips NaN in its calculation for the B group. However,\n",
    "suppose that we need the B group to have all NaN values filled, as other code we use may\n",
    "take offense to the NaN value, so we could replace it with the mean of the group (which\n",
    "should not affect group level mean calculations). This can be done with the following\n",
    "code:"
   ]
  },
  {
   "cell_type": "code",
   "execution_count": 49,
   "metadata": {},
   "outputs": [
    {
     "data": {
      "text/plain": [
       "   Label  Values\n",
       "i1     A    10.0\n",
       "i2     B    20.0\n",
       "i3     A    11.0\n",
       "i4     B     NaN\n",
       "i5     A    12.0\n",
       "i6     B    22.0"
      ]
     },
     "execution_count": 49,
     "metadata": {},
     "output_type": "execute_result"
    }
   ],
   "source": [
    "df"
   ]
  },
  {
   "cell_type": "code",
   "execution_count": 50,
   "metadata": {},
   "outputs": [
    {
     "data": {
      "text/plain": [
       "    Values\n",
       "i1    10.0\n",
       "i2    20.0\n",
       "i3    11.0\n",
       "i4    21.0\n",
       "i5    12.0\n",
       "i6    22.0"
      ]
     },
     "execution_count": 50,
     "metadata": {},
     "output_type": "execute_result"
    }
   ],
   "source": [
    "# use transform to fill the NaNs with the mean of the group\n",
    "filled_NaNs = grouped.transform(lambda x: x.fillna(x.mean()))\n",
    "filled_NaNs"
   ]
  },
  {
   "cell_type": "markdown",
   "metadata": {},
   "source": [
    "<p>Here is where I have had trouble with pandas and have also seen others have problems.\n",
    "This result appears odd at first glance because of the following reasons:</p><ul><li>It does not have a Label column</li>\n",
    "<li>It has returned the Series object when we passed DataFrame to it</li>\n",
    "   <li> It does not provide an explicit statement of which values in which group have been</li>\n",
    "    filled with the mean of the group</li></ul>"
   ]
  },
  {
   "cell_type": "markdown",
   "metadata": {},
   "source": [
    "<p>On the first two points, our original DataFrame had two columns, one of which was used\n",
    "in the grouping process. This column is not passed to the .transform() method, and in\n",
    "this scenario, the only column processed is Values. Upon applying the .transform()\n",
    "method on each group, pandas merges the results, which are all Series objects, into a\n",
    "single Series object.</p><p>With respect to the third point, we do not know which values in which groups were\n",
    "changed, but we do know the index in the original data, as the index labels are preserved\n",
    "through the process. This allows us to go back to the original data and fill in the NaN\n",
    "values in the original DataFrame:</p>"
   ]
  },
  {
   "cell_type": "code",
   "execution_count": 51,
   "metadata": {},
   "outputs": [
    {
     "data": {
      "text/plain": [
       "   Label  Values  Transformed_Values_Column\n",
       "i1     A    10.0                       10.0\n",
       "i2     B    20.0                       20.0\n",
       "i3     A    11.0                       11.0\n",
       "i4     B     NaN                       21.0\n",
       "i5     A    12.0                       12.0\n",
       "i6     B    22.0                       22.0"
      ]
     },
     "execution_count": 51,
     "metadata": {},
     "output_type": "execute_result"
    }
   ],
   "source": [
    "# Show the new and old values\n",
    "df['Transformed_Values_Column'] = filled_NaNs\n",
    "df"
   ]
  },
  {
   "cell_type": "markdown",
   "metadata": {},
   "source": [
    "<h4>Note</h4>\n",
    "<p>The .transform() method does not change the original data or the data in the group that\n",
    "is being applied to. Index labels are preserved, so you can go back and relate the results to\n",
    "the original data or any of the groups. If you want to patch this data, you will need to\n",
    "align/merge the results with the original data or grouped data. These changes, then, do not\n",
    "    affect already calculated groups or the results for the apply step.</p><p>\n",
    "Another common and practical example, is that of using .transform() in statistical\n",
    "analysis and is the process of normalizing multiple groups of data to have a mean of 0 and\n",
    "    a standard deviation of 1, also referred to as creating a normalized z score of the data.</p><p>\n",
    "To demonstrate normalizing groups into z scores, we will create a series of data that does\n",
    "not have a mean of 0, or a standard deviation of 1. The following code creates a series of\n",
    "normally distributed values with a 0.5 mean and a standard deviation of 2, is indexed by\n",
    "day, and calculates a rolling mean of these values across 90 periods (roughly one quarter\n",
    "    of a year):</p>"
   ]
  },
  {
   "cell_type": "code",
   "execution_count": 52,
   "metadata": {},
   "outputs": [
    {
     "data": {
      "text/plain": [
       "array([ 1.4382246 , -0.06572669, -2.51811701, ...,  1.40436124,\n",
       "       -0.10668701,  1.79675573])"
      ]
     },
     "execution_count": 52,
     "metadata": {},
     "output_type": "execute_result"
    }
   ],
   "source": [
    "# Draw random samples from a normal (Gaussian) distribution.\n",
    "np.random.seed(123456)\n",
    "values = np.random.normal(0.5, 2, 365*3)\n",
    "values"
   ]
  },
  {
   "cell_type": "code",
   "execution_count": 53,
   "metadata": {},
   "outputs": [],
   "source": [
    "# 3 Years of dates\n",
    "dates = pd.date_range('2011-01-01', periods=365*3)"
   ]
  },
  {
   "cell_type": "code",
   "execution_count": 54,
   "metadata": {},
   "outputs": [
    {
     "data": {
      "text/plain": [
       "2011-01-01    1.438225\n",
       "2011-01-02   -0.065727\n",
       "2011-01-03   -2.518117\n",
       "2011-01-04   -1.771265\n",
       "2011-01-05    2.924224\n",
       "                ...   \n",
       "2013-12-26   -0.276625\n",
       "2013-12-27    0.259735\n",
       "2013-12-28    1.404361\n",
       "2013-12-29   -0.106687\n",
       "2013-12-30    1.796756\n",
       "Freq: D, Length: 1095, dtype: float64"
      ]
     },
     "execution_count": 54,
     "metadata": {},
     "output_type": "execute_result"
    }
   ],
   "source": [
    "# generate a rolling mean time series\n",
    "data = pd.Series(values, dates)\n",
    "data"
   ]
  },
  {
   "cell_type": "code",
   "execution_count": 55,
   "metadata": {},
   "outputs": [
    {
     "data": {
      "text/plain": [
       "2011-01-01         NaN\n",
       "2011-01-02         NaN\n",
       "2011-01-03         NaN\n",
       "2011-01-04         NaN\n",
       "2011-01-05         NaN\n",
       "                ...   \n",
       "2013-12-26    0.811402\n",
       "2013-12-27    0.835961\n",
       "2013-12-28    0.850998\n",
       "2013-12-29    0.842293\n",
       "2013-12-30    0.848419\n",
       "Freq: D, Length: 1095, dtype: float64"
      ]
     },
     "execution_count": 55,
     "metadata": {},
     "output_type": "execute_result"
    }
   ],
   "source": [
    "# generate a rolling mean time series\n",
    "rolling = data.rolling(100,100).mean()\n",
    "rolling"
   ]
  },
  {
   "cell_type": "code",
   "execution_count": 56,
   "metadata": {},
   "outputs": [
    {
     "data": {
      "text/plain": [
       "2011-04-10    0.073603\n",
       "2011-04-11    0.057313\n",
       "2011-04-12    0.089255\n",
       "2011-04-13    0.133248\n",
       "2011-04-14    0.175876\n",
       "                ...   \n",
       "2013-12-26    0.811402\n",
       "2013-12-27    0.835961\n",
       "2013-12-28    0.850998\n",
       "2013-12-29    0.842293\n",
       "2013-12-30    0.848419\n",
       "Freq: D, Length: 996, dtype: float64"
      ]
     },
     "execution_count": 56,
     "metadata": {},
     "output_type": "execute_result"
    }
   ],
   "source": [
    "# Drop NaN\n",
    "rolling = data.rolling(100,100).mean().dropna()\n",
    "rolling"
   ]
  },
  {
   "cell_type": "code",
   "execution_count": 57,
   "metadata": {},
   "outputs": [
    {
     "data": {
      "image/png": "[encoded data removed]",
      "text/plain": [
       "<Figure size 432x288 with 1 Axes>"
      ]
     },
     "metadata": {
      "needs_background": "light"
     },
     "output_type": "display_data"
    }
   ],
   "source": [
    "# visualize the series\n",
    "rolling.plot();"
   ]
  },
  {
   "cell_type": "code",
   "execution_count": 58,
   "metadata": {},
   "outputs": [
    {
     "data": {
      "text/plain": [
       "<pandas.core.groupby.generic.SeriesGroupBy object at 0x112e9f4e0>"
      ]
     },
     "execution_count": 58,
     "metadata": {},
     "output_type": "execute_result"
    }
   ],
   "source": [
    "groups = rolling.groupby(lambda x: x.year)\n",
    "groups"
   ]
  },
  {
   "cell_type": "code",
   "execution_count": 59,
   "metadata": {},
   "outputs": [
    {
     "data": {
      "text/plain": [
       "          mean       std\n",
       "2011  0.454233  0.171988\n",
       "2012  0.286874  0.181930\n",
       "2013  0.599933  0.276009"
      ]
     },
     "execution_count": 59,
     "metadata": {},
     "output_type": "execute_result"
    }
   ],
   "source": [
    "groups.agg([np.mean, np.std])"
   ]
  },
  {
   "cell_type": "markdown",
   "metadata": {},
   "source": [
    "<p>The mean is definitely not 0, nor is the standard deviation equal to 1.</p><p>\n",
    "To scale each group into a z score (mean = 0, std = 1), we can use the following function\n",
    "and apply it to each group:</p>"
   ]
  },
  {
   "cell_type": "code",
   "execution_count": 66,
   "metadata": {},
   "outputs": [
    {
     "data": {
      "text/plain": [
       "              mean  std\n",
       "2011 -6.928459e-17  1.0\n",
       "2012  4.246755e-17  1.0\n",
       "2013 -3.278818e-16  1.0"
      ]
     },
     "execution_count": 66,
     "metadata": {},
     "output_type": "execute_result"
    }
   ],
   "source": [
    "# normalize to the z-score\n",
    "zscore = lambda x: (x - x.mean()) / x.std()\n",
    "normed = rolling.groupby(lambda x: x.year).transform(zscore)\n",
    "normed.groupby(lambda x: x.year).agg([np.mean, np.std])"
   ]
  },
  {
   "cell_type": "markdown",
   "metadata": {},
   "source": [
    "<p>This confirms our grouping and scaling to a standard z score.</p><p>\n",
    "As they say, a picture is worth a thousand words. The following code plots the original\n",
    "and normalized values against each other:</p>"
   ]
  },
  {
   "cell_type": "code",
   "execution_count": 67,
   "metadata": {},
   "outputs": [
    {
     "data": {
      "image/png": "[encoded data removed]",
      "text/plain": [
       "<Figure size 432x288 with 1 Axes>"
      ]
     },
     "metadata": {
      "needs_background": "light"
     },
     "output_type": "display_data"
    }
   ],
   "source": [
    "# plot original vs normalize\n",
    "compared = pd.DataFrame({ 'Original': rolling, 'Normed': normed })\n",
    "compared.plot();"
   ]
  },
  {
   "cell_type": "code",
   "execution_count": 68,
   "metadata": {},
   "outputs": [
    {
     "data": {
      "text/plain": [
       "(2011-04-10    0.073603\n",
       " 2011-04-11    0.057313\n",
       " 2011-04-12    0.089255\n",
       " 2011-04-13    0.133248\n",
       " 2011-04-14    0.175876\n",
       "                 ...   \n",
       " 2013-12-26    0.811402\n",
       " 2013-12-27    0.835961\n",
       " 2013-12-28    0.850998\n",
       " 2013-12-29    0.842293\n",
       " 2013-12-30    0.848419\n",
       " Freq: D, Length: 996, dtype: float64,\n",
       " 2011-04-10   -2.213125\n",
       " 2011-04-11   -2.307837\n",
       " 2011-04-12   -2.122115\n",
       " 2011-04-13   -1.866325\n",
       " 2011-04-14   -1.618471\n",
       "                 ...   \n",
       " 2013-12-26    0.766167\n",
       " 2013-12-27    0.855145\n",
       " 2013-12-28    0.909627\n",
       " 2013-12-29    0.878089\n",
       " 2013-12-30    0.900283\n",
       " Freq: D, Length: 996, dtype: float64)"
      ]
     },
     "execution_count": 68,
     "metadata": {},
     "output_type": "execute_result"
    }
   ],
   "source": [
    "rolling, normed"
   ]
  },
  {
   "cell_type": "markdown",
   "metadata": {},
   "source": [
    "<p>We can see that the initial data had a tighter curve and was mostly above 0 (a mean of\n",
    "0.5), as we would expect from the given distribution. The normalized data has a wider\n",
    "range of values, as we moved the mean from 0.5 to 0.0 and also made the standard\n",
    "deviation larger.</p><p>\n",
    "We can perform one more check to see whether we did the math correctly. In a normal\n",
    "distribution, 64.2 percent of the data points should be within a standard deviation of 1:</p>"
   ]
  },
  {
   "cell_type": "code",
   "execution_count": 69,
   "metadata": {},
   "outputs": [
    {
     "data": {
      "text/plain": [
       "646"
      ]
     },
     "execution_count": 69,
     "metadata": {},
     "output_type": "execute_result"
    }
   ],
   "source": [
    "# check the distribution % within one std\n",
    "# should be roughly 64.2%\n",
    "normed_in1std = normed[np.abs(normed) <= 1.0].count()\n",
    "normed_in1std"
   ]
  },
  {
   "cell_type": "code",
   "execution_count": 70,
   "metadata": {},
   "outputs": [
    {
     "data": {
      "text/plain": [
       "0.6485943775100401"
      ]
     },
     "execution_count": 70,
     "metadata": {},
     "output_type": "execute_result"
    }
   ],
   "source": [
    "float(normed_in1std) / len(normed)"
   ]
  },
  {
   "cell_type": "markdown",
   "metadata": {},
   "source": [
    "<h3>Filtering groups</h3>"
   ]
  },
  {
   "cell_type": "markdown",
   "metadata": {},
   "source": [
    "<p>The pandas GroupBy object provides a .filter() method, which can be used to make\n",
    "group level decisions on whether or not the entire group is included in the result after the\n",
    "combination. The function passed to .filter() should return True if the group is to be\n",
    "included in the result and False to exclude it.</p><p>\n",
    "To demonstrate several scenarios, we will use the following DataFrame:</p>"
   ]
  },
  {
   "cell_type": "code",
   "execution_count": 71,
   "metadata": {},
   "outputs": [
    {
     "data": {
      "text/plain": [
       "  Label  Values\n",
       "0     A     1.0\n",
       "1     A     2.0\n",
       "2     B     3.0\n",
       "3     C     4.0\n",
       "4     C     NaN\n",
       "5     C     8.0"
      ]
     },
     "execution_count": 71,
     "metadata": {},
     "output_type": "execute_result"
    }
   ],
   "source": [
    "# data for our examples\n",
    "df = pd.DataFrame({'Label': list('AABCCC'), 'Values': [1, 2, 3, 4, np.nan, 8]})\n",
    "df"
   ]
  },
  {
   "cell_type": "markdown",
   "metadata": {},
   "source": [
    "The first demonstration will drop groups that do not have a minimum number of items.\n",
    "Specifically, if they only have one item or less, they will be omitted (therefore, only\n",
    "selecting groups with Label A and C):"
   ]
  },
  {
   "cell_type": "code",
   "execution_count": 72,
   "metadata": {},
   "outputs": [
    {
     "data": {
      "text/plain": [
       "  Label  Values\n",
       "0     A     1.0\n",
       "1     A     2.0\n",
       "3     C     4.0\n",
       "4     C     NaN\n",
       "5     C     8.0"
      ]
     },
     "execution_count": 72,
     "metadata": {},
     "output_type": "execute_result"
    }
   ],
   "source": [
    "# drop groups with one or fewer non-NaN values\n",
    "f = lambda x: x.Values.count() > 1\n",
    "df.groupby('Label').filter(f)"
   ]
  },
  {
   "cell_type": "markdown",
   "metadata": {},
   "source": [
    "Notice that there is a subtle difference when it comes to using .filter() as compared to\n",
    ".translate(). The data passed to the function specified in the call to .filter() is passed\n",
    "to the columns specified in the .groupby() method. Therefore, in this example, it is\n",
    "necessary to reference the Values column. This can cause some subtle bugs if you forget\n",
    "to take this into account."
   ]
  },
  {
   "cell_type": "markdown",
   "metadata": {},
   "source": [
    "The following will omit groups that do not have all values supplied (which is the C group):"
   ]
  },
  {
   "cell_type": "markdown",
   "metadata": {},
   "source": [
    "The following will select groups that have a mean that is over a particular threshold, larger\n",
    "than the means of all of the groups (basically, a group of data that has exceptional\n",
    "behavior as compared to the whole—in this case, the C group):"
   ]
  },
  {
   "cell_type": "code",
   "execution_count": 74,
   "metadata": {},
   "outputs": [
    {
     "data": {
      "text/plain": [
       "  Label  Values\n",
       "3     C     4.0\n",
       "4     C     NaN\n",
       "5     C     8.0"
      ]
     },
     "execution_count": 74,
     "metadata": {},
     "output_type": "execute_result"
    }
   ],
   "source": [
    "# select groups with a mean of 2.0 or greater\n",
    "grouped = df.groupby('Label')\n",
    "mean = grouped.mean().mean()\n",
    "f = lambda x: abs(x.Values.mean() - mean) > 2.0\n",
    "df.groupby('Label').filter(f)"
   ]
  },
  {
   "cell_type": "markdown",
   "metadata": {},
   "source": [
    "The final example demonstrates that instead of dropping a group, the use of the\n",
    "dropna=False parameter allows the return of the offending groups, but with all their\n",
    "values replaced with NaN. This is useful if you want to determine which items have been\n",
    "omitted:"
   ]
  },
  {
   "cell_type": "code",
   "execution_count": 75,
   "metadata": {},
   "outputs": [
    {
     "data": {
      "text/plain": [
       "  Label  Values\n",
       "0     A     1.0\n",
       "1     A     2.0\n",
       "2   NaN     NaN\n",
       "3     C     4.0\n",
       "4     C     NaN\n",
       "5     C     8.0"
      ]
     },
     "execution_count": 75,
     "metadata": {},
     "output_type": "execute_result"
    }
   ],
   "source": [
    "# replace values in a group where the # of items is <= 1\n",
    "f = lambda x: x.Values.count() > 1\n",
    "df.groupby('Label').filter(f, dropna=False)"
   ]
  },
  {
   "cell_type": "markdown",
   "metadata": {},
   "source": [
    "<h3>Discretization and Binning</h3>"
   ]
  },
  {
   "cell_type": "markdown",
   "metadata": {},
   "source": [
    "<p>Although not directly using grouping constructs, in a chapter on grouping, it is worth\n",
    "explaining the process of discretization of continuous data. Discretization is a means of\n",
    "slicing up continuous data into a set of “bins”, where each bin represents a range of the\n",
    "continuous sample and the items are then placed into the appropriate bin—hence the term\n",
    "“binning”. Discretization in pandas is performed using the pd.cut() and pd.qcut()\n",
    "functions.</p><p>\n",
    "We will look at discretization by generating a large set of normally distributed random\n",
    "numbers and cutting these numbers into various pieces and analyzing the contents of the\n",
    "bins. The following generates 10000 numbers and reports the mean and standard\n",
    "deviation, which we expect to approach 0 and 1 as the sample size gets larger:</p>"
   ]
  },
  {
   "cell_type": "code",
   "execution_count": 78,
   "metadata": {},
   "outputs": [
    {
     "data": {
      "text/plain": [
       "array([ 0.4691123 , -0.28286334, -1.5090585 , ...,  0.26296448,\n",
       "       -0.83377412, -0.10418135])"
      ]
     },
     "execution_count": 78,
     "metadata": {},
     "output_type": "execute_result"
    }
   ],
   "source": [
    "# generate 10000 normal random #'s\n",
    "np.random.seed(123456)\n",
    "dist = np.random.normal(size = 10000)\n",
    "dist"
   ]
  },
  {
   "cell_type": "code",
   "execution_count": 79,
   "metadata": {},
   "outputs": [
    {
     "data": {
      "text/plain": [
       "10000"
      ]
     },
     "execution_count": 79,
     "metadata": {},
     "output_type": "execute_result"
    }
   ],
   "source": [
    "len(dist)"
   ]
  },
  {
   "cell_type": "code",
   "execution_count": 80,
   "metadata": {},
   "outputs": [
    {
     "data": {
      "text/plain": [
       "'-0.002863324040906651 1.008716203199891'"
      ]
     },
     "execution_count": 80,
     "metadata": {},
     "output_type": "execute_result"
    }
   ],
   "source": [
    "# show the mean and std\n",
    "\"{0} {1}\".format(dist.mean(), dist.std())"
   ]
  },
  {
   "cell_type": "markdown",
   "metadata": {},
   "source": [
    "The following cuts the data into five bins evenly spread across the values in the sample:"
   ]
  },
  {
   "cell_type": "code",
   "execution_count": 88,
   "metadata": {},
   "outputs": [
    {
     "data": {
      "text/plain": [
       "[(-0.633, 0.81], (-0.633, 0.81], (-2.077, -0.633], (-2.077, -0.633], (0.81, 2.254], ..., (-2.077, -0.633], (-0.633, 0.81], (-0.633, 0.81], (-2.077, -0.633], (-0.633, 0.81]]\n",
       "Length: 10000\n",
       "Categories (5, interval[float64]): [(-3.528, -2.077] < (-2.077, -0.633] < (-0.633, 0.81] < (0.81, 2.254] < (2.254, 3.698]]"
      ]
     },
     "execution_count": 88,
     "metadata": {},
     "output_type": "execute_result"
    }
   ],
   "source": [
    "# split the data into 5 bins\n",
    "bins = pd.cut(dist, 5)\n",
    "bins"
   ]
  },
  {
   "cell_type": "markdown",
   "metadata": {},
   "source": [
    "<p>The resulting bins object is a type of pandas variable known as Categorical. A\n",
    "categorical variable that is a result of pd.cut() consists of a set of labels and an index that\n",
    "describes how the data has been split.</p><p>\n",
    "The .categories property will return the index and describe the intervals that pandas\n",
    "decided upon</p>"
   ]
  },
  {
   "cell_type": "code",
   "execution_count": 89,
   "metadata": {},
   "outputs": [
    {
     "data": {
      "text/plain": [
       "IntervalIndex([(-3.528, -2.077], (-2.077, -0.633], (-0.633, 0.81], (0.81, 2.254], (2.254, 3.698]],\n",
       "              closed='right',\n",
       "              dtype='interval[float64]')"
      ]
     },
     "execution_count": 89,
     "metadata": {},
     "output_type": "execute_result"
    }
   ],
   "source": [
    "# show the categories in the bins\n",
    "bins.categories"
   ]
  },
  {
   "cell_type": "markdown",
   "metadata": {},
   "source": [
    "Each item in the index represents the range of values that the data has been mapped into.\n",
    "As previously stated, the width of the bins is determined by evenly dividing the data into\n",
    "five equal intervals, with the caveat that pandas automatically increases the overall range\n",
    "by 0.1 percent to ensure that all points are included. To exemplify, we can verify the\n",
    "calculated ranges as follows:"
   ]
  },
  {
   "cell_type": "code",
   "execution_count": 96,
   "metadata": {},
   "outputs": [
    {
     "data": {
      "text/plain": [
       "array([-3.52809473, -2.07714421, -0.63341235,  0.81031951,  2.25405137,\n",
       "        3.69778323])"
      ]
     },
     "execution_count": 96,
     "metadata": {},
     "output_type": "execute_result"
    }
   ],
   "source": [
    "# demonstrate the math to calculate the bins\n",
    "min = dist.min()\n",
    "max = dist.max()\n",
    "delta = max - min\n",
    "iwidth = delta/5\n",
    "extra = delta*0.001\n",
    "intervals = np.arange(min, max + extra, iwidth)\n",
    "intervals[0] -= delta*0.001\n",
    "intervals"
   ]
  },
  {
   "cell_type": "markdown",
   "metadata": {},
   "source": [
    "The .codes property is an array that specifies which of the bins (intervals) each item has\n",
    "been assigned:"
   ]
  },
  {
   "cell_type": "code",
   "execution_count": 97,
   "metadata": {},
   "outputs": [
    {
     "data": {
      "text/plain": [
       "array([2, 2, 1, ..., 2, 1, 2], dtype=int8)"
      ]
     },
     "execution_count": 97,
     "metadata": {},
     "output_type": "execute_result"
    }
   ],
   "source": [
    "# codes tells us which bin each item is in\n",
    "bins.codes"
   ]
  },
  {
   "cell_type": "markdown",
   "metadata": {},
   "source": [
    "The notation for the intervals follows standard mathematical intervals where a parenthesis\n",
    "represents that the end is open while square brackets are closed. Closed ends include\n",
    "values at that exact number. By default, pandas closes the right-hand side of intervals. The\n",
    "closed end can be moved to the left-hand side of the interval using the right=False option\n",
    "in pd.cut():"
   ]
  },
  {
   "cell_type": "code",
   "execution_count": 98,
   "metadata": {},
   "outputs": [
    {
     "data": {
      "text/plain": [
       "IntervalIndex([[-3.521, -2.077), [-2.077, -0.633), [-0.633, 0.81), [0.81, 2.254), [2.254, 3.705)],\n",
       "              closed='left',\n",
       "              dtype='interval[float64]')"
      ]
     },
     "execution_count": 98,
     "metadata": {},
     "output_type": "execute_result"
    }
   ],
   "source": [
    "# move the closed side of the interval to the left\n",
    "pd.cut(dist, 5, right=False).categories"
   ]
  },
  {
   "cell_type": "markdown",
   "metadata": {},
   "source": [
    "The following generates 50 ages between 6 and 45:"
   ]
  },
  {
   "cell_type": "code",
   "execution_count": 99,
   "metadata": {},
   "outputs": [
    {
     "data": {
      "text/plain": [
       "array([ 7, 33, 38, 29, 42, 14, 16, 16, 18, 17, 26, 28, 44, 40, 20, 12,  8,\n",
       "       10, 36, 29, 26, 26, 11, 29, 42, 17, 41, 35, 22, 40, 24, 21, 38, 33,\n",
       "       26, 23, 16, 34, 26, 20, 18, 42, 27, 13, 37, 37, 10,  7, 10, 23])"
      ]
     },
     "execution_count": 99,
     "metadata": {},
     "output_type": "execute_result"
    }
   ],
   "source": [
    "# generate 50 ages between 6 and 45\n",
    "np.random.seed(123456)\n",
    "ages = np.random.randint(6, 45, 50)\n",
    "ages"
   ]
  },
  {
   "cell_type": "markdown",
   "metadata": {},
   "source": [
    "We can specify specific ranges for the bins by passing them in an array where the extent of\n",
    "each bin is specified by each set of adjacent integers. The following cuts the data into the\n",
    "specified bins and reports the distribution of the ages to each bin using the .describe()\n",
    "method of the pd.cut() result:"
   ]
  },
  {
   "cell_type": "code",
   "execution_count": 101,
   "metadata": {},
   "outputs": [
    {
     "data": {
      "text/plain": [
       "            counts  freqs\n",
       "categories               \n",
       "(6, 12]          8   0.16\n",
       "(12, 18]         9   0.18\n",
       "(18, 35]        21   0.42\n",
       "(35, 50]        12   0.24"
      ]
     },
     "execution_count": 101,
     "metadata": {},
     "output_type": "execute_result"
    }
   ],
   "source": [
    "# cut into ranges and then get descriptive stats\n",
    "ranges = [6, 12, 18, 35, 50]\n",
    "agebins = pd.cut(ages, ranges)\n",
    "agebins.describe()"
   ]
  },
  {
   "cell_type": "code",
   "execution_count": 102,
   "metadata": {},
   "outputs": [
    {
     "data": {
      "text/plain": [
       "[(6, 12], (18, 35], (35, 50], (18, 35], (35, 50], ..., (35, 50], (6, 12], (6, 12], (6, 12], (18, 35]]\n",
       "Length: 50\n",
       "Categories (4, interval[int64]): [(6, 12] < (12, 18] < (18, 35] < (35, 50]]"
      ]
     },
     "execution_count": 102,
     "metadata": {},
     "output_type": "execute_result"
    }
   ],
   "source": [
    "agebins"
   ]
  },
  {
   "cell_type": "markdown",
   "metadata": {},
   "source": [
    "To specify a name for each bin that is different than the standard mathematical notation,\n",
    "use the labels property:"
   ]
  },
  {
   "cell_type": "code",
   "execution_count": 104,
   "metadata": {},
   "outputs": [
    {
     "data": {
      "text/plain": [
       "             counts  freqs\n",
       "categories                \n",
       "Youth             8   0.16\n",
       "Young Adult       9   0.18\n",
       "Adult            21   0.42\n",
       "Middle Aged      12   0.24"
      ]
     },
     "execution_count": 104,
     "metadata": {},
     "output_type": "execute_result"
    }
   ],
   "source": [
    "# add names for the bins\n",
    "ranges = [6, 12, 18, 35, 50]\n",
    "myLabels = ['Youth', 'Young Adult', 'Adult', 'Middle Aged']\n",
    "agebins = pd.cut(ages, ranges, labels=myLabels)\n",
    "agebins.describe()"
   ]
  },
  {
   "cell_type": "markdown",
   "metadata": {},
   "source": [
    "<p>This is not only convenient here, but also when plotting the bins, as pandas will pass the\n",
    "bin names to be plotted on a chart.</p><p>\n",
    "Data can also be sliced according to specified quantiles using pd.qcut(). This is the\n",
    "process of placing values into bins such that each bin has the same number of items. To do\n",
    "this, the ranges of the quantiles must be determined during the process, so that the\n",
    "distribution is even.</p><p>\n",
    "The following code splits the random values from earlier into 5 quantile bins, where each\n",
    "bin will have the same number of items allocated to it:</p>"
   ]
  },
  {
   "cell_type": "code",
   "execution_count": 105,
   "metadata": {},
   "outputs": [
    {
     "data": {
      "text/plain": [
       "                  counts  freqs\n",
       "categories                     \n",
       "(-3.522, -0.861]    2000    0.2\n",
       "(-0.861, -0.241]    2000    0.2\n",
       "(-0.241, 0.261]     2000    0.2\n",
       "(0.261, 0.866]      2000    0.2\n",
       "(0.866, 3.698]      2000    0.2"
      ]
     },
     "execution_count": 105,
     "metadata": {},
     "output_type": "execute_result"
    }
   ],
   "source": [
    "# cut into quantiles\n",
    "# 5 bins with an equal quantity of items\n",
    "qbin = pd.qcut(dist, 5)\n",
    "\n",
    "# this will tell us the range of values in each quantile\n",
    "qbin.describe()"
   ]
  },
  {
   "cell_type": "markdown",
   "metadata": {},
   "source": [
    "Instead of an integer number of bins, you can also specify your own quantile ranges. The\n",
    "following allocates ranges based on +/- 3, 2, and 1 standard deviations. As this is normally\n",
    "distributed data, we would expect 0.1 percent, 2.1 percent, 13.6 percent, and 34.1 percent\n",
    "of the values on each side of the mean:"
   ]
  },
  {
   "cell_type": "code",
   "execution_count": 106,
   "metadata": {},
   "outputs": [
    {
     "data": {
      "text/plain": [
       "                    counts  freqs\n",
       "categories                       \n",
       "(-3.522, -3.131]        10  0.001\n",
       "(-3.131, -2.056]       200  0.020\n",
       "(-2.056, -1.033]      1380  0.138\n",
       "(-1.033, -0.00363]    3410  0.341\n",
       "(-0.00363, 1.011]     3410  0.341\n",
       "(1.011, 2.043]        1380  0.138\n",
       "(2.043, 3.062]         200  0.020\n",
       "(3.062, 3.698]          10  0.001"
      ]
     },
     "execution_count": 106,
     "metadata": {},
     "output_type": "execute_result"
    }
   ],
   "source": [
    "# make the quantiles at the +/- 3, 2 and 1 std deviations\n",
    "quantiles = [0,0.001,\n",
    "0.021,\n",
    "0.5-0.341,\n",
    "0.5,\n",
    "0.5+0.341,\n",
    "1.0-0.021,\n",
    "1.0-0.001,\n",
    "1.0]\n",
    "qbin = pd.qcut(dist, quantiles)\n",
    "# this data should be a perfect normal distribution\n",
    "qbin.describe()"
   ]
  },
  {
   "cell_type": "code",
   "execution_count": null,
   "metadata": {},
   "outputs": [],
   "source": [
    "dd"
   ]
  }
 ],
 "metadata": {
  "kernelspec": {
   "display_name": "Python 3",
   "language": "python",
   "name": "python3"
  },
  "language_info": {
   "codemirror_mode": {
    "name": "ipython",
    "version": 3
   },
   "file_extension": ".py",
   "mimetype": "text/x-python",
   "name": "python",
   "nbconvert_exporter": "python",
   "pygments_lexer": "ipython3",
   "version": "3.7.3"
  }
 },
 "nbformat": 4,
 "nbformat_minor": 4
}
