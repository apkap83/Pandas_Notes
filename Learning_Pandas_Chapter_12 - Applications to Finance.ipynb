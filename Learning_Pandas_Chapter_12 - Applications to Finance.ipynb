{
 "cells": [
  {
   "cell_type": "markdown",
   "metadata": {},
   "source": [
    "<h3>Applications to Finance</h3>"
   ]
  },
  {
   "cell_type": "markdown",
   "metadata": {},
   "source": [
    "<p>In this final chapter, we will use pandas to perform a number of different financial\n",
    "analyses of stock data obtained from Yahoo! Finance. We will briefly cover a number of\n",
    "topics in financial analysis. The focus will be on using pandas to derive results from the\n",
    "domain of finance, specifically, time-series stock data, and not on details of the financial\n",
    "theory.</p><p>Specifically, in this chapter, we will progress through the following tasks:</p>\n",
    "    <ul>\n",
    "    <li>Fetching and organizing stock data from Yahoo!</li>\n",
    "<li>Plotting time-series prices</li>\n",
    "<li>Plotting volume-series data</li>\n",
    "<li>Calculating simple daily percentage change</li>\n",
    "<li>Calculating simple daily cumulative returns</li>\n",
    "<li>Resampling data from daily to monthly returns</li>\n",
    "<li>Analyzing distribution of returns</li>\n",
    "<li>Performing a moving-average calculation</li>\n",
    "<li>Comparing average daily returns across stocks</li>\n",
    "<li>Correlating stocks based on the daily percentage change of closing price</li>\n",
    "<li>Volatility calculation</li>\n",
    "<li>Determining risk relative to expected returns</li>\n",
    "</ul>"
   ]
  },
  {
   "cell_type": "code",
   "execution_count": 12,
   "metadata": {},
   "outputs": [],
   "source": [
    "# necessary imports for the workbook\n",
    "import pandas as pd\n",
    "import pandas_datareader.data as web\n",
    "import numpy as np\n",
    "import datetime\n",
    "import matplotlib.pyplot as plt\n",
    "\n",
    "# Set some pandas options\n",
    "pd.set_option('display.notebook_repr_html', False)\n",
    "pd.set_option('display.max_columns', 6)\n",
    "pd.set_option('display.max_rows', 10)\n",
    "pd.set_option('display.width', 78)\n",
    "pd.set_option('precision', 4)\n",
    "\n",
    "# do all our graphics inline\n",
    "%matplotlib inline"
   ]
  },
  {
   "cell_type": "markdown",
   "metadata": {},
   "source": [
    "<h3>Obtaining and organizing stock data from\n",
    "Yahoo!</h3>"
   ]
  },
  {
   "cell_type": "markdown",
   "metadata": {},
   "source": [
    "<p>The first step we will take is to write a couple of functions that help us with retrieving\n",
    "stock data from Yahoo! Finance. We have already seen that this data can be read using a\n",
    "pandas DataReader object, but we will need to organize the data a little differently than\n",
    "how it is provided by Yahoo! as we are going to perform various pivots of this information\n",
    "later.</p><p>\n",
    "To facilitate this, we will start with the following function to get all the Yahoo! data for a\n",
    "specific stock between the two specified dates and also add the stock’s symbol in a column\n",
    "for each entry. This will be needed later for pivots:</p>"
   ]
  },
  {
   "cell_type": "code",
   "execution_count": 15,
   "metadata": {},
   "outputs": [],
   "source": [
    "# read data from Yahoo! Finance for a specific\n",
    "# stock specified by ticker and between the start and end dates\n",
    "def getStockData(ticker, start, end):\n",
    "    # read the data\n",
    "    data = web.DataReader(ticker, \"yahoo\", start, end)\n",
    "    # rename this column\n",
    "    data.rename(columns={'Adj Close': 'AdjClose'}, inplace=True)\n",
    "    # insert in the ticker as a column\n",
    "    data.insert(0, \"Ticker\", ticker)\n",
    "    return data"
   ]
  },
  {
   "cell_type": "markdown",
   "metadata": {},
   "source": [
    "For consistency and reproducibility by the reader, examples in this chapter will use a fixed\n",
    "3-year window spanning the years of 2012 through 2014. The following reads data for that\n",
    "3-year period for the MSFT ticker and prints the first 5 rows:"
   ]
  },
  {
   "cell_type": "code",
   "execution_count": 16,
   "metadata": {},
   "outputs": [
    {
     "data": {
      "text/plain": [
       "           Ticker   High    Low  ...  Close      Volume  AdjClose\n",
       "Date                             ...                             \n",
       "2012-01-03   MSFT  26.96  26.39  ...  26.77  6.4732e+07   21.9596\n",
       "2012-01-04   MSFT  27.47  26.78  ...  27.40  8.0516e+07   22.4764\n",
       "2012-01-05   MSFT  27.73  27.29  ...  27.68  5.6081e+07   22.7061\n",
       "2012-01-06   MSFT  28.19  27.53  ...  28.11  9.9456e+07   23.0588\n",
       "2012-01-09   MSFT  28.10  27.72  ...  27.74  5.9707e+07   22.7553\n",
       "\n",
       "[5 rows x 7 columns]"
      ]
     },
     "execution_count": 16,
     "metadata": {},
     "output_type": "execute_result"
    }
   ],
   "source": [
    "# request the three years of data for MSFT\n",
    "start = datetime.datetime(2012, 1, 1)\n",
    "end = datetime.datetime(2014, 12, 31)\n",
    "getStockData(\"MSFT\", start, end).head()"
   ]
  },
  {
   "cell_type": "markdown",
   "metadata": {},
   "source": [
    "Now that we have a function that can get data for a single ticker, it will be convenient to\n",
    "have a function that can read the data for multiple tickers and return them all in a single\n",
    "data structure. The following code performs this task:"
   ]
  },
  {
   "cell_type": "code",
   "execution_count": 18,
   "metadata": {},
   "outputs": [],
   "source": [
    "# gets data for multiple stocks\n",
    "# tickers: a list of stock symbols to fetch\n",
    "# start and end are the start and end dates\n",
    "def getDataForMultipleStocks(tickers, start, end):\n",
    "    # we return a dictionary\n",
    "    stocks = dict()\n",
    "    # loop through all the tickers\n",
    "    for ticker in tickers:\n",
    "        # get the data for the specific ticker\n",
    "        s = getStockData(ticker, start, end)\n",
    "        # add it to the dictionary\n",
    "        stocks[ticker] = s\n",
    "        # return the dictionary\n",
    "    return stocks"
   ]
  },
  {
   "cell_type": "markdown",
   "metadata": {},
   "source": [
    "<p>The examples in this chapter will use historical quotes for Apple (AAPL), Microsoft\n",
    "(MSFT), General Electric (GE), IBM (IBM), American Airlines (AA), Delta Airlines\n",
    "(DAL), United Airlines (UAL), Pepsi (PEP), and Coca Cola (KO).</p><p>\n",
    "These stocks were chosen deliberately to have a sample of multiple stocks in each of three\n",
    "different sectors: technology, airlines, and soft drinks. The purpose of this is to\n",
    "demonstrate how to derive correlations in various stock price measurements over the\n",
    "selected time period among the stocks in similar sectors and to also demonstrate the\n",
    "difference in stocks between sectors.</p><p>\n",
    "We can read all of these with the following code, which uses the function we just created:</p>"
   ]
  },
  {
   "cell_type": "code",
   "execution_count": 19,
   "metadata": {},
   "outputs": [],
   "source": [
    "# get the data for all the stocks that we want\n",
    "raw = getDataForMultipleStocks([\"MSFT\", \"AAPL\", \"GE\", \"IBM\", \"AA\", \"DAL\",\n",
    "\"UAL\", \"PEP\", \"KO\"], start, end)"
   ]
  },
  {
   "cell_type": "code",
   "execution_count": 20,
   "metadata": {},
   "outputs": [
    {
     "data": {
      "text/plain": [
       "           Ticker   High    Low  ...  Close      Volume  AdjClose\n",
       "Date                             ...                             \n",
       "2012-01-03   MSFT  26.96  26.39  ...  26.77  6.4732e+07   21.9596\n",
       "2012-01-04   MSFT  27.47  26.78  ...  27.40  8.0516e+07   22.4764\n",
       "2012-01-05   MSFT  27.73  27.29  ...  27.68  5.6081e+07   22.7061\n",
       "2012-01-06   MSFT  28.19  27.53  ...  28.11  9.9456e+07   23.0588\n",
       "2012-01-09   MSFT  28.10  27.72  ...  27.74  5.9707e+07   22.7553\n",
       "\n",
       "[5 rows x 7 columns]"
      ]
     },
     "execution_count": 20,
     "metadata": {},
     "output_type": "execute_result"
    }
   ],
   "source": [
    "# take a peek at the data for MSFT\n",
    "raw['MSFT'][:5]"
   ]
  },
  {
   "cell_type": "markdown",
   "metadata": {},
   "source": [
    "We will be particularly interested in the adjusted close values in the AdjClose column.\n",
    "However, it would be most convenient for us if we had a DataFrame object indexed by\n",
    "date but where each column is the stock ticker for one stock and the values in each column\n",
    "are the adjusted close value for that ticker at that date. We can have this format if we pivot\n",
    "the data around. The following function will do this for us:"
   ]
  },
  {
   "cell_type": "code",
   "execution_count": null,
   "metadata": {},
   "outputs": [],
   "source": []
  },
  {
   "cell_type": "code",
   "execution_count": null,
   "metadata": {},
   "outputs": [],
   "source": []
  },
  {
   "cell_type": "code",
   "execution_count": null,
   "metadata": {},
   "outputs": [],
   "source": []
  },
  {
   "cell_type": "code",
   "execution_count": null,
   "metadata": {},
   "outputs": [],
   "source": []
  },
  {
   "cell_type": "code",
   "execution_count": null,
   "metadata": {},
   "outputs": [],
   "source": []
  },
  {
   "cell_type": "code",
   "execution_count": null,
   "metadata": {},
   "outputs": [],
   "source": []
  },
  {
   "cell_type": "code",
   "execution_count": null,
   "metadata": {},
   "outputs": [],
   "source": []
  },
  {
   "cell_type": "code",
   "execution_count": null,
   "metadata": {},
   "outputs": [],
   "source": []
  },
  {
   "cell_type": "code",
   "execution_count": null,
   "metadata": {},
   "outputs": [],
   "source": []
  },
  {
   "cell_type": "code",
   "execution_count": null,
   "metadata": {},
   "outputs": [],
   "source": []
  },
  {
   "cell_type": "code",
   "execution_count": null,
   "metadata": {},
   "outputs": [],
   "source": []
  },
  {
   "cell_type": "code",
   "execution_count": null,
   "metadata": {},
   "outputs": [],
   "source": []
  },
  {
   "cell_type": "code",
   "execution_count": null,
   "metadata": {},
   "outputs": [],
   "source": []
  },
  {
   "cell_type": "code",
   "execution_count": null,
   "metadata": {},
   "outputs": [],
   "source": []
  },
  {
   "cell_type": "code",
   "execution_count": null,
   "metadata": {},
   "outputs": [],
   "source": []
  },
  {
   "cell_type": "code",
   "execution_count": null,
   "metadata": {},
   "outputs": [],
   "source": []
  },
  {
   "cell_type": "code",
   "execution_count": null,
   "metadata": {},
   "outputs": [],
   "source": []
  },
  {
   "cell_type": "code",
   "execution_count": null,
   "metadata": {},
   "outputs": [],
   "source": []
  },
  {
   "cell_type": "code",
   "execution_count": null,
   "metadata": {},
   "outputs": [],
   "source": []
  },
  {
   "cell_type": "code",
   "execution_count": null,
   "metadata": {},
   "outputs": [],
   "source": []
  },
  {
   "cell_type": "code",
   "execution_count": null,
   "metadata": {},
   "outputs": [],
   "source": []
  },
  {
   "cell_type": "code",
   "execution_count": null,
   "metadata": {},
   "outputs": [],
   "source": []
  },
  {
   "cell_type": "code",
   "execution_count": null,
   "metadata": {},
   "outputs": [],
   "source": []
  },
  {
   "cell_type": "code",
   "execution_count": null,
   "metadata": {},
   "outputs": [],
   "source": []
  },
  {
   "cell_type": "code",
   "execution_count": null,
   "metadata": {},
   "outputs": [],
   "source": []
  },
  {
   "cell_type": "code",
   "execution_count": null,
   "metadata": {},
   "outputs": [],
   "source": []
  },
  {
   "cell_type": "code",
   "execution_count": null,
   "metadata": {},
   "outputs": [],
   "source": []
  },
  {
   "cell_type": "code",
   "execution_count": null,
   "metadata": {},
   "outputs": [],
   "source": []
  },
  {
   "cell_type": "code",
   "execution_count": null,
   "metadata": {},
   "outputs": [],
   "source": []
  },
  {
   "cell_type": "code",
   "execution_count": null,
   "metadata": {},
   "outputs": [],
   "source": []
  },
  {
   "cell_type": "code",
   "execution_count": null,
   "metadata": {},
   "outputs": [],
   "source": []
  }
 ],
 "metadata": {
  "kernelspec": {
   "display_name": "Python 3",
   "language": "python",
   "name": "python3"
  },
  "language_info": {
   "codemirror_mode": {
    "name": "ipython",
    "version": 3
   },
   "file_extension": ".py",
   "mimetype": "text/x-python",
   "name": "python",
   "nbconvert_exporter": "python",
   "pygments_lexer": "ipython3",
   "version": "3.7.3"
  }
 },
 "nbformat": 4,
 "nbformat_minor": 4
}
